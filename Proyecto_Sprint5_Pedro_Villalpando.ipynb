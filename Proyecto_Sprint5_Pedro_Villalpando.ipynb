{
 "cells": [
  {
   "cell_type": "markdown",
   "metadata": {
    "id": "3rYiDeEH0q0f"
   },
   "source": [
    "# ¿Cuál es la mejor tarifa?\n",
    "\n",
    "Trabajas como analista para el operador de telecomunicaciones Megaline. La empresa ofrece a sus clientes dos tarifas de prepago, Surf y Ultimate. El departamento comercial quiere saber cuál de las tarifas genera más ingresos para poder ajustar el presupuesto de publicidad.\n",
    "\n",
    "Vas a realizar un análisis preliminar de las tarifas basado en una selección de clientes relativamente pequeña. Tendrás los datos de 500 clientes de Megaline: quiénes son los clientes, de dónde son, qué tarifa usan, así como la cantidad de llamadas que hicieron y los mensajes de texto que enviaron en 2018. Tu trabajo es analizar el comportamiento de los clientes y determinar qué tarifa de prepago genera más ingresos."
   ]
  },
  {
   "cell_type": "markdown",
   "metadata": {
    "id": "VNddPNRQ0q0w"
   },
   "source": [
    "[Te proporcionamos algunos comentarios para orientarte mientras completas este proyecto. Pero debes asegurarte de eliminar todos los comentarios entre corchetes antes de entregar tu proyecto.]\n",
    "\n",
    "[Antes de sumergirte en el análisis de datos, explica por tu propia cuenta el propósito del proyecto y las acciones que planeas realizar.]\n",
    "\n",
    "[Ten en cuenta que estudiar, modificar y analizar datos es un proceso iterativo. Es normal volver a los pasos anteriores y corregirlos/ampliarlos para permitir nuevos pasos.]"
   ]
  },
  {
   "cell_type": "markdown",
   "metadata": {
    "id": "MQi4IPy70q0y"
   },
   "source": [
    "## Inicialización"
   ]
  },
  {
   "cell_type": "code",
   "execution_count": 1,
   "metadata": {
    "id": "MtYIuBxu0q0z"
   },
   "outputs": [],
   "source": [
    "# Cargar todas las librerías\n",
    "from scipy import stats as st\n",
    "import numpy as np\n",
    "import pandas as pd\n",
    "from matplotlib import pyplot as plt\n",
    "import seaborn as sns"
   ]
  },
  {
   "cell_type": "markdown",
   "metadata": {
    "id": "4ysWWC5i0q00"
   },
   "source": [
    "## Cargar datos"
   ]
  },
  {
   "cell_type": "code",
   "execution_count": 2,
   "metadata": {
    "id": "CCqPW7rS0q01"
   },
   "outputs": [],
   "source": [
    "# Carga los archivos de datos en diferentes DataFrames\n",
    "calls = pd.read_csv(\"megaline_calls.csv\",sep=',')\n",
    "internet= pd.read_csv(\"megaline_internet.csv\",sep=',')\n",
    "messages = pd.read_csv(\"megaline_messages.csv\",sep=',')\n",
    "plans = pd.read_csv(\"megaline_plans.csv\",sep=',')\n",
    "users = pd.read_csv(\"megaline_users.csv\",sep=',')\n"
   ]
  },
  {
   "cell_type": "markdown",
   "metadata": {
    "id": "69qqoJ3r0q01"
   },
   "source": [
    "## Preparar los datos"
   ]
  },
  {
   "cell_type": "markdown",
   "metadata": {
    "id": "vUuZw80S0q01"
   },
   "source": [
    "[Los datos para este proyecto se dividen en varias tablas. Explora cada una para tener una comprensión inicial de los datos. Si es necesario, haz las correcciones requeridas en cada tabla.]"
   ]
  },
  {
   "cell_type": "markdown",
   "metadata": {
    "id": "ohBhimvH0q01"
   },
   "source": [
    "## Tarifas"
   ]
  },
  {
   "cell_type": "code",
   "execution_count": 3,
   "metadata": {
    "id": "GptqP3Q40q02"
   },
   "outputs": [
    {
     "name": "stdout",
     "output_type": "stream",
     "text": [
      "<class 'pandas.core.frame.DataFrame'>\n",
      "RangeIndex: 2 entries, 0 to 1\n",
      "Data columns (total 8 columns):\n",
      " #   Column                 Non-Null Count  Dtype  \n",
      "---  ------                 --------------  -----  \n",
      " 0   messages_included      2 non-null      int64  \n",
      " 1   mb_per_month_included  2 non-null      int64  \n",
      " 2   minutes_included       2 non-null      int64  \n",
      " 3   usd_monthly_pay        2 non-null      int64  \n",
      " 4   usd_per_gb             2 non-null      int64  \n",
      " 5   usd_per_message        2 non-null      float64\n",
      " 6   usd_per_minute         2 non-null      float64\n",
      " 7   plan_name              2 non-null      object \n",
      "dtypes: float64(2), int64(5), object(1)\n",
      "memory usage: 260.0+ bytes\n",
      "None\n"
     ]
    }
   ],
   "source": [
    "# Imprime la información general/resumida sobre el DataFrame de las tarifas\n",
    "print(plans.info())\n"
   ]
  },
  {
   "cell_type": "code",
   "execution_count": 4,
   "metadata": {
    "id": "64xzjwL70q02"
   },
   "outputs": [
    {
     "name": "stdout",
     "output_type": "stream",
     "text": [
      "   messages_included  mb_per_month_included  minutes_included  \\\n",
      "0                 50                  15360               500   \n",
      "1               1000                  30720              3000   \n",
      "\n",
      "   usd_monthly_pay  usd_per_gb  usd_per_message  usd_per_minute plan_name  \n",
      "0               20          10             0.03            0.03      surf  \n",
      "1               70           7             0.01            0.01  ultimate  \n"
     ]
    }
   ],
   "source": [
    "# Imprime una muestra de los datos para las tarifas\n",
    "print(plans.head())\n"
   ]
  },
  {
   "cell_type": "markdown",
   "metadata": {
    "id": "mEc_3_hs0q02"
   },
   "source": [
    "[Describe lo que ves y observas en la información general y en la muestra de datos impresa para el precio de datos anterior. ¿Hay algún problema (tipos de datos no adecuados, datos ausentes, etc.) que pudieran necesitar investigación y cambios adicionales? ¿Cómo se puede arreglar?]\n",
    "\n",
    "* Lo que observo es que los tipos de datos para las columnas correspondientes al costo por gb y pago mensual son de tipo entero, yo los cambiaría a flotante, ya que muy probablemente se requieran realizar operaciones matemáticas con ellas, y necesitamos la exactitud que nos proporciona tener decimales."
   ]
  },
  {
   "cell_type": "markdown",
   "metadata": {
    "id": "R3C05i1l0q03"
   },
   "source": [
    "## Corregir datos"
   ]
  },
  {
   "cell_type": "markdown",
   "metadata": {
    "id": "bIi8StZI0q03"
   },
   "source": [
    "[Corrige los problemas obvios con los datos basándote en las observaciones iniciales.]"
   ]
  },
  {
   "cell_type": "code",
   "execution_count": 5,
   "metadata": {
    "id": "Y7SVmjGn0q03"
   },
   "outputs": [
    {
     "name": "stdout",
     "output_type": "stream",
     "text": [
      "<class 'pandas.core.frame.DataFrame'>\n",
      "RangeIndex: 2 entries, 0 to 1\n",
      "Data columns (total 8 columns):\n",
      " #   Column                 Non-Null Count  Dtype  \n",
      "---  ------                 --------------  -----  \n",
      " 0   messages_included      2 non-null      int64  \n",
      " 1   mb_per_month_included  2 non-null      int64  \n",
      " 2   minutes_included       2 non-null      int64  \n",
      " 3   usd_monthly_pay        2 non-null      float64\n",
      " 4   usd_per_gb             2 non-null      float64\n",
      " 5   usd_per_message        2 non-null      float64\n",
      " 6   usd_per_minute         2 non-null      float64\n",
      " 7   plan_name              2 non-null      object \n",
      "dtypes: float64(4), int64(3), object(1)\n",
      "memory usage: 260.0+ bytes\n"
     ]
    }
   ],
   "source": [
    "plans['usd_monthly_pay'] = plans['usd_monthly_pay'].astype(float)\n",
    "plans['usd_per_gb'] = plans['usd_per_gb'].astype(float)\n",
    "\n",
    "plans.info()"
   ]
  },
  {
   "cell_type": "markdown",
   "metadata": {
    "id": "LJir7bml0q03"
   },
   "source": [
    "## Enriquecer los datos"
   ]
  },
  {
   "cell_type": "markdown",
   "metadata": {
    "id": "eqADpCfg0q04"
   },
   "source": [
    "[Agrega factores adicionales a los datos si crees que pudieran ser útiles.]"
   ]
  },
  {
   "cell_type": "markdown",
   "metadata": {
    "id": "1n2X6WXf0q04"
   },
   "source": [
    "## Usuarios/as"
   ]
  },
  {
   "cell_type": "code",
   "execution_count": 6,
   "metadata": {
    "id": "2NgjWFqx0q05"
   },
   "outputs": [
    {
     "name": "stdout",
     "output_type": "stream",
     "text": [
      "<class 'pandas.core.frame.DataFrame'>\n",
      "RangeIndex: 500 entries, 0 to 499\n",
      "Data columns (total 8 columns):\n",
      " #   Column      Non-Null Count  Dtype \n",
      "---  ------      --------------  ----- \n",
      " 0   user_id     500 non-null    int64 \n",
      " 1   first_name  500 non-null    object\n",
      " 2   last_name   500 non-null    object\n",
      " 3   age         500 non-null    int64 \n",
      " 4   city        500 non-null    object\n",
      " 5   reg_date    500 non-null    object\n",
      " 6   plan        500 non-null    object\n",
      " 7   churn_date  34 non-null     object\n",
      "dtypes: int64(2), object(6)\n",
      "memory usage: 31.4+ KB\n",
      "None\n"
     ]
    }
   ],
   "source": [
    "# Imprime la información general/resumida sobre el DataFrame de usuarios\n",
    "\n",
    "print(users.info())"
   ]
  },
  {
   "cell_type": "code",
   "execution_count": 7,
   "metadata": {
    "id": "1IN1L9uh0q05"
   },
   "outputs": [
    {
     "name": "stdout",
     "output_type": "stream",
     "text": [
      "     user_id first_name  last_name  age  \\\n",
      "261     1261      Dusti     Forbes   31   \n",
      "146     1146       Loma     Mcneil   42   \n",
      "424     1424   Kasandra      Keith   51   \n",
      "45      1045     Barney     Ortega   20   \n",
      "315     1315       Mora  Schroeder   45   \n",
      "446     1446   Pasquale       Ball   52   \n",
      "487     1487      Elton    Simpson   18   \n",
      "434     1434        Kai       Barr   18   \n",
      "460     1460    Winford  Underwood   46   \n",
      "3       1003   Reynaldo    Jenkins   52   \n",
      "\n",
      "                                               city    reg_date      plan  \\\n",
      "261                          Kansas City, MO-KS MSA  2018-02-22      surf   \n",
      "146       New York-Newark-Jersey City, NY-NJ-PA MSA  2018-10-13      surf   \n",
      "424  Virginia Beach-Norfolk-Newport News, VA-NC MSA  2018-07-24  ultimate   \n",
      "45        New York-Newark-Jersey City, NY-NJ-PA MSA  2018-10-15      surf   \n",
      "315                            Raleigh-Cary, NC MSA  2018-04-26      surf   \n",
      "446            Austin-Round Rock-Georgetown, TX MSA  2018-09-10      surf   \n",
      "487                   Cape Coral-Fort Myers, FL MSA  2018-08-16  ultimate   \n",
      "434       New York-Newark-Jersey City, NY-NJ-PA MSA  2018-03-06      surf   \n",
      "460                                  Fresno, CA MSA  2018-05-28  ultimate   \n",
      "3                                     Tulsa, OK MSA  2018-01-28      surf   \n",
      "\n",
      "     churn_date  \n",
      "261         NaN  \n",
      "146         NaN  \n",
      "424         NaN  \n",
      "45          NaN  \n",
      "315  2018-10-03  \n",
      "446         NaN  \n",
      "487         NaN  \n",
      "434         NaN  \n",
      "460         NaN  \n",
      "3           NaN  \n"
     ]
    }
   ],
   "source": [
    "# Imprime una muestra de datos para usuarios\n",
    "\n",
    "print(users.sample(10))"
   ]
  },
  {
   "cell_type": "markdown",
   "metadata": {
    "id": "dCZoUq4f0q06"
   },
   "source": [
    "[Describe lo que ves y observas en la información general y en la muestra de datos impresa para el precio de datos anterior. ¿Hay algún problema (tipos de datos no adecuados, datos ausentes, etc.) que pudieran necesitar investigación y cambios adicionales? ¿Cómo se puede arreglar?]\n",
    "\n",
    "* Se observa que los datos de la columna reg_date son de tipo object, por lo que la sugerencia es cambiar el tipo de dato a datetime64 con la funcion de pandas to_datetime, ya que esto nos permitirá obtener datos de dia, mes y año de la fecha correctamente e incluso hacer algunos calculos con fechas.\n",
    "\n",
    "* De igual manera se encuentra la columna churn_date que se refiere la fecha en que el suscriptor dejo el plan, con valores ausentes, en la info previa se describe ese valor nulo como incluso información ya que si el valor es nulo entonces significa que su plan esta activo. Lo que sugiero hacer es enriquecer el dataframe con una columna que nos diga si el cliente esta activo o no. "
   ]
  },
  {
   "cell_type": "markdown",
   "metadata": {
    "id": "BX5FQh_I0q06"
   },
   "source": [
    "### Corregir los datos"
   ]
  },
  {
   "cell_type": "markdown",
   "metadata": {
    "id": "8OdKMwJv0q06"
   },
   "source": [
    "[Corrige los problemas obvios con los datos basándote en las observaciones iniciales.]"
   ]
  },
  {
   "cell_type": "code",
   "execution_count": 8,
   "metadata": {
    "id": "yUqX-K0C0q07"
   },
   "outputs": [
    {
     "name": "stdout",
     "output_type": "stream",
     "text": [
      "<class 'pandas.core.frame.DataFrame'>\n",
      "RangeIndex: 500 entries, 0 to 499\n",
      "Data columns (total 8 columns):\n",
      " #   Column      Non-Null Count  Dtype         \n",
      "---  ------      --------------  -----         \n",
      " 0   user_id     500 non-null    int64         \n",
      " 1   first_name  500 non-null    object        \n",
      " 2   last_name   500 non-null    object        \n",
      " 3   age         500 non-null    int64         \n",
      " 4   city        500 non-null    object        \n",
      " 5   reg_date    500 non-null    datetime64[ns]\n",
      " 6   plan        500 non-null    object        \n",
      " 7   churn_date  34 non-null     object        \n",
      "dtypes: datetime64[ns](1), int64(2), object(5)\n",
      "memory usage: 31.4+ KB\n"
     ]
    }
   ],
   "source": [
    "users['reg_date'] = pd.to_datetime(users['reg_date'],format='%Y-%m-%d')\n",
    "\n",
    "users.info()"
   ]
  },
  {
   "cell_type": "markdown",
   "metadata": {
    "id": "ycwuARJp0q07"
   },
   "source": [
    "### Enriquecer los datos"
   ]
  },
  {
   "cell_type": "markdown",
   "metadata": {
    "id": "96NIh4CJ0q08"
   },
   "source": [
    "[Agrega factores adicionales a los datos si crees que pudieran ser útiles.]\n",
    "\n",
    "Prepararé aquí los dataframes necesarios para la ultima prueba de hipotesis que solicita separar los datos de los ususarios de NY-NJ del resto"
   ]
  },
  {
   "cell_type": "code",
   "execution_count": 9,
   "metadata": {},
   "outputs": [
    {
     "data": {
      "application/vnd.microsoft.datawrangler.viewer.v0+json": {
       "columns": [
        {
         "name": "index",
         "rawType": "int64",
         "type": "integer"
        },
        {
         "name": "user_id",
         "rawType": "int64",
         "type": "integer"
        },
        {
         "name": "first_name",
         "rawType": "object",
         "type": "string"
        },
        {
         "name": "last_name",
         "rawType": "object",
         "type": "string"
        },
        {
         "name": "age",
         "rawType": "int64",
         "type": "integer"
        },
        {
         "name": "city",
         "rawType": "object",
         "type": "string"
        },
        {
         "name": "reg_date",
         "rawType": "datetime64[ns]",
         "type": "datetime"
        },
        {
         "name": "plan",
         "rawType": "object",
         "type": "string"
        },
        {
         "name": "churn_date",
         "rawType": "object",
         "type": "unknown"
        }
       ],
       "conversionMethod": "pd.DataFrame",
       "ref": "c9ad8bb6-e200-4760-b064-8d9b023d1bc9",
       "rows": [
        [
         "14",
         "1014",
         "Edmundo",
         "Simon",
         "61",
         "New York-Newark-Jersey City, NY-NJ-PA MSA",
         "2018-11-25 00:00:00",
         "surf",
         null
        ],
        [
         "22",
         "1022",
         "Bo",
         "Snow",
         "73",
         "New York-Newark-Jersey City, NY-NJ-PA MSA",
         "2018-04-20 00:00:00",
         "surf",
         "2018-09-07"
        ],
        [
         "24",
         "1024",
         "Yuki",
         "Tyson",
         "74",
         "New York-Newark-Jersey City, NY-NJ-PA MSA",
         "2018-08-21 00:00:00",
         "surf",
         null
        ],
        [
         "27",
         "1027",
         "Georgeanna",
         "Cardenas",
         "38",
         "New York-Newark-Jersey City, NY-NJ-PA MSA",
         "2018-06-26 00:00:00",
         "surf",
         null
        ],
        [
         "31",
         "1031",
         "Lane",
         "Martin",
         "52",
         "New York-Newark-Jersey City, NY-NJ-PA MSA",
         "2018-07-15 00:00:00",
         "ultimate",
         null
        ],
        [
         "34",
         "1034",
         "Jc",
         "Gentry",
         "22",
         "New York-Newark-Jersey City, NY-NJ-PA MSA",
         "2018-08-13 00:00:00",
         "surf",
         null
        ],
        [
         "43",
         "1043",
         "Carlos",
         "Hinton",
         "42",
         "New York-Newark-Jersey City, NY-NJ-PA MSA",
         "2018-06-20 00:00:00",
         "ultimate",
         null
        ],
        [
         "45",
         "1045",
         "Barney",
         "Ortega",
         "20",
         "New York-Newark-Jersey City, NY-NJ-PA MSA",
         "2018-10-15 00:00:00",
         "surf",
         null
        ],
        [
         "49",
         "1049",
         "Loise",
         "Avery",
         "25",
         "New York-Newark-Jersey City, NY-NJ-PA MSA",
         "2018-02-21 00:00:00",
         "surf",
         null
        ],
        [
         "53",
         "1053",
         "Piper",
         "Espinoza",
         "27",
         "New York-Newark-Jersey City, NY-NJ-PA MSA",
         "2018-07-30 00:00:00",
         "surf",
         null
        ],
        [
         "63",
         "1063",
         "Larhonda",
         "Hartman",
         "60",
         "New York-Newark-Jersey City, NY-NJ-PA MSA",
         "2018-11-05 00:00:00",
         "ultimate",
         null
        ],
        [
         "64",
         "1064",
         "Gerardo",
         "Ashley",
         "46",
         "New York-Newark-Jersey City, NY-NJ-PA MSA",
         "2018-06-03 00:00:00",
         "surf",
         null
        ],
        [
         "68",
         "1068",
         "Marcel",
         "Jimenez",
         "47",
         "New York-Newark-Jersey City, NY-NJ-PA MSA",
         "2018-01-29 00:00:00",
         "surf",
         null
        ],
        [
         "71",
         "1071",
         "Isa",
         "Roy",
         "29",
         "New York-Newark-Jersey City, NY-NJ-PA MSA",
         "2018-05-23 00:00:00",
         "surf",
         null
        ],
        [
         "79",
         "1079",
         "Brian",
         "Mccall",
         "48",
         "New York-Newark-Jersey City, NY-NJ-PA MSA",
         "2018-01-26 00:00:00",
         "surf",
         null
        ],
        [
         "80",
         "1080",
         "Neal",
         "Mcgee",
         "45",
         "New York-Newark-Jersey City, NY-NJ-PA MSA",
         "2018-08-03 00:00:00",
         "surf",
         null
        ],
        [
         "86",
         "1086",
         "Adena",
         "Macias",
         "36",
         "New York-Newark-Jersey City, NY-NJ-PA MSA",
         "2018-01-13 00:00:00",
         "ultimate",
         null
        ],
        [
         "96",
         "1096",
         "Song",
         "Cline",
         "28",
         "New York-Newark-Jersey City, NY-NJ-PA MSA",
         "2018-12-22 00:00:00",
         "ultimate",
         null
        ],
        [
         "99",
         "1099",
         "Shavon",
         "Banks",
         "48",
         "New York-Newark-Jersey City, NY-NJ-PA MSA",
         "2018-02-26 00:00:00",
         "surf",
         null
        ],
        [
         "100",
         "1100",
         "Aaron",
         "Rowe",
         "65",
         "New York-Newark-Jersey City, NY-NJ-PA MSA",
         "2018-02-13 00:00:00",
         "surf",
         null
        ],
        [
         "106",
         "1106",
         "Eddy",
         "Garrison",
         "47",
         "New York-Newark-Jersey City, NY-NJ-PA MSA",
         "2018-05-10 00:00:00",
         "surf",
         "2018-11-14"
        ],
        [
         "107",
         "1107",
         "Lane",
         "Cash",
         "61",
         "New York-Newark-Jersey City, NY-NJ-PA MSA",
         "2018-11-15 00:00:00",
         "ultimate",
         null
        ],
        [
         "109",
         "1109",
         "Dominic",
         "Salinas",
         "41",
         "New York-Newark-Jersey City, NY-NJ-PA MSA",
         "2018-02-16 00:00:00",
         "surf",
         null
        ],
        [
         "113",
         "1113",
         "Spencer",
         "Powers",
         "27",
         "New York-Newark-Jersey City, NY-NJ-PA MSA",
         "2018-06-04 00:00:00",
         "ultimate",
         null
        ],
        [
         "114",
         "1114",
         "Esta",
         "Estes",
         "55",
         "New York-Newark-Jersey City, NY-NJ-PA MSA",
         "2018-07-21 00:00:00",
         "surf",
         null
        ],
        [
         "120",
         "1120",
         "Abraham",
         "Mcconnell",
         "33",
         "New York-Newark-Jersey City, NY-NJ-PA MSA",
         "2018-04-03 00:00:00",
         "surf",
         null
        ],
        [
         "127",
         "1127",
         "Marchelle",
         "Brock",
         "28",
         "New York-Newark-Jersey City, NY-NJ-PA MSA",
         "2018-06-23 00:00:00",
         "surf",
         null
        ],
        [
         "140",
         "1140",
         "Randolph",
         "Graves",
         "53",
         "New York-Newark-Jersey City, NY-NJ-PA MSA",
         "2018-03-26 00:00:00",
         "surf",
         null
        ],
        [
         "141",
         "1141",
         "Kirstie",
         "Hodges",
         "46",
         "New York-Newark-Jersey City, NY-NJ-PA MSA",
         "2018-06-26 00:00:00",
         "surf",
         null
        ],
        [
         "144",
         "1144",
         "Kaycee",
         "Peterson",
         "65",
         "New York-Newark-Jersey City, NY-NJ-PA MSA",
         "2018-04-21 00:00:00",
         "ultimate",
         null
        ],
        [
         "146",
         "1146",
         "Loma",
         "Mcneil",
         "42",
         "New York-Newark-Jersey City, NY-NJ-PA MSA",
         "2018-10-13 00:00:00",
         "surf",
         null
        ],
        [
         "151",
         "1151",
         "Ralph",
         "Monroe",
         "21",
         "New York-Newark-Jersey City, NY-NJ-PA MSA",
         "2018-03-20 00:00:00",
         "surf",
         null
        ],
        [
         "161",
         "1161",
         "Florance",
         "Estrada",
         "52",
         "New York-Newark-Jersey City, NY-NJ-PA MSA",
         "2018-11-27 00:00:00",
         "ultimate",
         null
        ],
        [
         "169",
         "1169",
         "Hai",
         "Bean",
         "67",
         "New York-Newark-Jersey City, NY-NJ-PA MSA",
         "2018-12-06 00:00:00",
         "surf",
         null
        ],
        [
         "175",
         "1175",
         "Shiloh",
         "Stafford",
         "25",
         "New York-Newark-Jersey City, NY-NJ-PA MSA",
         "2018-09-30 00:00:00",
         "surf",
         null
        ],
        [
         "176",
         "1176",
         "Terrance",
         "Shaffer",
         "75",
         "New York-Newark-Jersey City, NY-NJ-PA MSA",
         "2018-10-03 00:00:00",
         "surf",
         null
        ],
        [
         "180",
         "1180",
         "Wonda",
         "Hays",
         "24",
         "New York-Newark-Jersey City, NY-NJ-PA MSA",
         "2018-12-01 00:00:00",
         "surf",
         "2018-12-22"
        ],
        [
         "181",
         "1181",
         "Ron",
         "Kaufman",
         "47",
         "New York-Newark-Jersey City, NY-NJ-PA MSA",
         "2018-04-13 00:00:00",
         "surf",
         null
        ],
        [
         "197",
         "1197",
         "Lon",
         "Parker",
         "56",
         "New York-Newark-Jersey City, NY-NJ-PA MSA",
         "2018-11-05 00:00:00",
         "surf",
         null
        ],
        [
         "198",
         "1198",
         "Russ",
         "Horne",
         "69",
         "New York-Newark-Jersey City, NY-NJ-PA MSA",
         "2018-05-01 00:00:00",
         "surf",
         null
        ],
        [
         "205",
         "1205",
         "Rafael",
         "Wade",
         "43",
         "New York-Newark-Jersey City, NY-NJ-PA MSA",
         "2018-04-05 00:00:00",
         "surf",
         null
        ],
        [
         "211",
         "1211",
         "Vito",
         "Cameron",
         "60",
         "New York-Newark-Jersey City, NY-NJ-PA MSA",
         "2018-06-30 00:00:00",
         "ultimate",
         null
        ],
        [
         "215",
         "1215",
         "Adelle",
         "Knapp",
         "70",
         "New York-Newark-Jersey City, NY-NJ-PA MSA",
         "2018-07-01 00:00:00",
         "surf",
         null
        ],
        [
         "230",
         "1230",
         "Andre",
         "Estes",
         "38",
         "New York-Newark-Jersey City, NY-NJ-PA MSA",
         "2018-02-27 00:00:00",
         "ultimate",
         null
        ],
        [
         "237",
         "1237",
         "Leighann",
         "Wheeler",
         "50",
         "New York-Newark-Jersey City, NY-NJ-PA MSA",
         "2018-08-26 00:00:00",
         "ultimate",
         null
        ],
        [
         "245",
         "1245",
         "Quinn",
         "David",
         "30",
         "New York-Newark-Jersey City, NY-NJ-PA MSA",
         "2018-06-19 00:00:00",
         "surf",
         null
        ],
        [
         "251",
         "1251",
         "Tifany",
         "Mcgee",
         "45",
         "New York-Newark-Jersey City, NY-NJ-PA MSA",
         "2018-01-01 00:00:00",
         "surf",
         null
        ],
        [
         "257",
         "1257",
         "Gabriel",
         "O'donnell",
         "61",
         "New York-Newark-Jersey City, NY-NJ-PA MSA",
         "2018-01-29 00:00:00",
         "surf",
         null
        ],
        [
         "266",
         "1266",
         "Dorie",
         "Chandler",
         "62",
         "New York-Newark-Jersey City, NY-NJ-PA MSA",
         "2018-12-13 00:00:00",
         "surf",
         null
        ],
        [
         "271",
         "1271",
         "Darrin",
         "Rose",
         "48",
         "New York-Newark-Jersey City, NY-NJ-PA MSA",
         "2018-06-24 00:00:00",
         "surf",
         null
        ]
       ],
       "shape": {
        "columns": 8,
        "rows": 80
       }
      },
      "text/html": [
       "<div>\n",
       "<style scoped>\n",
       "    .dataframe tbody tr th:only-of-type {\n",
       "        vertical-align: middle;\n",
       "    }\n",
       "\n",
       "    .dataframe tbody tr th {\n",
       "        vertical-align: top;\n",
       "    }\n",
       "\n",
       "    .dataframe thead th {\n",
       "        text-align: right;\n",
       "    }\n",
       "</style>\n",
       "<table border=\"1\" class=\"dataframe\">\n",
       "  <thead>\n",
       "    <tr style=\"text-align: right;\">\n",
       "      <th></th>\n",
       "      <th>user_id</th>\n",
       "      <th>first_name</th>\n",
       "      <th>last_name</th>\n",
       "      <th>age</th>\n",
       "      <th>city</th>\n",
       "      <th>reg_date</th>\n",
       "      <th>plan</th>\n",
       "      <th>churn_date</th>\n",
       "    </tr>\n",
       "  </thead>\n",
       "  <tbody>\n",
       "    <tr>\n",
       "      <th>14</th>\n",
       "      <td>1014</td>\n",
       "      <td>Edmundo</td>\n",
       "      <td>Simon</td>\n",
       "      <td>61</td>\n",
       "      <td>New York-Newark-Jersey City, NY-NJ-PA MSA</td>\n",
       "      <td>2018-11-25</td>\n",
       "      <td>surf</td>\n",
       "      <td>NaN</td>\n",
       "    </tr>\n",
       "    <tr>\n",
       "      <th>22</th>\n",
       "      <td>1022</td>\n",
       "      <td>Bo</td>\n",
       "      <td>Snow</td>\n",
       "      <td>73</td>\n",
       "      <td>New York-Newark-Jersey City, NY-NJ-PA MSA</td>\n",
       "      <td>2018-04-20</td>\n",
       "      <td>surf</td>\n",
       "      <td>2018-09-07</td>\n",
       "    </tr>\n",
       "    <tr>\n",
       "      <th>24</th>\n",
       "      <td>1024</td>\n",
       "      <td>Yuki</td>\n",
       "      <td>Tyson</td>\n",
       "      <td>74</td>\n",
       "      <td>New York-Newark-Jersey City, NY-NJ-PA MSA</td>\n",
       "      <td>2018-08-21</td>\n",
       "      <td>surf</td>\n",
       "      <td>NaN</td>\n",
       "    </tr>\n",
       "    <tr>\n",
       "      <th>27</th>\n",
       "      <td>1027</td>\n",
       "      <td>Georgeanna</td>\n",
       "      <td>Cardenas</td>\n",
       "      <td>38</td>\n",
       "      <td>New York-Newark-Jersey City, NY-NJ-PA MSA</td>\n",
       "      <td>2018-06-26</td>\n",
       "      <td>surf</td>\n",
       "      <td>NaN</td>\n",
       "    </tr>\n",
       "    <tr>\n",
       "      <th>31</th>\n",
       "      <td>1031</td>\n",
       "      <td>Lane</td>\n",
       "      <td>Martin</td>\n",
       "      <td>52</td>\n",
       "      <td>New York-Newark-Jersey City, NY-NJ-PA MSA</td>\n",
       "      <td>2018-07-15</td>\n",
       "      <td>ultimate</td>\n",
       "      <td>NaN</td>\n",
       "    </tr>\n",
       "    <tr>\n",
       "      <th>...</th>\n",
       "      <td>...</td>\n",
       "      <td>...</td>\n",
       "      <td>...</td>\n",
       "      <td>...</td>\n",
       "      <td>...</td>\n",
       "      <td>...</td>\n",
       "      <td>...</td>\n",
       "      <td>...</td>\n",
       "    </tr>\n",
       "    <tr>\n",
       "      <th>469</th>\n",
       "      <td>1469</td>\n",
       "      <td>Rory</td>\n",
       "      <td>Nixon</td>\n",
       "      <td>75</td>\n",
       "      <td>New York-Newark-Jersey City, NY-NJ-PA MSA</td>\n",
       "      <td>2018-06-04</td>\n",
       "      <td>surf</td>\n",
       "      <td>NaN</td>\n",
       "    </tr>\n",
       "    <tr>\n",
       "      <th>482</th>\n",
       "      <td>1482</td>\n",
       "      <td>Armand</td>\n",
       "      <td>Glenn</td>\n",
       "      <td>70</td>\n",
       "      <td>New York-Newark-Jersey City, NY-NJ-PA MSA</td>\n",
       "      <td>2018-01-01</td>\n",
       "      <td>ultimate</td>\n",
       "      <td>NaN</td>\n",
       "    </tr>\n",
       "    <tr>\n",
       "      <th>494</th>\n",
       "      <td>1494</td>\n",
       "      <td>Preston</td>\n",
       "      <td>Downs</td>\n",
       "      <td>70</td>\n",
       "      <td>New York-Newark-Jersey City, NY-NJ-PA MSA</td>\n",
       "      <td>2018-04-19</td>\n",
       "      <td>surf</td>\n",
       "      <td>NaN</td>\n",
       "    </tr>\n",
       "    <tr>\n",
       "      <th>495</th>\n",
       "      <td>1495</td>\n",
       "      <td>Fidel</td>\n",
       "      <td>Sharpe</td>\n",
       "      <td>67</td>\n",
       "      <td>New York-Newark-Jersey City, NY-NJ-PA MSA</td>\n",
       "      <td>2018-09-04</td>\n",
       "      <td>surf</td>\n",
       "      <td>NaN</td>\n",
       "    </tr>\n",
       "    <tr>\n",
       "      <th>498</th>\n",
       "      <td>1498</td>\n",
       "      <td>Scot</td>\n",
       "      <td>Williamson</td>\n",
       "      <td>51</td>\n",
       "      <td>New York-Newark-Jersey City, NY-NJ-PA MSA</td>\n",
       "      <td>2018-02-04</td>\n",
       "      <td>surf</td>\n",
       "      <td>NaN</td>\n",
       "    </tr>\n",
       "  </tbody>\n",
       "</table>\n",
       "<p>80 rows × 8 columns</p>\n",
       "</div>"
      ],
      "text/plain": [
       "     user_id  first_name   last_name  age  \\\n",
       "14      1014     Edmundo       Simon   61   \n",
       "22      1022          Bo        Snow   73   \n",
       "24      1024        Yuki       Tyson   74   \n",
       "27      1027  Georgeanna    Cardenas   38   \n",
       "31      1031        Lane      Martin   52   \n",
       "..       ...         ...         ...  ...   \n",
       "469     1469        Rory       Nixon   75   \n",
       "482     1482      Armand       Glenn   70   \n",
       "494     1494     Preston       Downs   70   \n",
       "495     1495       Fidel      Sharpe   67   \n",
       "498     1498        Scot  Williamson   51   \n",
       "\n",
       "                                          city   reg_date      plan  \\\n",
       "14   New York-Newark-Jersey City, NY-NJ-PA MSA 2018-11-25      surf   \n",
       "22   New York-Newark-Jersey City, NY-NJ-PA MSA 2018-04-20      surf   \n",
       "24   New York-Newark-Jersey City, NY-NJ-PA MSA 2018-08-21      surf   \n",
       "27   New York-Newark-Jersey City, NY-NJ-PA MSA 2018-06-26      surf   \n",
       "31   New York-Newark-Jersey City, NY-NJ-PA MSA 2018-07-15  ultimate   \n",
       "..                                         ...        ...       ...   \n",
       "469  New York-Newark-Jersey City, NY-NJ-PA MSA 2018-06-04      surf   \n",
       "482  New York-Newark-Jersey City, NY-NJ-PA MSA 2018-01-01  ultimate   \n",
       "494  New York-Newark-Jersey City, NY-NJ-PA MSA 2018-04-19      surf   \n",
       "495  New York-Newark-Jersey City, NY-NJ-PA MSA 2018-09-04      surf   \n",
       "498  New York-Newark-Jersey City, NY-NJ-PA MSA 2018-02-04      surf   \n",
       "\n",
       "     churn_date  \n",
       "14          NaN  \n",
       "22   2018-09-07  \n",
       "24          NaN  \n",
       "27          NaN  \n",
       "31          NaN  \n",
       "..          ...  \n",
       "469         NaN  \n",
       "482         NaN  \n",
       "494         NaN  \n",
       "495         NaN  \n",
       "498         NaN  \n",
       "\n",
       "[80 rows x 8 columns]"
      ]
     },
     "execution_count": 9,
     "metadata": {},
     "output_type": "execute_result"
    }
   ],
   "source": [
    "#Separar los datos para los que son usuarios de NY-NJ del resto de los usuarios\n",
    "# Filtramos con .contains los datos para separar los usuarios de NY-NJ y el resto de los usuarios del dataframe users\n",
    "data_ny_nj = users[users['city'].str.contains('NY-NJ')]\n",
    "# Filtramos los datos para separar el resto de los usuarios\n",
    "data_other = users[~users['city'].str.contains('NY-NJ')]\n",
    "\n",
    "data_ny_nj"
   ]
  },
  {
   "cell_type": "markdown",
   "metadata": {
    "id": "o7MeKCid0q08"
   },
   "source": [
    "## Llamadas"
   ]
  },
  {
   "cell_type": "code",
   "execution_count": 10,
   "metadata": {
    "id": "6dDlnoDm0q08"
   },
   "outputs": [
    {
     "name": "stdout",
     "output_type": "stream",
     "text": [
      "<class 'pandas.core.frame.DataFrame'>\n",
      "RangeIndex: 137735 entries, 0 to 137734\n",
      "Data columns (total 4 columns):\n",
      " #   Column     Non-Null Count   Dtype  \n",
      "---  ------     --------------   -----  \n",
      " 0   id         137735 non-null  object \n",
      " 1   user_id    137735 non-null  int64  \n",
      " 2   call_date  137735 non-null  object \n",
      " 3   duration   137735 non-null  float64\n",
      "dtypes: float64(1), int64(1), object(2)\n",
      "memory usage: 4.2+ MB\n",
      "None\n"
     ]
    }
   ],
   "source": [
    "# Imprime la información general/resumida sobre el DataFrame de las llamadas\n",
    "print(calls.info())"
   ]
  },
  {
   "cell_type": "code",
   "execution_count": 11,
   "metadata": {
    "id": "kuh1vlNB0q09"
   },
   "outputs": [
    {
     "name": "stdout",
     "output_type": "stream",
     "text": [
      "               id  user_id   call_date  duration\n",
      "125094   1440_610     1440  2018-07-19     13.04\n",
      "133066   1480_364     1480  2018-12-22     13.79\n",
      "79534   1284_1072     1284  2018-12-08      1.72\n",
      "51373    1185_411     1185  2018-05-20      0.00\n",
      "98062    1352_339     1352  2018-10-09      0.00\n",
      "50982     1185_20     1185  2018-02-17      1.28\n",
      "29051    1110_102     1110  2018-12-28      0.00\n",
      "23942    1090_116     1090  2018-05-23      8.79\n",
      "63818     1232_42     1232  2018-05-06      9.12\n",
      "86286    1318_175     1318  2018-12-26      0.00\n",
      "20955    1077_922     1077  2018-04-17      8.91\n",
      "79200     1284_60     1284  2018-12-15      2.87\n",
      "9418     1042_349     1042  2018-08-25      0.00\n",
      "20663    1077_630     1077  2018-11-05      8.87\n",
      "128551   1461_195     1461  2018-11-18      9.23\n"
     ]
    }
   ],
   "source": [
    "# Imprime una muestra de datos para las llamadas\n",
    "print(calls.sample(15))\n"
   ]
  },
  {
   "cell_type": "markdown",
   "metadata": {
    "id": "DOAxYJSx0q09"
   },
   "source": [
    "[Describe lo que ves y observas en la información general y en la muestra de datos impresa para el precio de datos anterior. ¿Hay algún problema (tipos de datos no adecuados, datos ausentes, etc.) que pudieran necesitar investigación y cambios adicionales? ¿Cómo se puede arreglar?]\n",
    "\n",
    "* La columna call_date que se refiere a la fecha de la llamada tiene el tipo de dato object, por lo sugerible es cambiar el tipo de dato a datetime64 con la función de pandas to_datetime."
   ]
  },
  {
   "cell_type": "markdown",
   "metadata": {
    "id": "S7hzxmbX0q0-"
   },
   "source": [
    "### Corregir los datos"
   ]
  },
  {
   "cell_type": "markdown",
   "metadata": {
    "id": "YxWyAjD20q0-"
   },
   "source": [
    "[Corrige los problemas obvios con los datos basándote en las observaciones iniciales.]"
   ]
  },
  {
   "cell_type": "code",
   "execution_count": 12,
   "metadata": {
    "id": "S2r8xA4f0q0-"
   },
   "outputs": [
    {
     "name": "stdout",
     "output_type": "stream",
     "text": [
      "<class 'pandas.core.frame.DataFrame'>\n",
      "RangeIndex: 137735 entries, 0 to 137734\n",
      "Data columns (total 4 columns):\n",
      " #   Column     Non-Null Count   Dtype         \n",
      "---  ------     --------------   -----         \n",
      " 0   id         137735 non-null  object        \n",
      " 1   user_id    137735 non-null  int64         \n",
      " 2   call_date  137735 non-null  datetime64[ns]\n",
      " 3   duration   137735 non-null  float64       \n",
      "dtypes: datetime64[ns](1), float64(1), int64(1), object(1)\n",
      "memory usage: 4.2+ MB\n",
      "              id  user_id  call_date  duration\n",
      "133593  1483_444     1483 2018-09-20      5.88\n",
      "11421   1050_193     1050 2018-09-17      0.00\n",
      "133503  1483_334     1483 2018-10-14      5.45\n",
      "44568   1160_584     1160 2018-07-05      4.97\n",
      "26707    1101_34     1101 2018-12-27      0.00\n",
      "12934    1056_77     1056 2018-09-09      1.64\n",
      "137519  1498_456     1498 2018-02-13      4.86\n",
      "82903   1299_561     1299 2018-06-22      0.00\n",
      "55785   1199_500     1199 2018-10-06      7.92\n",
      "35370   1132_840     1132 2018-12-05      0.00\n"
     ]
    }
   ],
   "source": [
    "calls['call_date'] = pd.to_datetime(calls['call_date'],format='%Y-%m-%d')\n",
    "calls.info()\n",
    "print(calls.sample(10))"
   ]
  },
  {
   "cell_type": "markdown",
   "metadata": {
    "id": "KrMgTrlG0q0_"
   },
   "source": [
    "### Enriquecer los datos"
   ]
  },
  {
   "cell_type": "markdown",
   "metadata": {
    "id": "a9MbmEvE0q0_"
   },
   "source": [
    "[Agrega factores adicionales a los datos si crees que pudieran ser útiles.]"
   ]
  },
  {
   "cell_type": "markdown",
   "metadata": {
    "id": "mOUZSi180q0_"
   },
   "source": [
    "## Mensajes"
   ]
  },
  {
   "cell_type": "code",
   "execution_count": 13,
   "metadata": {
    "id": "R-bYJpdV0q1A"
   },
   "outputs": [
    {
     "name": "stdout",
     "output_type": "stream",
     "text": [
      "<class 'pandas.core.frame.DataFrame'>\n",
      "RangeIndex: 76051 entries, 0 to 76050\n",
      "Data columns (total 3 columns):\n",
      " #   Column        Non-Null Count  Dtype \n",
      "---  ------        --------------  ----- \n",
      " 0   id            76051 non-null  object\n",
      " 1   user_id       76051 non-null  int64 \n",
      " 2   message_date  76051 non-null  object\n",
      "dtypes: int64(1), object(2)\n",
      "memory usage: 1.7+ MB\n"
     ]
    }
   ],
   "source": [
    "# Imprime la información general/resumida sobre el DataFrame de los mensajes\n",
    "\n",
    "messages.info()"
   ]
  },
  {
   "cell_type": "code",
   "execution_count": 14,
   "metadata": {
    "id": "mCEl2iGE0q1A"
   },
   "outputs": [
    {
     "data": {
      "application/vnd.microsoft.datawrangler.viewer.v0+json": {
       "columns": [
        {
         "name": "index",
         "rawType": "int64",
         "type": "integer"
        },
        {
         "name": "id",
         "rawType": "object",
         "type": "string"
        },
        {
         "name": "user_id",
         "rawType": "int64",
         "type": "integer"
        },
        {
         "name": "message_date",
         "rawType": "object",
         "type": "string"
        }
       ],
       "conversionMethod": "pd.DataFrame",
       "ref": "7c9995f4-5c2f-4147-b23f-f8e425500c64",
       "rows": [
        [
         "45237",
         "1304_47",
         "1304",
         "2018-11-22"
        ],
        [
         "62667",
         "1394_56",
         "1394",
         "2018-12-12"
        ],
        [
         "74990",
         "1489_65",
         "1489",
         "2018-12-30"
        ],
        [
         "10987",
         "1077_258",
         "1077",
         "2018-03-02"
        ],
        [
         "32754",
         "1203_399",
         "1203",
         "2018-07-06"
        ],
        [
         "51447",
         "1335_36",
         "1335",
         "2018-12-24"
        ],
        [
         "67170",
         "1435_208",
         "1435",
         "2018-11-19"
        ],
        [
         "30649",
         "1193_311",
         "1193",
         "2018-11-01"
        ],
        [
         "59",
         "1001_97",
         "1001",
         "2018-12-05"
        ],
        [
         "52960",
         "1339_94",
         "1339",
         "2018-05-31"
        ]
       ],
       "shape": {
        "columns": 3,
        "rows": 10
       }
      },
      "text/html": [
       "<div>\n",
       "<style scoped>\n",
       "    .dataframe tbody tr th:only-of-type {\n",
       "        vertical-align: middle;\n",
       "    }\n",
       "\n",
       "    .dataframe tbody tr th {\n",
       "        vertical-align: top;\n",
       "    }\n",
       "\n",
       "    .dataframe thead th {\n",
       "        text-align: right;\n",
       "    }\n",
       "</style>\n",
       "<table border=\"1\" class=\"dataframe\">\n",
       "  <thead>\n",
       "    <tr style=\"text-align: right;\">\n",
       "      <th></th>\n",
       "      <th>id</th>\n",
       "      <th>user_id</th>\n",
       "      <th>message_date</th>\n",
       "    </tr>\n",
       "  </thead>\n",
       "  <tbody>\n",
       "    <tr>\n",
       "      <th>45237</th>\n",
       "      <td>1304_47</td>\n",
       "      <td>1304</td>\n",
       "      <td>2018-11-22</td>\n",
       "    </tr>\n",
       "    <tr>\n",
       "      <th>62667</th>\n",
       "      <td>1394_56</td>\n",
       "      <td>1394</td>\n",
       "      <td>2018-12-12</td>\n",
       "    </tr>\n",
       "    <tr>\n",
       "      <th>74990</th>\n",
       "      <td>1489_65</td>\n",
       "      <td>1489</td>\n",
       "      <td>2018-12-30</td>\n",
       "    </tr>\n",
       "    <tr>\n",
       "      <th>10987</th>\n",
       "      <td>1077_258</td>\n",
       "      <td>1077</td>\n",
       "      <td>2018-03-02</td>\n",
       "    </tr>\n",
       "    <tr>\n",
       "      <th>32754</th>\n",
       "      <td>1203_399</td>\n",
       "      <td>1203</td>\n",
       "      <td>2018-07-06</td>\n",
       "    </tr>\n",
       "    <tr>\n",
       "      <th>51447</th>\n",
       "      <td>1335_36</td>\n",
       "      <td>1335</td>\n",
       "      <td>2018-12-24</td>\n",
       "    </tr>\n",
       "    <tr>\n",
       "      <th>67170</th>\n",
       "      <td>1435_208</td>\n",
       "      <td>1435</td>\n",
       "      <td>2018-11-19</td>\n",
       "    </tr>\n",
       "    <tr>\n",
       "      <th>30649</th>\n",
       "      <td>1193_311</td>\n",
       "      <td>1193</td>\n",
       "      <td>2018-11-01</td>\n",
       "    </tr>\n",
       "    <tr>\n",
       "      <th>59</th>\n",
       "      <td>1001_97</td>\n",
       "      <td>1001</td>\n",
       "      <td>2018-12-05</td>\n",
       "    </tr>\n",
       "    <tr>\n",
       "      <th>52960</th>\n",
       "      <td>1339_94</td>\n",
       "      <td>1339</td>\n",
       "      <td>2018-05-31</td>\n",
       "    </tr>\n",
       "  </tbody>\n",
       "</table>\n",
       "</div>"
      ],
      "text/plain": [
       "             id  user_id message_date\n",
       "45237   1304_47     1304   2018-11-22\n",
       "62667   1394_56     1394   2018-12-12\n",
       "74990   1489_65     1489   2018-12-30\n",
       "10987  1077_258     1077   2018-03-02\n",
       "32754  1203_399     1203   2018-07-06\n",
       "51447   1335_36     1335   2018-12-24\n",
       "67170  1435_208     1435   2018-11-19\n",
       "30649  1193_311     1193   2018-11-01\n",
       "59      1001_97     1001   2018-12-05\n",
       "52960   1339_94     1339   2018-05-31"
      ]
     },
     "execution_count": 14,
     "metadata": {},
     "output_type": "execute_result"
    }
   ],
   "source": [
    "# Imprime una muestra de datos para los mensajes\n",
    "\n",
    "messages.sample(10)"
   ]
  },
  {
   "cell_type": "markdown",
   "metadata": {
    "id": "04xDj7KH0q1A"
   },
   "source": [
    "[Describe lo que ves y observas en la información general y en la muestra de datos impresa para el precio de datos anterior. ¿Hay algún problema (tipos de datos no adecuados, datos ausentes, etc.) que pudieran necesitar investigación y cambios adicionales? ¿Cómo se puede arreglar?]\n",
    "\n",
    "* * La columna message_date que se refiere a la fecha del mensaje tiene el tipo de dato object, por lo sugerible es cambiar el tipo de dato a datetime64 con la función de pandas to_datetime."
   ]
  },
  {
   "cell_type": "markdown",
   "metadata": {
    "id": "Sprfak900q1B"
   },
   "source": [
    "### Corregir los datos"
   ]
  },
  {
   "cell_type": "markdown",
   "metadata": {
    "id": "eGw7d9j10q1B"
   },
   "source": [
    "[Corrige los problemas obvios con los datos basándote en las observaciones iniciales.]"
   ]
  },
  {
   "cell_type": "code",
   "execution_count": 15,
   "metadata": {
    "id": "vsllvkoa0q1B"
   },
   "outputs": [
    {
     "name": "stdout",
     "output_type": "stream",
     "text": [
      "<class 'pandas.core.frame.DataFrame'>\n",
      "RangeIndex: 76051 entries, 0 to 76050\n",
      "Data columns (total 3 columns):\n",
      " #   Column        Non-Null Count  Dtype         \n",
      "---  ------        --------------  -----         \n",
      " 0   id            76051 non-null  object        \n",
      " 1   user_id       76051 non-null  int64         \n",
      " 2   message_date  76051 non-null  datetime64[ns]\n",
      "dtypes: datetime64[ns](1), int64(1), object(1)\n",
      "memory usage: 1.7+ MB\n"
     ]
    }
   ],
   "source": [
    "messages['message_date'] = pd.to_datetime(messages['message_date'])\n",
    "\n",
    "messages.info()"
   ]
  },
  {
   "cell_type": "markdown",
   "metadata": {
    "id": "HvLid7iD0q1B"
   },
   "source": [
    "### Enriquecer los datos"
   ]
  },
  {
   "cell_type": "markdown",
   "metadata": {
    "id": "8nhPFKIe0q1C"
   },
   "source": [
    "[Agrega factores adicionales a los datos si crees que pudieran ser útiles.]"
   ]
  },
  {
   "cell_type": "markdown",
   "metadata": {
    "id": "bStkaxn40q1C"
   },
   "source": [
    "## Internet"
   ]
  },
  {
   "cell_type": "code",
   "execution_count": 16,
   "metadata": {
    "id": "e-Uz5qyn0q1C"
   },
   "outputs": [
    {
     "name": "stdout",
     "output_type": "stream",
     "text": [
      "<class 'pandas.core.frame.DataFrame'>\n",
      "RangeIndex: 104825 entries, 0 to 104824\n",
      "Data columns (total 4 columns):\n",
      " #   Column        Non-Null Count   Dtype  \n",
      "---  ------        --------------   -----  \n",
      " 0   id            104825 non-null  object \n",
      " 1   user_id       104825 non-null  int64  \n",
      " 2   session_date  104825 non-null  object \n",
      " 3   mb_used       104825 non-null  float64\n",
      "dtypes: float64(1), int64(1), object(2)\n",
      "memory usage: 3.2+ MB\n",
      "None\n"
     ]
    }
   ],
   "source": [
    "# Imprime la información general/resumida sobre el DataFrame de internet\n",
    "\n",
    "print(internet.info())"
   ]
  },
  {
   "cell_type": "code",
   "execution_count": 17,
   "metadata": {
    "id": "9r3x_XLw0q1C"
   },
   "outputs": [
    {
     "name": "stdout",
     "output_type": "stream",
     "text": [
      "             id  user_id session_date  mb_used\n",
      "56500  1255_255     1255   2018-09-18   282.65\n",
      "76446  1359_127     1359   2018-02-14     0.00\n",
      "81776  1383_338     1383   2018-10-14   341.28\n",
      "61061  1277_364     1277   2018-06-03   270.83\n",
      "72129  1336_151     1336   2018-08-24   251.15\n",
      "84376  1392_344     1392   2018-11-18   441.19\n",
      "95842   1447_32     1447   2018-12-02   829.41\n",
      "73527  1346_108     1346   2018-04-28   237.06\n",
      "18298  1081_376     1081   2018-12-22     0.00\n",
      "78661  1367_189     1367   2018-10-12    56.75\n"
     ]
    }
   ],
   "source": [
    "# Imprime una muestra de datos para el tráfico de internet\n",
    "\n",
    "print(internet.sample(10))"
   ]
  },
  {
   "cell_type": "markdown",
   "metadata": {
    "id": "EzOG5ik30q1D"
   },
   "source": [
    "[Describe lo que ves y observas en la información general y en la muestra de datos impresa para el precio de datos anterior. ¿Hay algún problema (tipos de datos no adecuados, datos ausentes, etc.) que pudieran necesitar investigación y cambios adicionales? ¿Cómo se puede arreglar?]\n",
    "\n",
    "* Se observa que el tipo de datos para columna session_date es de tipo object, por lo que se sugiere cambiar el tipo de variable a datetime64."
   ]
  },
  {
   "cell_type": "markdown",
   "metadata": {
    "id": "yA0tkPFg0q1D"
   },
   "source": [
    "### Corregir los datos"
   ]
  },
  {
   "cell_type": "markdown",
   "metadata": {
    "id": "zlZMuIEK0q1D"
   },
   "source": [
    "[Corrige los problemas obvios con los datos basándote en las observaciones iniciales.]"
   ]
  },
  {
   "cell_type": "code",
   "execution_count": 18,
   "metadata": {
    "id": "zVeanzdd0q1E"
   },
   "outputs": [
    {
     "name": "stdout",
     "output_type": "stream",
     "text": [
      "<class 'pandas.core.frame.DataFrame'>\n",
      "RangeIndex: 104825 entries, 0 to 104824\n",
      "Data columns (total 4 columns):\n",
      " #   Column        Non-Null Count   Dtype         \n",
      "---  ------        --------------   -----         \n",
      " 0   id            104825 non-null  object        \n",
      " 1   user_id       104825 non-null  int64         \n",
      " 2   session_date  104825 non-null  datetime64[ns]\n",
      " 3   mb_used       104825 non-null  float64       \n",
      "dtypes: datetime64[ns](1), float64(1), int64(1), object(1)\n",
      "memory usage: 3.2+ MB\n",
      "None\n"
     ]
    }
   ],
   "source": [
    "internet['session_date'] = pd.to_datetime(internet['session_date'],format='%Y-%m-%d')\n",
    "\n",
    "print(internet.info())"
   ]
  },
  {
   "cell_type": "markdown",
   "metadata": {
    "id": "e8_mLF4a0q1E"
   },
   "source": [
    "### Enriquecer los datos"
   ]
  },
  {
   "cell_type": "markdown",
   "metadata": {
    "id": "xhNdn2tE0q1E"
   },
   "source": [
    "[Agrega factores adicionales a los datos si crees que pudieran ser útiles.]"
   ]
  },
  {
   "cell_type": "markdown",
   "metadata": {
    "id": "3UA2cqIW0q1E"
   },
   "source": [
    "## Estudiar las condiciones de las tarifas"
   ]
  },
  {
   "cell_type": "markdown",
   "metadata": {
    "id": "T86Sqltq0q1F"
   },
   "source": [
    "[Es sumamente importante entender cómo funcionan las tarifas, cómo se les cobra a los usuarios en función de su plan de suscripción. Así que te sugerimos imprimir la información de la tarifa para ver una vez más sus condiciones.]"
   ]
  },
  {
   "cell_type": "code",
   "execution_count": 19,
   "metadata": {
    "id": "i409op8p0q1F"
   },
   "outputs": [
    {
     "name": "stdout",
     "output_type": "stream",
     "text": [
      "<class 'pandas.core.frame.DataFrame'>\n",
      "RangeIndex: 2 entries, 0 to 1\n",
      "Data columns (total 8 columns):\n",
      " #   Column                 Non-Null Count  Dtype  \n",
      "---  ------                 --------------  -----  \n",
      " 0   messages_included      2 non-null      int64  \n",
      " 1   mb_per_month_included  2 non-null      int64  \n",
      " 2   minutes_included       2 non-null      int64  \n",
      " 3   usd_monthly_pay        2 non-null      float64\n",
      " 4   usd_per_gb             2 non-null      float64\n",
      " 5   usd_per_message        2 non-null      float64\n",
      " 6   usd_per_minute         2 non-null      float64\n",
      " 7   plan_name              2 non-null      object \n",
      "dtypes: float64(4), int64(3), object(1)\n",
      "memory usage: 260.0+ bytes\n",
      "None\n",
      "   messages_included  mb_per_month_included  minutes_included  \\\n",
      "0                 50                  15360               500   \n",
      "1               1000                  30720              3000   \n",
      "\n",
      "   usd_monthly_pay  usd_per_gb  usd_per_message  usd_per_minute plan_name  \n",
      "0             20.0        10.0             0.03            0.03      surf  \n",
      "1             70.0         7.0             0.01            0.01  ultimate  \n"
     ]
    }
   ],
   "source": [
    "# Imprime las condiciones de la tarifa y asegúrate de que te quedan claras\n",
    "\n",
    "print(plans.info())\n",
    "print(plans)"
   ]
  },
  {
   "cell_type": "markdown",
   "metadata": {
    "id": "hMR1tP5d0q1F"
   },
   "source": [
    "## Agregar datos por usuario\n",
    "\n",
    "[Ahora que los datos están limpios, agrega los datos por usuario y por periodo para que solo haya un registro por usuario y por periodo. Esto facilitará mucho el análisis posterior.]"
   ]
  },
  {
   "cell_type": "code",
   "execution_count": 20,
   "metadata": {
    "id": "A332cedB0q1G"
   },
   "outputs": [
    {
     "data": {
      "application/vnd.microsoft.datawrangler.viewer.v0+json": {
       "columns": [
        {
         "name": "index",
         "rawType": "int64",
         "type": "integer"
        },
        {
         "name": "id",
         "rawType": "object",
         "type": "string"
        },
        {
         "name": "user_id",
         "rawType": "int64",
         "type": "integer"
        },
        {
         "name": "call_date",
         "rawType": "datetime64[ns]",
         "type": "datetime"
        },
        {
         "name": "duration",
         "rawType": "float64",
         "type": "float"
        },
        {
         "name": "month",
         "rawType": "period[M]",
         "type": "unknown"
        }
       ],
       "conversionMethod": "pd.DataFrame",
       "ref": "b6b8784b-f5c4-4753-ba4d-7eb3f7801f66",
       "rows": [
        [
         "0",
         "1000_93",
         "1000",
         "2018-12-27 00:00:00",
         "8.52",
         "2018-12"
        ],
        [
         "1",
         "1000_145",
         "1000",
         "2018-12-27 00:00:00",
         "13.66",
         "2018-12"
        ],
        [
         "2",
         "1000_247",
         "1000",
         "2018-12-27 00:00:00",
         "14.48",
         "2018-12"
        ],
        [
         "3",
         "1000_309",
         "1000",
         "2018-12-28 00:00:00",
         "5.76",
         "2018-12"
        ],
        [
         "4",
         "1000_380",
         "1000",
         "2018-12-30 00:00:00",
         "4.22",
         "2018-12"
        ],
        [
         "5",
         "1000_388",
         "1000",
         "2018-12-31 00:00:00",
         "2.2",
         "2018-12"
        ],
        [
         "6",
         "1000_510",
         "1000",
         "2018-12-27 00:00:00",
         "5.75",
         "2018-12"
        ],
        [
         "7",
         "1000_521",
         "1000",
         "2018-12-28 00:00:00",
         "14.18",
         "2018-12"
        ],
        [
         "8",
         "1000_530",
         "1000",
         "2018-12-28 00:00:00",
         "5.77",
         "2018-12"
        ],
        [
         "9",
         "1000_544",
         "1000",
         "2018-12-26 00:00:00",
         "4.4",
         "2018-12"
        ],
        [
         "10",
         "1000_693",
         "1000",
         "2018-12-31 00:00:00",
         "4.31",
         "2018-12"
        ],
        [
         "11",
         "1000_705",
         "1000",
         "2018-12-31 00:00:00",
         "12.78",
         "2018-12"
        ],
        [
         "12",
         "1000_735",
         "1000",
         "2018-12-29 00:00:00",
         "1.7",
         "2018-12"
        ],
        [
         "13",
         "1000_778",
         "1000",
         "2018-12-28 00:00:00",
         "3.29",
         "2018-12"
        ],
        [
         "14",
         "1000_826",
         "1000",
         "2018-12-26 00:00:00",
         "9.96",
         "2018-12"
        ],
        [
         "15",
         "1000_842",
         "1000",
         "2018-12-27 00:00:00",
         "5.85",
         "2018-12"
        ],
        [
         "16",
         "1001_0",
         "1001",
         "2018-09-06 00:00:00",
         "10.06",
         "2018-09"
        ],
        [
         "17",
         "1001_1",
         "1001",
         "2018-10-12 00:00:00",
         "1.0",
         "2018-10"
        ],
        [
         "18",
         "1001_2",
         "1001",
         "2018-10-17 00:00:00",
         "15.83",
         "2018-10"
        ],
        [
         "19",
         "1001_4",
         "1001",
         "2018-12-05 00:00:00",
         "0.0",
         "2018-12"
        ],
        [
         "20",
         "1001_5",
         "1001",
         "2018-12-13 00:00:00",
         "6.27",
         "2018-12"
        ],
        [
         "21",
         "1001_6",
         "1001",
         "2018-12-04 00:00:00",
         "7.19",
         "2018-12"
        ],
        [
         "22",
         "1001_8",
         "1001",
         "2018-11-17 00:00:00",
         "2.45",
         "2018-11"
        ],
        [
         "23",
         "1001_9",
         "1001",
         "2018-11-19 00:00:00",
         "2.4",
         "2018-11"
        ],
        [
         "24",
         "1001_11",
         "1001",
         "2018-11-09 00:00:00",
         "1.0",
         "2018-11"
        ],
        [
         "25",
         "1001_13",
         "1001",
         "2018-12-24 00:00:00",
         "0.0",
         "2018-12"
        ],
        [
         "26",
         "1001_19",
         "1001",
         "2018-11-15 00:00:00",
         "30.0",
         "2018-11"
        ],
        [
         "27",
         "1001_20",
         "1001",
         "2018-09-21 00:00:00",
         "5.75",
         "2018-09"
        ],
        [
         "28",
         "1001_23",
         "1001",
         "2018-10-27 00:00:00",
         "0.98",
         "2018-10"
        ],
        [
         "29",
         "1001_26",
         "1001",
         "2018-10-28 00:00:00",
         "5.9",
         "2018-10"
        ],
        [
         "30",
         "1001_29",
         "1001",
         "2018-09-30 00:00:00",
         "14.78",
         "2018-09"
        ],
        [
         "31",
         "1001_30",
         "1001",
         "2018-10-17 00:00:00",
         "0.0",
         "2018-10"
        ],
        [
         "32",
         "1001_31",
         "1001",
         "2018-11-03 00:00:00",
         "0.0",
         "2018-11"
        ],
        [
         "33",
         "1001_32",
         "1001",
         "2018-11-25 00:00:00",
         "3.99",
         "2018-11"
        ],
        [
         "34",
         "1001_35",
         "1001",
         "2018-12-21 00:00:00",
         "0.0",
         "2018-12"
        ],
        [
         "35",
         "1001_37",
         "1001",
         "2018-11-17 00:00:00",
         "15.85",
         "2018-11"
        ],
        [
         "36",
         "1001_39",
         "1001",
         "2018-12-07 00:00:00",
         "11.13",
         "2018-12"
        ],
        [
         "37",
         "1001_40",
         "1001",
         "2018-09-30 00:00:00",
         "18.6",
         "2018-09"
        ],
        [
         "38",
         "1001_42",
         "1001",
         "2018-08-28 00:00:00",
         "13.27",
         "2018-08"
        ],
        [
         "39",
         "1001_43",
         "1001",
         "2018-12-13 00:00:00",
         "0.0",
         "2018-12"
        ],
        [
         "40",
         "1001_44",
         "1001",
         "2018-12-01 00:00:00",
         "6.13",
         "2018-12"
        ],
        [
         "41",
         "1001_46",
         "1001",
         "2018-11-03 00:00:00",
         "0.95",
         "2018-11"
        ],
        [
         "42",
         "1001_47",
         "1001",
         "2018-11-08 00:00:00",
         "6.36",
         "2018-11"
        ],
        [
         "43",
         "1001_51",
         "1001",
         "2018-09-14 00:00:00",
         "16.03",
         "2018-09"
        ],
        [
         "44",
         "1001_52",
         "1001",
         "2018-11-23 00:00:00",
         "0.0",
         "2018-11"
        ],
        [
         "45",
         "1001_53",
         "1001",
         "2018-10-24 00:00:00",
         "0.0",
         "2018-10"
        ],
        [
         "46",
         "1001_54",
         "1001",
         "2018-12-11 00:00:00",
         "8.21",
         "2018-12"
        ],
        [
         "47",
         "1001_57",
         "1001",
         "2018-12-16 00:00:00",
         "21.3",
         "2018-12"
        ],
        [
         "48",
         "1001_59",
         "1001",
         "2018-12-19 00:00:00",
         "9.29",
         "2018-12"
        ],
        [
         "49",
         "1001_60",
         "1001",
         "2018-12-16 00:00:00",
         "0.0",
         "2018-12"
        ]
       ],
       "shape": {
        "columns": 5,
        "rows": 137735
       }
      },
      "text/html": [
       "<div>\n",
       "<style scoped>\n",
       "    .dataframe tbody tr th:only-of-type {\n",
       "        vertical-align: middle;\n",
       "    }\n",
       "\n",
       "    .dataframe tbody tr th {\n",
       "        vertical-align: top;\n",
       "    }\n",
       "\n",
       "    .dataframe thead th {\n",
       "        text-align: right;\n",
       "    }\n",
       "</style>\n",
       "<table border=\"1\" class=\"dataframe\">\n",
       "  <thead>\n",
       "    <tr style=\"text-align: right;\">\n",
       "      <th></th>\n",
       "      <th>id</th>\n",
       "      <th>user_id</th>\n",
       "      <th>call_date</th>\n",
       "      <th>duration</th>\n",
       "      <th>month</th>\n",
       "    </tr>\n",
       "  </thead>\n",
       "  <tbody>\n",
       "    <tr>\n",
       "      <th>0</th>\n",
       "      <td>1000_93</td>\n",
       "      <td>1000</td>\n",
       "      <td>2018-12-27</td>\n",
       "      <td>8.52</td>\n",
       "      <td>2018-12</td>\n",
       "    </tr>\n",
       "    <tr>\n",
       "      <th>1</th>\n",
       "      <td>1000_145</td>\n",
       "      <td>1000</td>\n",
       "      <td>2018-12-27</td>\n",
       "      <td>13.66</td>\n",
       "      <td>2018-12</td>\n",
       "    </tr>\n",
       "    <tr>\n",
       "      <th>2</th>\n",
       "      <td>1000_247</td>\n",
       "      <td>1000</td>\n",
       "      <td>2018-12-27</td>\n",
       "      <td>14.48</td>\n",
       "      <td>2018-12</td>\n",
       "    </tr>\n",
       "    <tr>\n",
       "      <th>3</th>\n",
       "      <td>1000_309</td>\n",
       "      <td>1000</td>\n",
       "      <td>2018-12-28</td>\n",
       "      <td>5.76</td>\n",
       "      <td>2018-12</td>\n",
       "    </tr>\n",
       "    <tr>\n",
       "      <th>4</th>\n",
       "      <td>1000_380</td>\n",
       "      <td>1000</td>\n",
       "      <td>2018-12-30</td>\n",
       "      <td>4.22</td>\n",
       "      <td>2018-12</td>\n",
       "    </tr>\n",
       "    <tr>\n",
       "      <th>...</th>\n",
       "      <td>...</td>\n",
       "      <td>...</td>\n",
       "      <td>...</td>\n",
       "      <td>...</td>\n",
       "      <td>...</td>\n",
       "    </tr>\n",
       "    <tr>\n",
       "      <th>137730</th>\n",
       "      <td>1499_199</td>\n",
       "      <td>1499</td>\n",
       "      <td>2018-11-21</td>\n",
       "      <td>8.72</td>\n",
       "      <td>2018-11</td>\n",
       "    </tr>\n",
       "    <tr>\n",
       "      <th>137731</th>\n",
       "      <td>1499_200</td>\n",
       "      <td>1499</td>\n",
       "      <td>2018-10-20</td>\n",
       "      <td>10.89</td>\n",
       "      <td>2018-10</td>\n",
       "    </tr>\n",
       "    <tr>\n",
       "      <th>137732</th>\n",
       "      <td>1499_201</td>\n",
       "      <td>1499</td>\n",
       "      <td>2018-09-21</td>\n",
       "      <td>8.12</td>\n",
       "      <td>2018-09</td>\n",
       "    </tr>\n",
       "    <tr>\n",
       "      <th>137733</th>\n",
       "      <td>1499_202</td>\n",
       "      <td>1499</td>\n",
       "      <td>2018-10-10</td>\n",
       "      <td>0.37</td>\n",
       "      <td>2018-10</td>\n",
       "    </tr>\n",
       "    <tr>\n",
       "      <th>137734</th>\n",
       "      <td>1499_203</td>\n",
       "      <td>1499</td>\n",
       "      <td>2018-12-29</td>\n",
       "      <td>13.86</td>\n",
       "      <td>2018-12</td>\n",
       "    </tr>\n",
       "  </tbody>\n",
       "</table>\n",
       "<p>137735 rows × 5 columns</p>\n",
       "</div>"
      ],
      "text/plain": [
       "              id  user_id  call_date  duration    month\n",
       "0        1000_93     1000 2018-12-27      8.52  2018-12\n",
       "1       1000_145     1000 2018-12-27     13.66  2018-12\n",
       "2       1000_247     1000 2018-12-27     14.48  2018-12\n",
       "3       1000_309     1000 2018-12-28      5.76  2018-12\n",
       "4       1000_380     1000 2018-12-30      4.22  2018-12\n",
       "...          ...      ...        ...       ...      ...\n",
       "137730  1499_199     1499 2018-11-21      8.72  2018-11\n",
       "137731  1499_200     1499 2018-10-20     10.89  2018-10\n",
       "137732  1499_201     1499 2018-09-21      8.12  2018-09\n",
       "137733  1499_202     1499 2018-10-10      0.37  2018-10\n",
       "137734  1499_203     1499 2018-12-29     13.86  2018-12\n",
       "\n",
       "[137735 rows x 5 columns]"
      ]
     },
     "execution_count": 20,
     "metadata": {},
     "output_type": "execute_result"
    }
   ],
   "source": [
    "# Calcula el número de llamadas hechas por cada usuario al mes. Guarda el resultado.\n",
    "\n",
    "#Agrupar en una nueva columna los datos por mes que no tome en cuenta el día\n",
    "calls['month'] = calls['call_date'].dt.to_period('M')\n",
    "\n",
    "#Agrupar por usuario y mes, cuenta las llamadas (use la columna id de llamada para contarlas)\n",
    "calls_per_user_month = (calls.groupby(['user_id','month'])\n",
    "                        .agg(num_calls=('id','count'))\n",
    "                        .reset_index()\n",
    "                        )\n",
    "\n",
    "calls"
   ]
  },
  {
   "cell_type": "code",
   "execution_count": 21,
   "metadata": {
    "id": "aw2cmuql0q1G"
   },
   "outputs": [
    {
     "data": {
      "application/vnd.microsoft.datawrangler.viewer.v0+json": {
       "columns": [
        {
         "name": "index",
         "rawType": "int64",
         "type": "integer"
        },
        {
         "name": "user_id",
         "rawType": "int64",
         "type": "integer"
        },
        {
         "name": "month",
         "rawType": "period[M]",
         "type": "unknown"
        },
        {
         "name": "original_total_minutes",
         "rawType": "float64",
         "type": "float"
        },
        {
         "name": "charged_minutes",
         "rawType": "float64",
         "type": "float"
        }
       ],
       "conversionMethod": "pd.DataFrame",
       "ref": "7b5c02d8-f743-467a-aad7-44d1d00b542e",
       "rows": [
        [
         "0",
         "1000",
         "2018-12",
         "116.83",
         "124.0"
        ],
        [
         "1",
         "1001",
         "2018-08",
         "171.14",
         "182.0"
        ],
        [
         "2",
         "1001",
         "2018-09",
         "297.69",
         "315.0"
        ],
        [
         "3",
         "1001",
         "2018-10",
         "374.11",
         "393.0"
        ],
        [
         "4",
         "1001",
         "2018-11",
         "404.59",
         "426.0"
        ],
        [
         "5",
         "1001",
         "2018-12",
         "392.93",
         "412.0"
        ],
        [
         "6",
         "1002",
         "2018-10",
         "54.13",
         "59.0"
        ],
        [
         "7",
         "1002",
         "2018-11",
         "359.76",
         "386.0"
        ],
        [
         "8",
         "1002",
         "2018-12",
         "363.24",
         "384.0"
        ],
        [
         "9",
         "1003",
         "2018-12",
         "1041.0",
         "1104.0"
        ],
        [
         "10",
         "1004",
         "2018-05",
         "181.58",
         "193.0"
        ],
        [
         "11",
         "1004",
         "2018-06",
         "261.32",
         "275.0"
        ],
        [
         "12",
         "1004",
         "2018-07",
         "358.45",
         "381.0"
        ],
        [
         "13",
         "1004",
         "2018-08",
         "334.86",
         "354.0"
        ],
        [
         "14",
         "1004",
         "2018-09",
         "284.6",
         "301.0"
        ],
        [
         "15",
         "1004",
         "2018-10",
         "341.63",
         "365.0"
        ],
        [
         "16",
         "1004",
         "2018-11",
         "452.98",
         "476.0"
        ],
        [
         "17",
         "1004",
         "2018-12",
         "403.53000000000003",
         "427.0"
        ],
        [
         "18",
         "1005",
         "2018-12",
         "470.22",
         "496.0"
        ],
        [
         "19",
         "1006",
         "2018-11",
         "9.32",
         "10.0"
        ],
        [
         "20",
         "1006",
         "2018-12",
         "54.79",
         "59.0"
        ],
        [
         "21",
         "1007",
         "2018-08",
         "427.95",
         "456.0"
        ],
        [
         "22",
         "1007",
         "2018-09",
         "375.83",
         "399.0"
        ],
        [
         "23",
         "1007",
         "2018-10",
         "610.65",
         "645.0"
        ],
        [
         "24",
         "1007",
         "2018-11",
         "490.29",
         "524.0"
        ],
        [
         "25",
         "1007",
         "2018-12",
         "579.43",
         "617.0"
        ],
        [
         "26",
         "1008",
         "2018-10",
         "450.21",
         "476.0"
        ],
        [
         "27",
         "1008",
         "2018-11",
         "422.81",
         "446.0"
        ],
        [
         "28",
         "1008",
         "2018-12",
         "600.29",
         "634.0"
        ],
        [
         "29",
         "1009",
         "2018-05",
         "498.93",
         "534.0"
        ],
        [
         "30",
         "1009",
         "2018-06",
         "775.52",
         "823.0"
        ],
        [
         "31",
         "1009",
         "2018-07",
         "826.74",
         "880.0"
        ],
        [
         "32",
         "1009",
         "2018-08",
         "680.39",
         "731.0"
        ],
        [
         "33",
         "1009",
         "2018-09",
         "730.47",
         "776.0"
        ],
        [
         "34",
         "1009",
         "2018-10",
         "696.35",
         "740.0"
        ],
        [
         "35",
         "1009",
         "2018-11",
         "668.57",
         "714.0"
        ],
        [
         "36",
         "1009",
         "2018-12",
         "712.71",
         "756.0"
        ],
        [
         "37",
         "1010",
         "2018-03",
         "408.42",
         "429.0"
        ],
        [
         "38",
         "1010",
         "2018-04",
         "618.43",
         "656.0"
        ],
        [
         "39",
         "1010",
         "2018-05",
         "497.94",
         "532.0"
        ],
        [
         "40",
         "1010",
         "2018-06",
         "524.14",
         "553.0"
        ],
        [
         "41",
         "1010",
         "2018-07",
         "658.24",
         "698.0"
        ],
        [
         "42",
         "1010",
         "2018-08",
         "598.94",
         "637.0"
        ],
        [
         "43",
         "1010",
         "2018-09",
         "568.75",
         "601.0"
        ],
        [
         "44",
         "1010",
         "2018-10",
         "668.63",
         "711.0"
        ],
        [
         "45",
         "1010",
         "2018-11",
         "245.37",
         "258.0"
        ],
        [
         "46",
         "1011",
         "2018-06",
         "111.67999999999999",
         "118.0"
        ],
        [
         "47",
         "1011",
         "2018-07",
         "472.65999999999997",
         "499.0"
        ],
        [
         "48",
         "1011",
         "2018-08",
         "460.12",
         "486.0"
        ],
        [
         "49",
         "1011",
         "2018-09",
         "455.22",
         "484.0"
        ]
       ],
       "shape": {
        "columns": 4,
        "rows": 2258
       }
      },
      "text/html": [
       "<div>\n",
       "<style scoped>\n",
       "    .dataframe tbody tr th:only-of-type {\n",
       "        vertical-align: middle;\n",
       "    }\n",
       "\n",
       "    .dataframe tbody tr th {\n",
       "        vertical-align: top;\n",
       "    }\n",
       "\n",
       "    .dataframe thead th {\n",
       "        text-align: right;\n",
       "    }\n",
       "</style>\n",
       "<table border=\"1\" class=\"dataframe\">\n",
       "  <thead>\n",
       "    <tr style=\"text-align: right;\">\n",
       "      <th></th>\n",
       "      <th>user_id</th>\n",
       "      <th>month</th>\n",
       "      <th>original_total_minutes</th>\n",
       "      <th>charged_minutes</th>\n",
       "    </tr>\n",
       "  </thead>\n",
       "  <tbody>\n",
       "    <tr>\n",
       "      <th>0</th>\n",
       "      <td>1000</td>\n",
       "      <td>2018-12</td>\n",
       "      <td>116.83</td>\n",
       "      <td>124.0</td>\n",
       "    </tr>\n",
       "    <tr>\n",
       "      <th>1</th>\n",
       "      <td>1001</td>\n",
       "      <td>2018-08</td>\n",
       "      <td>171.14</td>\n",
       "      <td>182.0</td>\n",
       "    </tr>\n",
       "    <tr>\n",
       "      <th>2</th>\n",
       "      <td>1001</td>\n",
       "      <td>2018-09</td>\n",
       "      <td>297.69</td>\n",
       "      <td>315.0</td>\n",
       "    </tr>\n",
       "    <tr>\n",
       "      <th>3</th>\n",
       "      <td>1001</td>\n",
       "      <td>2018-10</td>\n",
       "      <td>374.11</td>\n",
       "      <td>393.0</td>\n",
       "    </tr>\n",
       "    <tr>\n",
       "      <th>4</th>\n",
       "      <td>1001</td>\n",
       "      <td>2018-11</td>\n",
       "      <td>404.59</td>\n",
       "      <td>426.0</td>\n",
       "    </tr>\n",
       "    <tr>\n",
       "      <th>...</th>\n",
       "      <td>...</td>\n",
       "      <td>...</td>\n",
       "      <td>...</td>\n",
       "      <td>...</td>\n",
       "    </tr>\n",
       "    <tr>\n",
       "      <th>2253</th>\n",
       "      <td>1498</td>\n",
       "      <td>2018-12</td>\n",
       "      <td>324.77</td>\n",
       "      <td>339.0</td>\n",
       "    </tr>\n",
       "    <tr>\n",
       "      <th>2254</th>\n",
       "      <td>1499</td>\n",
       "      <td>2018-09</td>\n",
       "      <td>330.37</td>\n",
       "      <td>346.0</td>\n",
       "    </tr>\n",
       "    <tr>\n",
       "      <th>2255</th>\n",
       "      <td>1499</td>\n",
       "      <td>2018-10</td>\n",
       "      <td>363.28</td>\n",
       "      <td>385.0</td>\n",
       "    </tr>\n",
       "    <tr>\n",
       "      <th>2256</th>\n",
       "      <td>1499</td>\n",
       "      <td>2018-11</td>\n",
       "      <td>288.56</td>\n",
       "      <td>308.0</td>\n",
       "    </tr>\n",
       "    <tr>\n",
       "      <th>2257</th>\n",
       "      <td>1499</td>\n",
       "      <td>2018-12</td>\n",
       "      <td>468.10</td>\n",
       "      <td>496.0</td>\n",
       "    </tr>\n",
       "  </tbody>\n",
       "</table>\n",
       "<p>2258 rows × 4 columns</p>\n",
       "</div>"
      ],
      "text/plain": [
       "      user_id    month  original_total_minutes  charged_minutes\n",
       "0        1000  2018-12                  116.83            124.0\n",
       "1        1001  2018-08                  171.14            182.0\n",
       "2        1001  2018-09                  297.69            315.0\n",
       "3        1001  2018-10                  374.11            393.0\n",
       "4        1001  2018-11                  404.59            426.0\n",
       "...       ...      ...                     ...              ...\n",
       "2253     1498  2018-12                  324.77            339.0\n",
       "2254     1499  2018-09                  330.37            346.0\n",
       "2255     1499  2018-10                  363.28            385.0\n",
       "2256     1499  2018-11                  288.56            308.0\n",
       "2257     1499  2018-12                  468.10            496.0\n",
       "\n",
       "[2258 rows x 4 columns]"
      ]
     },
     "execution_count": 21,
     "metadata": {},
     "output_type": "execute_result"
    }
   ],
   "source": [
    "# Calcula la cantidad de minutos usados por cada usuario al mes. Guarda el resultado.\n",
    "\n",
    "#Agrupar por usuario y mes, creando una nueva columna donde poner la suma de la columna duration\n",
    "#Redondear al entero siguiente más alto los minutos tal y como se especifica en las condiciones de los cobros de las tarifas\n",
    "calls['charged_minutes_per_call'] = np.ceil(calls['duration']) #Para hacer ese redondeo hacia \"arriba\" utilice la fuincion ceil de numpy\n",
    "charged_calls = (\n",
    "    calls\n",
    "    .groupby(['user_id', 'month'])[['duration','charged_minutes_per_call']]\n",
    "    .sum()\n",
    "    .reset_index()\n",
    "    .rename(columns={'duration':'original_total_minutes','charged_minutes_per_call': 'charged_minutes'})\n",
    ")\n",
    "\n",
    "charged_calls"
   ]
  },
  {
   "cell_type": "code",
   "execution_count": 22,
   "metadata": {
    "id": "CcQvNHn60q1G"
   },
   "outputs": [
    {
     "data": {
      "application/vnd.microsoft.datawrangler.viewer.v0+json": {
       "columns": [
        {
         "name": "index",
         "rawType": "int64",
         "type": "integer"
        },
        {
         "name": "user_id",
         "rawType": "int64",
         "type": "integer"
        },
        {
         "name": "month",
         "rawType": "period[M]",
         "type": "unknown"
        },
        {
         "name": "numb_messages",
         "rawType": "int64",
         "type": "integer"
        }
       ],
       "conversionMethod": "pd.DataFrame",
       "ref": "688f00e6-4077-4e8d-a625-08d980086cd2",
       "rows": [
        [
         "0",
         "1000",
         "2018-12",
         "11"
        ],
        [
         "1",
         "1001",
         "2018-08",
         "30"
        ],
        [
         "2",
         "1001",
         "2018-09",
         "44"
        ],
        [
         "3",
         "1001",
         "2018-10",
         "53"
        ],
        [
         "4",
         "1001",
         "2018-11",
         "36"
        ],
        [
         "5",
         "1001",
         "2018-12",
         "44"
        ],
        [
         "6",
         "1002",
         "2018-10",
         "15"
        ],
        [
         "7",
         "1002",
         "2018-11",
         "32"
        ],
        [
         "8",
         "1002",
         "2018-12",
         "41"
        ],
        [
         "9",
         "1003",
         "2018-12",
         "50"
        ],
        [
         "10",
         "1004",
         "2018-05",
         "7"
        ],
        [
         "11",
         "1004",
         "2018-06",
         "18"
        ],
        [
         "12",
         "1004",
         "2018-07",
         "26"
        ],
        [
         "13",
         "1004",
         "2018-08",
         "25"
        ],
        [
         "14",
         "1004",
         "2018-09",
         "21"
        ],
        [
         "15",
         "1004",
         "2018-10",
         "24"
        ],
        [
         "16",
         "1004",
         "2018-11",
         "25"
        ],
        [
         "17",
         "1004",
         "2018-12",
         "31"
        ],
        [
         "18",
         "1005",
         "2018-12",
         "11"
        ],
        [
         "19",
         "1006",
         "2018-11",
         "15"
        ],
        [
         "20",
         "1006",
         "2018-12",
         "139"
        ],
        [
         "21",
         "1007",
         "2018-08",
         "51"
        ],
        [
         "22",
         "1007",
         "2018-09",
         "47"
        ],
        [
         "23",
         "1007",
         "2018-10",
         "59"
        ],
        [
         "24",
         "1007",
         "2018-11",
         "48"
        ],
        [
         "25",
         "1007",
         "2018-12",
         "50"
        ],
        [
         "26",
         "1008",
         "2018-10",
         "21"
        ],
        [
         "27",
         "1008",
         "2018-11",
         "37"
        ],
        [
         "28",
         "1008",
         "2018-12",
         "26"
        ],
        [
         "29",
         "1011",
         "2018-06",
         "21"
        ],
        [
         "30",
         "1011",
         "2018-07",
         "53"
        ],
        [
         "31",
         "1011",
         "2018-08",
         "54"
        ],
        [
         "32",
         "1011",
         "2018-09",
         "60"
        ],
        [
         "33",
         "1011",
         "2018-10",
         "64"
        ],
        [
         "34",
         "1011",
         "2018-11",
         "58"
        ],
        [
         "35",
         "1011",
         "2018-12",
         "61"
        ],
        [
         "36",
         "1013",
         "2018-12",
         "16"
        ],
        [
         "37",
         "1014",
         "2018-11",
         "9"
        ],
        [
         "38",
         "1014",
         "2018-12",
         "64"
        ],
        [
         "39",
         "1015",
         "2018-12",
         "68"
        ],
        [
         "40",
         "1016",
         "2018-10",
         "11"
        ],
        [
         "41",
         "1016",
         "2018-11",
         "46"
        ],
        [
         "42",
         "1016",
         "2018-12",
         "38"
        ],
        [
         "43",
         "1017",
         "2018-08",
         "5"
        ],
        [
         "44",
         "1017",
         "2018-09",
         "41"
        ],
        [
         "45",
         "1017",
         "2018-10",
         "35"
        ],
        [
         "46",
         "1017",
         "2018-11",
         "29"
        ],
        [
         "47",
         "1017",
         "2018-12",
         "42"
        ],
        [
         "48",
         "1018",
         "2018-10",
         "3"
        ],
        [
         "49",
         "1018",
         "2018-11",
         "5"
        ]
       ],
       "shape": {
        "columns": 3,
        "rows": 1806
       }
      },
      "text/html": [
       "<div>\n",
       "<style scoped>\n",
       "    .dataframe tbody tr th:only-of-type {\n",
       "        vertical-align: middle;\n",
       "    }\n",
       "\n",
       "    .dataframe tbody tr th {\n",
       "        vertical-align: top;\n",
       "    }\n",
       "\n",
       "    .dataframe thead th {\n",
       "        text-align: right;\n",
       "    }\n",
       "</style>\n",
       "<table border=\"1\" class=\"dataframe\">\n",
       "  <thead>\n",
       "    <tr style=\"text-align: right;\">\n",
       "      <th></th>\n",
       "      <th>user_id</th>\n",
       "      <th>month</th>\n",
       "      <th>numb_messages</th>\n",
       "    </tr>\n",
       "  </thead>\n",
       "  <tbody>\n",
       "    <tr>\n",
       "      <th>0</th>\n",
       "      <td>1000</td>\n",
       "      <td>2018-12</td>\n",
       "      <td>11</td>\n",
       "    </tr>\n",
       "    <tr>\n",
       "      <th>1</th>\n",
       "      <td>1001</td>\n",
       "      <td>2018-08</td>\n",
       "      <td>30</td>\n",
       "    </tr>\n",
       "    <tr>\n",
       "      <th>2</th>\n",
       "      <td>1001</td>\n",
       "      <td>2018-09</td>\n",
       "      <td>44</td>\n",
       "    </tr>\n",
       "    <tr>\n",
       "      <th>3</th>\n",
       "      <td>1001</td>\n",
       "      <td>2018-10</td>\n",
       "      <td>53</td>\n",
       "    </tr>\n",
       "    <tr>\n",
       "      <th>4</th>\n",
       "      <td>1001</td>\n",
       "      <td>2018-11</td>\n",
       "      <td>36</td>\n",
       "    </tr>\n",
       "    <tr>\n",
       "      <th>...</th>\n",
       "      <td>...</td>\n",
       "      <td>...</td>\n",
       "      <td>...</td>\n",
       "    </tr>\n",
       "    <tr>\n",
       "      <th>1801</th>\n",
       "      <td>1496</td>\n",
       "      <td>2018-09</td>\n",
       "      <td>21</td>\n",
       "    </tr>\n",
       "    <tr>\n",
       "      <th>1802</th>\n",
       "      <td>1496</td>\n",
       "      <td>2018-10</td>\n",
       "      <td>18</td>\n",
       "    </tr>\n",
       "    <tr>\n",
       "      <th>1803</th>\n",
       "      <td>1496</td>\n",
       "      <td>2018-11</td>\n",
       "      <td>13</td>\n",
       "    </tr>\n",
       "    <tr>\n",
       "      <th>1804</th>\n",
       "      <td>1496</td>\n",
       "      <td>2018-12</td>\n",
       "      <td>11</td>\n",
       "    </tr>\n",
       "    <tr>\n",
       "      <th>1805</th>\n",
       "      <td>1497</td>\n",
       "      <td>2018-12</td>\n",
       "      <td>50</td>\n",
       "    </tr>\n",
       "  </tbody>\n",
       "</table>\n",
       "<p>1806 rows × 3 columns</p>\n",
       "</div>"
      ],
      "text/plain": [
       "      user_id    month  numb_messages\n",
       "0        1000  2018-12             11\n",
       "1        1001  2018-08             30\n",
       "2        1001  2018-09             44\n",
       "3        1001  2018-10             53\n",
       "4        1001  2018-11             36\n",
       "...       ...      ...            ...\n",
       "1801     1496  2018-09             21\n",
       "1802     1496  2018-10             18\n",
       "1803     1496  2018-11             13\n",
       "1804     1496  2018-12             11\n",
       "1805     1497  2018-12             50\n",
       "\n",
       "[1806 rows x 3 columns]"
      ]
     },
     "execution_count": 22,
     "metadata": {},
     "output_type": "execute_result"
    }
   ],
   "source": [
    "# Calcula el número de mensajes enviados por cada usuario al mes. Guarda el resultado.\n",
    "\n",
    "#Agrupar en una nueva columna los datos por mes que no tome en cuenta el día\n",
    "messages['month'] = messages['message_date'].dt.to_period('M')\n",
    "\n",
    "#Agrupar los datos por user y month, y en una nueva columna colocar la count de la columna id\n",
    "messages_per_month = (messages.groupby(['user_id','month'])\n",
    "                      .agg(numb_messages=('id','count'))\n",
    "                      .reset_index()\n",
    "                      )\n",
    "\n",
    "messages_per_month\n"
   ]
  },
  {
   "cell_type": "code",
   "execution_count": 23,
   "metadata": {
    "id": "H1AqN2eG0q1H"
   },
   "outputs": [
    {
     "data": {
      "application/vnd.microsoft.datawrangler.viewer.v0+json": {
       "columns": [
        {
         "name": "index",
         "rawType": "int64",
         "type": "integer"
        },
        {
         "name": "user_id",
         "rawType": "int64",
         "type": "integer"
        },
        {
         "name": "month",
         "rawType": "period[M]",
         "type": "unknown"
        },
        {
         "name": "mb_used_per_month",
         "rawType": "float64",
         "type": "float"
        }
       ],
       "conversionMethod": "pd.DataFrame",
       "ref": "2ce7ad76-f466-490b-83a2-1192e4c1a2fa",
       "rows": [
        [
         "0",
         "1000",
         "2018-12",
         "1901.47"
        ],
        [
         "1",
         "1001",
         "2018-08",
         "6919.15"
        ],
        [
         "2",
         "1001",
         "2018-09",
         "13314.82"
        ],
        [
         "3",
         "1001",
         "2018-10",
         "22330.49"
        ],
        [
         "4",
         "1001",
         "2018-11",
         "18504.3"
        ],
        [
         "5",
         "1001",
         "2018-12",
         "19369.18"
        ],
        [
         "6",
         "1002",
         "2018-10",
         "6552.01"
        ],
        [
         "7",
         "1002",
         "2018-11",
         "19345.08"
        ],
        [
         "8",
         "1002",
         "2018-12",
         "14396.24"
        ],
        [
         "9",
         "1003",
         "2018-12",
         "27044.14"
        ],
        [
         "10",
         "1004",
         "2018-05",
         "6547.21"
        ],
        [
         "11",
         "1004",
         "2018-06",
         "20672.82"
        ],
        [
         "12",
         "1004",
         "2018-07",
         "24516.62"
        ],
        [
         "13",
         "1004",
         "2018-08",
         "27981.739999999998"
        ],
        [
         "14",
         "1004",
         "2018-09",
         "18852.72"
        ],
        [
         "15",
         "1004",
         "2018-10",
         "14541.63"
        ],
        [
         "16",
         "1004",
         "2018-11",
         "21850.78"
        ],
        [
         "17",
         "1004",
         "2018-12",
         "21389.29"
        ],
        [
         "18",
         "1005",
         "2018-12",
         "17140.17"
        ],
        [
         "19",
         "1006",
         "2018-11",
         "2068.37"
        ],
        [
         "20",
         "1006",
         "2018-12",
         "32118.82"
        ],
        [
         "21",
         "1007",
         "2018-08",
         "24439.88"
        ],
        [
         "22",
         "1007",
         "2018-09",
         "28123.95"
        ],
        [
         "23",
         "1007",
         "2018-10",
         "37885.63"
        ],
        [
         "24",
         "1007",
         "2018-11",
         "24334.0"
        ],
        [
         "25",
         "1007",
         "2018-12",
         "29069.28"
        ],
        [
         "26",
         "1008",
         "2018-10",
         "17106.989999999998"
        ],
        [
         "27",
         "1008",
         "2018-11",
         "23676.72"
        ],
        [
         "28",
         "1008",
         "2018-12",
         "14689.33"
        ],
        [
         "29",
         "1009",
         "2018-05",
         "20389.4"
        ],
        [
         "30",
         "1009",
         "2018-06",
         "18845.9"
        ],
        [
         "31",
         "1009",
         "2018-07",
         "30421.65"
        ],
        [
         "32",
         "1009",
         "2018-08",
         "24557.52"
        ],
        [
         "33",
         "1009",
         "2018-09",
         "20962.4"
        ],
        [
         "34",
         "1009",
         "2018-10",
         "22664.84"
        ],
        [
         "35",
         "1009",
         "2018-11",
         "25473.43"
        ],
        [
         "36",
         "1009",
         "2018-12",
         "23922.6"
        ],
        [
         "37",
         "1010",
         "2018-03",
         "10690.02"
        ],
        [
         "38",
         "1010",
         "2018-04",
         "19722.34"
        ],
        [
         "39",
         "1010",
         "2018-05",
         "15888.52"
        ],
        [
         "40",
         "1010",
         "2018-06",
         "16829.31"
        ],
        [
         "41",
         "1010",
         "2018-07",
         "12663.11"
        ],
        [
         "42",
         "1010",
         "2018-08",
         "19811.84"
        ],
        [
         "43",
         "1010",
         "2018-09",
         "16813.73"
        ],
        [
         "44",
         "1010",
         "2018-10",
         "16937.78"
        ],
        [
         "45",
         "1010",
         "2018-11",
         "7985.59"
        ],
        [
         "46",
         "1011",
         "2018-06",
         "6685.11"
        ],
        [
         "47",
         "1011",
         "2018-07",
         "21046.41"
        ],
        [
         "48",
         "1011",
         "2018-08",
         "21099.37"
        ],
        [
         "49",
         "1011",
         "2018-09",
         "16638.46"
        ]
       ],
       "shape": {
        "columns": 3,
        "rows": 2277
       }
      },
      "text/html": [
       "<div>\n",
       "<style scoped>\n",
       "    .dataframe tbody tr th:only-of-type {\n",
       "        vertical-align: middle;\n",
       "    }\n",
       "\n",
       "    .dataframe tbody tr th {\n",
       "        vertical-align: top;\n",
       "    }\n",
       "\n",
       "    .dataframe thead th {\n",
       "        text-align: right;\n",
       "    }\n",
       "</style>\n",
       "<table border=\"1\" class=\"dataframe\">\n",
       "  <thead>\n",
       "    <tr style=\"text-align: right;\">\n",
       "      <th></th>\n",
       "      <th>user_id</th>\n",
       "      <th>month</th>\n",
       "      <th>mb_used_per_month</th>\n",
       "    </tr>\n",
       "  </thead>\n",
       "  <tbody>\n",
       "    <tr>\n",
       "      <th>0</th>\n",
       "      <td>1000</td>\n",
       "      <td>2018-12</td>\n",
       "      <td>1901.47</td>\n",
       "    </tr>\n",
       "    <tr>\n",
       "      <th>1</th>\n",
       "      <td>1001</td>\n",
       "      <td>2018-08</td>\n",
       "      <td>6919.15</td>\n",
       "    </tr>\n",
       "    <tr>\n",
       "      <th>2</th>\n",
       "      <td>1001</td>\n",
       "      <td>2018-09</td>\n",
       "      <td>13314.82</td>\n",
       "    </tr>\n",
       "    <tr>\n",
       "      <th>3</th>\n",
       "      <td>1001</td>\n",
       "      <td>2018-10</td>\n",
       "      <td>22330.49</td>\n",
       "    </tr>\n",
       "    <tr>\n",
       "      <th>4</th>\n",
       "      <td>1001</td>\n",
       "      <td>2018-11</td>\n",
       "      <td>18504.30</td>\n",
       "    </tr>\n",
       "    <tr>\n",
       "      <th>...</th>\n",
       "      <td>...</td>\n",
       "      <td>...</td>\n",
       "      <td>...</td>\n",
       "    </tr>\n",
       "    <tr>\n",
       "      <th>2272</th>\n",
       "      <td>1498</td>\n",
       "      <td>2018-12</td>\n",
       "      <td>23137.69</td>\n",
       "    </tr>\n",
       "    <tr>\n",
       "      <th>2273</th>\n",
       "      <td>1499</td>\n",
       "      <td>2018-09</td>\n",
       "      <td>12984.76</td>\n",
       "    </tr>\n",
       "    <tr>\n",
       "      <th>2274</th>\n",
       "      <td>1499</td>\n",
       "      <td>2018-10</td>\n",
       "      <td>19492.43</td>\n",
       "    </tr>\n",
       "    <tr>\n",
       "      <th>2275</th>\n",
       "      <td>1499</td>\n",
       "      <td>2018-11</td>\n",
       "      <td>16813.83</td>\n",
       "    </tr>\n",
       "    <tr>\n",
       "      <th>2276</th>\n",
       "      <td>1499</td>\n",
       "      <td>2018-12</td>\n",
       "      <td>22059.21</td>\n",
       "    </tr>\n",
       "  </tbody>\n",
       "</table>\n",
       "<p>2277 rows × 3 columns</p>\n",
       "</div>"
      ],
      "text/plain": [
       "      user_id    month  mb_used_per_month\n",
       "0        1000  2018-12            1901.47\n",
       "1        1001  2018-08            6919.15\n",
       "2        1001  2018-09           13314.82\n",
       "3        1001  2018-10           22330.49\n",
       "4        1001  2018-11           18504.30\n",
       "...       ...      ...                ...\n",
       "2272     1498  2018-12           23137.69\n",
       "2273     1499  2018-09           12984.76\n",
       "2274     1499  2018-10           19492.43\n",
       "2275     1499  2018-11           16813.83\n",
       "2276     1499  2018-12           22059.21\n",
       "\n",
       "[2277 rows x 3 columns]"
      ]
     },
     "execution_count": 23,
     "metadata": {},
     "output_type": "execute_result"
    }
   ],
   "source": [
    "# Calcula el volumen del tráfico de Internet usado por cada usuario al mes. Guarda el resultado.\n",
    "\n",
    "#Agrupar datos por mes en una nueva columna que no tome en cuenta el día\n",
    "internet['month'] = internet['session_date'].dt.to_period('M')\n",
    "\n",
    "#Agrupar los datos por user y month, y añadir una nueva columna para la suma de mb_used\n",
    "internet_traffic_per_user_month = (internet.groupby(['user_id','month'])\n",
    "                                   .agg(mb_used_per_month=('mb_used','sum'))\n",
    "                                   .reset_index()\n",
    "                                   )\n",
    "\n",
    "internet_traffic_per_user_month"
   ]
  },
  {
   "cell_type": "markdown",
   "metadata": {
    "id": "VDfYXnj80q1H"
   },
   "source": [
    "[Junta los datos agregados en un DataFrame para que haya un registro que represente lo que consumió un usuario único en un mes determinado.]"
   ]
  },
  {
   "cell_type": "code",
   "execution_count": 24,
   "metadata": {
    "id": "FW99ykyf0q1H"
   },
   "outputs": [
    {
     "name": "stdout",
     "output_type": "stream",
     "text": [
      "<class 'pandas.core.frame.DataFrame'>\n",
      "RangeIndex: 2258 entries, 0 to 2257\n",
      "Data columns (total 7 columns):\n",
      " #   Column                  Non-Null Count  Dtype    \n",
      "---  ------                  --------------  -----    \n",
      " 0   user_id                 2258 non-null   int64    \n",
      " 1   month                   2258 non-null   period[M]\n",
      " 2   num_calls               2258 non-null   int64    \n",
      " 3   original_total_minutes  2258 non-null   float64  \n",
      " 4   charged_minutes         2258 non-null   float64  \n",
      " 5   numb_messages           2258 non-null   float64  \n",
      " 6   mb_used_per_month       2258 non-null   float64  \n",
      "dtypes: float64(4), int64(2), period[M](1)\n",
      "memory usage: 123.6 KB\n"
     ]
    }
   ],
   "source": [
    "# Fusiona los datos de llamadas, minutos, mensajes e Internet con base en user_id y month\n",
    "#Fusionamos los primeros dos dataframe con el how=left.\n",
    "df_merge_1 = pd.merge(calls_per_user_month,charged_calls, on=(['user_id','month']), how='left')\n",
    "\n",
    "#Fusionamos el df_merge_1 con el siguiente dataframe\n",
    "df_merge_2 = pd.merge(df_merge_1,messages_per_month,how='left',on=(['user_id','month']))\n",
    "\n",
    "#Fusionamos el df_merge_2 con el siguiente dataframe y este será el df final que usaremos\n",
    "data_per_user_month_general = pd.merge(df_merge_2,internet_traffic_per_user_month,how='left',on=(['user_id','month']))\n",
    "\n",
    "# Rellenamos los huecos que se crearian al momento de hacer merge de los diferentes dataframes por 0\n",
    "data_per_user_month_general = data_per_user_month_general.fillna(0)\n",
    "\n",
    "data_per_user_month_general.info()"
   ]
  },
  {
   "cell_type": "code",
   "execution_count": 25,
   "metadata": {
    "id": "0dNOXHag0q1H"
   },
   "outputs": [
    {
     "data": {
      "application/vnd.microsoft.datawrangler.viewer.v0+json": {
       "columns": [
        {
         "name": "index",
         "rawType": "int64",
         "type": "integer"
        },
        {
         "name": "user_id",
         "rawType": "int64",
         "type": "integer"
        },
        {
         "name": "month",
         "rawType": "period[M]",
         "type": "unknown"
        },
        {
         "name": "num_calls",
         "rawType": "int64",
         "type": "integer"
        },
        {
         "name": "original_total_minutes",
         "rawType": "float64",
         "type": "float"
        },
        {
         "name": "charged_minutes",
         "rawType": "float64",
         "type": "float"
        },
        {
         "name": "numb_messages",
         "rawType": "float64",
         "type": "float"
        },
        {
         "name": "mb_used_per_month",
         "rawType": "float64",
         "type": "float"
        },
        {
         "name": "plan",
         "rawType": "object",
         "type": "string"
        }
       ],
       "conversionMethod": "pd.DataFrame",
       "ref": "5fd22d3f-f47b-47c6-8b2f-cd6765a9cbd6",
       "rows": [
        [
         "0",
         "1000",
         "2018-12",
         "16",
         "116.83",
         "124.0",
         "11.0",
         "1901.47",
         "ultimate"
        ],
        [
         "1",
         "1001",
         "2018-08",
         "27",
         "171.14",
         "182.0",
         "30.0",
         "6919.15",
         "surf"
        ],
        [
         "2",
         "1001",
         "2018-09",
         "49",
         "297.69",
         "315.0",
         "44.0",
         "13314.82",
         "surf"
        ],
        [
         "3",
         "1001",
         "2018-10",
         "65",
         "374.11",
         "393.0",
         "53.0",
         "22330.49",
         "surf"
        ],
        [
         "4",
         "1001",
         "2018-11",
         "64",
         "404.59",
         "426.0",
         "36.0",
         "18504.3",
         "surf"
        ],
        [
         "5",
         "1001",
         "2018-12",
         "56",
         "392.93",
         "412.0",
         "44.0",
         "19369.18",
         "surf"
        ],
        [
         "6",
         "1002",
         "2018-10",
         "11",
         "54.13",
         "59.0",
         "15.0",
         "6552.01",
         "surf"
        ],
        [
         "7",
         "1002",
         "2018-11",
         "55",
         "359.76",
         "386.0",
         "32.0",
         "19345.08",
         "surf"
        ],
        [
         "8",
         "1002",
         "2018-12",
         "47",
         "363.24",
         "384.0",
         "41.0",
         "14396.24",
         "surf"
        ],
        [
         "9",
         "1003",
         "2018-12",
         "149",
         "1041.0",
         "1104.0",
         "50.0",
         "27044.14",
         "surf"
        ],
        [
         "10",
         "1004",
         "2018-05",
         "21",
         "181.58",
         "193.0",
         "7.0",
         "6547.21",
         "surf"
        ],
        [
         "11",
         "1004",
         "2018-06",
         "44",
         "261.32",
         "275.0",
         "18.0",
         "20672.82",
         "surf"
        ],
        [
         "12",
         "1004",
         "2018-07",
         "49",
         "358.45",
         "381.0",
         "26.0",
         "24516.62",
         "surf"
        ],
        [
         "13",
         "1004",
         "2018-08",
         "49",
         "334.86",
         "354.0",
         "25.0",
         "27981.739999999998",
         "surf"
        ],
        [
         "14",
         "1004",
         "2018-09",
         "42",
         "284.6",
         "301.0",
         "21.0",
         "18852.72",
         "surf"
        ],
        [
         "15",
         "1004",
         "2018-10",
         "61",
         "341.63",
         "365.0",
         "24.0",
         "14541.63",
         "surf"
        ],
        [
         "16",
         "1004",
         "2018-11",
         "54",
         "452.98",
         "476.0",
         "25.0",
         "21850.78",
         "surf"
        ],
        [
         "17",
         "1004",
         "2018-12",
         "50",
         "403.53000000000003",
         "427.0",
         "31.0",
         "21389.29",
         "surf"
        ],
        [
         "18",
         "1005",
         "2018-12",
         "59",
         "470.22",
         "496.0",
         "11.0",
         "17140.17",
         "surf"
        ],
        [
         "19",
         "1006",
         "2018-11",
         "2",
         "9.32",
         "10.0",
         "15.0",
         "2068.37",
         "ultimate"
        ],
        [
         "20",
         "1006",
         "2018-12",
         "9",
         "54.79",
         "59.0",
         "139.0",
         "32118.82",
         "ultimate"
        ],
        [
         "21",
         "1007",
         "2018-08",
         "70",
         "427.95",
         "456.0",
         "51.0",
         "24439.88",
         "surf"
        ],
        [
         "22",
         "1007",
         "2018-09",
         "63",
         "375.83",
         "399.0",
         "47.0",
         "28123.95",
         "surf"
        ],
        [
         "23",
         "1007",
         "2018-10",
         "80",
         "610.65",
         "645.0",
         "59.0",
         "37885.63",
         "surf"
        ],
        [
         "24",
         "1007",
         "2018-11",
         "80",
         "490.29",
         "524.0",
         "48.0",
         "24334.0",
         "surf"
        ],
        [
         "25",
         "1007",
         "2018-12",
         "87",
         "579.43",
         "617.0",
         "50.0",
         "29069.28",
         "surf"
        ],
        [
         "26",
         "1008",
         "2018-10",
         "71",
         "450.21",
         "476.0",
         "21.0",
         "17106.989999999998",
         "ultimate"
        ],
        [
         "27",
         "1008",
         "2018-11",
         "63",
         "422.81",
         "446.0",
         "37.0",
         "23676.72",
         "ultimate"
        ],
        [
         "28",
         "1008",
         "2018-12",
         "85",
         "600.29",
         "634.0",
         "26.0",
         "14689.33",
         "ultimate"
        ],
        [
         "29",
         "1009",
         "2018-05",
         "71",
         "498.93",
         "534.0",
         "0.0",
         "20389.4",
         "surf"
        ],
        [
         "30",
         "1009",
         "2018-06",
         "110",
         "775.52",
         "823.0",
         "0.0",
         "18845.9",
         "surf"
        ],
        [
         "31",
         "1009",
         "2018-07",
         "124",
         "826.74",
         "880.0",
         "0.0",
         "30421.65",
         "surf"
        ],
        [
         "32",
         "1009",
         "2018-08",
         "109",
         "680.39",
         "731.0",
         "0.0",
         "24557.52",
         "surf"
        ],
        [
         "33",
         "1009",
         "2018-09",
         "116",
         "730.47",
         "776.0",
         "0.0",
         "20962.4",
         "surf"
        ],
        [
         "34",
         "1009",
         "2018-10",
         "114",
         "696.35",
         "740.0",
         "0.0",
         "22664.84",
         "surf"
        ],
        [
         "35",
         "1009",
         "2018-11",
         "105",
         "668.57",
         "714.0",
         "0.0",
         "25473.43",
         "surf"
        ],
        [
         "36",
         "1009",
         "2018-12",
         "107",
         "712.71",
         "756.0",
         "0.0",
         "23922.6",
         "surf"
        ],
        [
         "37",
         "1010",
         "2018-03",
         "63",
         "408.42",
         "429.0",
         "0.0",
         "10690.02",
         "surf"
        ],
        [
         "38",
         "1010",
         "2018-04",
         "90",
         "618.43",
         "656.0",
         "0.0",
         "19722.34",
         "surf"
        ],
        [
         "39",
         "1010",
         "2018-05",
         "81",
         "497.94",
         "532.0",
         "0.0",
         "15888.52",
         "surf"
        ],
        [
         "40",
         "1010",
         "2018-06",
         "77",
         "524.14",
         "553.0",
         "0.0",
         "16829.31",
         "surf"
        ],
        [
         "41",
         "1010",
         "2018-07",
         "101",
         "658.24",
         "698.0",
         "0.0",
         "12663.11",
         "surf"
        ],
        [
         "42",
         "1010",
         "2018-08",
         "93",
         "598.94",
         "637.0",
         "0.0",
         "19811.84",
         "surf"
        ],
        [
         "43",
         "1010",
         "2018-09",
         "83",
         "568.75",
         "601.0",
         "0.0",
         "16813.73",
         "surf"
        ],
        [
         "44",
         "1010",
         "2018-10",
         "95",
         "668.63",
         "711.0",
         "0.0",
         "16937.78",
         "surf"
        ],
        [
         "45",
         "1010",
         "2018-11",
         "30",
         "245.37",
         "258.0",
         "0.0",
         "7985.59",
         "surf"
        ],
        [
         "46",
         "1011",
         "2018-06",
         "19",
         "111.67999999999999",
         "118.0",
         "21.0",
         "6685.11",
         "ultimate"
        ],
        [
         "47",
         "1011",
         "2018-07",
         "63",
         "472.65999999999997",
         "499.0",
         "53.0",
         "21046.41",
         "ultimate"
        ],
        [
         "48",
         "1011",
         "2018-08",
         "61",
         "460.12",
         "486.0",
         "54.0",
         "21099.37",
         "ultimate"
        ],
        [
         "49",
         "1011",
         "2018-09",
         "73",
         "455.22",
         "484.0",
         "60.0",
         "16638.46",
         "ultimate"
        ]
       ],
       "shape": {
        "columns": 8,
        "rows": 2258
       }
      },
      "text/html": [
       "<div>\n",
       "<style scoped>\n",
       "    .dataframe tbody tr th:only-of-type {\n",
       "        vertical-align: middle;\n",
       "    }\n",
       "\n",
       "    .dataframe tbody tr th {\n",
       "        vertical-align: top;\n",
       "    }\n",
       "\n",
       "    .dataframe thead th {\n",
       "        text-align: right;\n",
       "    }\n",
       "</style>\n",
       "<table border=\"1\" class=\"dataframe\">\n",
       "  <thead>\n",
       "    <tr style=\"text-align: right;\">\n",
       "      <th></th>\n",
       "      <th>user_id</th>\n",
       "      <th>month</th>\n",
       "      <th>num_calls</th>\n",
       "      <th>original_total_minutes</th>\n",
       "      <th>charged_minutes</th>\n",
       "      <th>numb_messages</th>\n",
       "      <th>mb_used_per_month</th>\n",
       "      <th>plan</th>\n",
       "    </tr>\n",
       "  </thead>\n",
       "  <tbody>\n",
       "    <tr>\n",
       "      <th>0</th>\n",
       "      <td>1000</td>\n",
       "      <td>2018-12</td>\n",
       "      <td>16</td>\n",
       "      <td>116.83</td>\n",
       "      <td>124.0</td>\n",
       "      <td>11.0</td>\n",
       "      <td>1901.47</td>\n",
       "      <td>ultimate</td>\n",
       "    </tr>\n",
       "    <tr>\n",
       "      <th>1</th>\n",
       "      <td>1001</td>\n",
       "      <td>2018-08</td>\n",
       "      <td>27</td>\n",
       "      <td>171.14</td>\n",
       "      <td>182.0</td>\n",
       "      <td>30.0</td>\n",
       "      <td>6919.15</td>\n",
       "      <td>surf</td>\n",
       "    </tr>\n",
       "    <tr>\n",
       "      <th>2</th>\n",
       "      <td>1001</td>\n",
       "      <td>2018-09</td>\n",
       "      <td>49</td>\n",
       "      <td>297.69</td>\n",
       "      <td>315.0</td>\n",
       "      <td>44.0</td>\n",
       "      <td>13314.82</td>\n",
       "      <td>surf</td>\n",
       "    </tr>\n",
       "    <tr>\n",
       "      <th>3</th>\n",
       "      <td>1001</td>\n",
       "      <td>2018-10</td>\n",
       "      <td>65</td>\n",
       "      <td>374.11</td>\n",
       "      <td>393.0</td>\n",
       "      <td>53.0</td>\n",
       "      <td>22330.49</td>\n",
       "      <td>surf</td>\n",
       "    </tr>\n",
       "    <tr>\n",
       "      <th>4</th>\n",
       "      <td>1001</td>\n",
       "      <td>2018-11</td>\n",
       "      <td>64</td>\n",
       "      <td>404.59</td>\n",
       "      <td>426.0</td>\n",
       "      <td>36.0</td>\n",
       "      <td>18504.30</td>\n",
       "      <td>surf</td>\n",
       "    </tr>\n",
       "    <tr>\n",
       "      <th>...</th>\n",
       "      <td>...</td>\n",
       "      <td>...</td>\n",
       "      <td>...</td>\n",
       "      <td>...</td>\n",
       "      <td>...</td>\n",
       "      <td>...</td>\n",
       "      <td>...</td>\n",
       "      <td>...</td>\n",
       "    </tr>\n",
       "    <tr>\n",
       "      <th>2253</th>\n",
       "      <td>1498</td>\n",
       "      <td>2018-12</td>\n",
       "      <td>39</td>\n",
       "      <td>324.77</td>\n",
       "      <td>339.0</td>\n",
       "      <td>0.0</td>\n",
       "      <td>23137.69</td>\n",
       "      <td>surf</td>\n",
       "    </tr>\n",
       "    <tr>\n",
       "      <th>2254</th>\n",
       "      <td>1499</td>\n",
       "      <td>2018-09</td>\n",
       "      <td>41</td>\n",
       "      <td>330.37</td>\n",
       "      <td>346.0</td>\n",
       "      <td>0.0</td>\n",
       "      <td>12984.76</td>\n",
       "      <td>surf</td>\n",
       "    </tr>\n",
       "    <tr>\n",
       "      <th>2255</th>\n",
       "      <td>1499</td>\n",
       "      <td>2018-10</td>\n",
       "      <td>53</td>\n",
       "      <td>363.28</td>\n",
       "      <td>385.0</td>\n",
       "      <td>0.0</td>\n",
       "      <td>19492.43</td>\n",
       "      <td>surf</td>\n",
       "    </tr>\n",
       "    <tr>\n",
       "      <th>2256</th>\n",
       "      <td>1499</td>\n",
       "      <td>2018-11</td>\n",
       "      <td>45</td>\n",
       "      <td>288.56</td>\n",
       "      <td>308.0</td>\n",
       "      <td>0.0</td>\n",
       "      <td>16813.83</td>\n",
       "      <td>surf</td>\n",
       "    </tr>\n",
       "    <tr>\n",
       "      <th>2257</th>\n",
       "      <td>1499</td>\n",
       "      <td>2018-12</td>\n",
       "      <td>65</td>\n",
       "      <td>468.10</td>\n",
       "      <td>496.0</td>\n",
       "      <td>0.0</td>\n",
       "      <td>22059.21</td>\n",
       "      <td>surf</td>\n",
       "    </tr>\n",
       "  </tbody>\n",
       "</table>\n",
       "<p>2258 rows × 8 columns</p>\n",
       "</div>"
      ],
      "text/plain": [
       "      user_id    month  num_calls  original_total_minutes  charged_minutes  \\\n",
       "0        1000  2018-12         16                  116.83            124.0   \n",
       "1        1001  2018-08         27                  171.14            182.0   \n",
       "2        1001  2018-09         49                  297.69            315.0   \n",
       "3        1001  2018-10         65                  374.11            393.0   \n",
       "4        1001  2018-11         64                  404.59            426.0   \n",
       "...       ...      ...        ...                     ...              ...   \n",
       "2253     1498  2018-12         39                  324.77            339.0   \n",
       "2254     1499  2018-09         41                  330.37            346.0   \n",
       "2255     1499  2018-10         53                  363.28            385.0   \n",
       "2256     1499  2018-11         45                  288.56            308.0   \n",
       "2257     1499  2018-12         65                  468.10            496.0   \n",
       "\n",
       "      numb_messages  mb_used_per_month      plan  \n",
       "0              11.0            1901.47  ultimate  \n",
       "1              30.0            6919.15      surf  \n",
       "2              44.0           13314.82      surf  \n",
       "3              53.0           22330.49      surf  \n",
       "4              36.0           18504.30      surf  \n",
       "...             ...                ...       ...  \n",
       "2253            0.0           23137.69      surf  \n",
       "2254            0.0           12984.76      surf  \n",
       "2255            0.0           19492.43      surf  \n",
       "2256            0.0           16813.83      surf  \n",
       "2257            0.0           22059.21      surf  \n",
       "\n",
       "[2258 rows x 8 columns]"
      ]
     },
     "execution_count": 25,
     "metadata": {},
     "output_type": "execute_result"
    }
   ],
   "source": [
    "# Añade la información de la tarifa\n",
    "# Crea un dataframe nuevo que solo contenga el plan para cada usuario. \n",
    "# Usar drop_duplicates asegura que user_id aparezca solo una vez\n",
    "users_plans = users[['user_id','plan']].drop_duplicates()\n",
    "# Unir los dos dataframes haciendo coinicidr el user_id\n",
    "data_per_user_month_general = data_per_user_month_general.merge(users_plans,on='user_id',how='left')\n",
    "\n",
    "data_per_user_month_general"
   ]
  },
  {
   "cell_type": "markdown",
   "metadata": {
    "id": "1IwGo4wg0q1I"
   },
   "source": [
    "[Calcula los ingresos mensuales por usuario (resta el límite del paquete gratuito del número total de llamadas, mensajes de texto y datos; multiplica el resultado por el valor del plan de llamadas; añade la tarifa mensual en función del plan de llamadas). Nota: Dadas las condiciones del plan, ¡esto podría no ser tan trivial como un par de líneas! Así que no pasa nada si dedicas algo de tiempo a ello.]"
   ]
  },
  {
   "cell_type": "code",
   "execution_count": 26,
   "metadata": {},
   "outputs": [
    {
     "data": {
      "application/vnd.microsoft.datawrangler.viewer.v0+json": {
       "columns": [
        {
         "name": "index",
         "rawType": "int64",
         "type": "integer"
        },
        {
         "name": "user_id",
         "rawType": "int64",
         "type": "integer"
        },
        {
         "name": "month",
         "rawType": "period[M]",
         "type": "unknown"
        },
        {
         "name": "num_calls",
         "rawType": "int64",
         "type": "integer"
        },
        {
         "name": "original_total_minutes",
         "rawType": "float64",
         "type": "float"
        },
        {
         "name": "charged_minutes",
         "rawType": "float64",
         "type": "float"
        },
        {
         "name": "numb_messages",
         "rawType": "float64",
         "type": "float"
        },
        {
         "name": "mb_used_per_month",
         "rawType": "float64",
         "type": "float"
        },
        {
         "name": "plan",
         "rawType": "object",
         "type": "string"
        },
        {
         "name": "messages_included",
         "rawType": "int64",
         "type": "integer"
        },
        {
         "name": "mb_per_month_included",
         "rawType": "int64",
         "type": "integer"
        },
        {
         "name": "minutes_included",
         "rawType": "int64",
         "type": "integer"
        },
        {
         "name": "usd_monthly_pay",
         "rawType": "float64",
         "type": "float"
        },
        {
         "name": "usd_per_gb",
         "rawType": "float64",
         "type": "float"
        },
        {
         "name": "usd_per_message",
         "rawType": "float64",
         "type": "float"
        },
        {
         "name": "usd_per_minute",
         "rawType": "float64",
         "type": "float"
        },
        {
         "name": "plan_name",
         "rawType": "object",
         "type": "string"
        }
       ],
       "conversionMethod": "pd.DataFrame",
       "ref": "500d3f26-9a27-475b-bb16-08d0adeebc86",
       "rows": [
        [
         "0",
         "1000",
         "2018-12",
         "16",
         "116.83",
         "124.0",
         "11.0",
         "1901.47",
         "ultimate",
         "1000",
         "30720",
         "3000",
         "70.0",
         "7.0",
         "0.01",
         "0.01",
         "ultimate"
        ],
        [
         "1",
         "1001",
         "2018-08",
         "27",
         "171.14",
         "182.0",
         "30.0",
         "6919.15",
         "surf",
         "50",
         "15360",
         "500",
         "20.0",
         "10.0",
         "0.03",
         "0.03",
         "surf"
        ],
        [
         "2",
         "1001",
         "2018-09",
         "49",
         "297.69",
         "315.0",
         "44.0",
         "13314.82",
         "surf",
         "50",
         "15360",
         "500",
         "20.0",
         "10.0",
         "0.03",
         "0.03",
         "surf"
        ],
        [
         "3",
         "1001",
         "2018-10",
         "65",
         "374.11",
         "393.0",
         "53.0",
         "22330.49",
         "surf",
         "50",
         "15360",
         "500",
         "20.0",
         "10.0",
         "0.03",
         "0.03",
         "surf"
        ],
        [
         "4",
         "1001",
         "2018-11",
         "64",
         "404.59",
         "426.0",
         "36.0",
         "18504.3",
         "surf",
         "50",
         "15360",
         "500",
         "20.0",
         "10.0",
         "0.03",
         "0.03",
         "surf"
        ],
        [
         "5",
         "1001",
         "2018-12",
         "56",
         "392.93",
         "412.0",
         "44.0",
         "19369.18",
         "surf",
         "50",
         "15360",
         "500",
         "20.0",
         "10.0",
         "0.03",
         "0.03",
         "surf"
        ],
        [
         "6",
         "1002",
         "2018-10",
         "11",
         "54.13",
         "59.0",
         "15.0",
         "6552.01",
         "surf",
         "50",
         "15360",
         "500",
         "20.0",
         "10.0",
         "0.03",
         "0.03",
         "surf"
        ],
        [
         "7",
         "1002",
         "2018-11",
         "55",
         "359.76",
         "386.0",
         "32.0",
         "19345.08",
         "surf",
         "50",
         "15360",
         "500",
         "20.0",
         "10.0",
         "0.03",
         "0.03",
         "surf"
        ],
        [
         "8",
         "1002",
         "2018-12",
         "47",
         "363.24",
         "384.0",
         "41.0",
         "14396.24",
         "surf",
         "50",
         "15360",
         "500",
         "20.0",
         "10.0",
         "0.03",
         "0.03",
         "surf"
        ],
        [
         "9",
         "1003",
         "2018-12",
         "149",
         "1041.0",
         "1104.0",
         "50.0",
         "27044.14",
         "surf",
         "50",
         "15360",
         "500",
         "20.0",
         "10.0",
         "0.03",
         "0.03",
         "surf"
        ],
        [
         "10",
         "1004",
         "2018-05",
         "21",
         "181.58",
         "193.0",
         "7.0",
         "6547.21",
         "surf",
         "50",
         "15360",
         "500",
         "20.0",
         "10.0",
         "0.03",
         "0.03",
         "surf"
        ],
        [
         "11",
         "1004",
         "2018-06",
         "44",
         "261.32",
         "275.0",
         "18.0",
         "20672.82",
         "surf",
         "50",
         "15360",
         "500",
         "20.0",
         "10.0",
         "0.03",
         "0.03",
         "surf"
        ],
        [
         "12",
         "1004",
         "2018-07",
         "49",
         "358.45",
         "381.0",
         "26.0",
         "24516.62",
         "surf",
         "50",
         "15360",
         "500",
         "20.0",
         "10.0",
         "0.03",
         "0.03",
         "surf"
        ],
        [
         "13",
         "1004",
         "2018-08",
         "49",
         "334.86",
         "354.0",
         "25.0",
         "27981.739999999998",
         "surf",
         "50",
         "15360",
         "500",
         "20.0",
         "10.0",
         "0.03",
         "0.03",
         "surf"
        ],
        [
         "14",
         "1004",
         "2018-09",
         "42",
         "284.6",
         "301.0",
         "21.0",
         "18852.72",
         "surf",
         "50",
         "15360",
         "500",
         "20.0",
         "10.0",
         "0.03",
         "0.03",
         "surf"
        ],
        [
         "15",
         "1004",
         "2018-10",
         "61",
         "341.63",
         "365.0",
         "24.0",
         "14541.63",
         "surf",
         "50",
         "15360",
         "500",
         "20.0",
         "10.0",
         "0.03",
         "0.03",
         "surf"
        ],
        [
         "16",
         "1004",
         "2018-11",
         "54",
         "452.98",
         "476.0",
         "25.0",
         "21850.78",
         "surf",
         "50",
         "15360",
         "500",
         "20.0",
         "10.0",
         "0.03",
         "0.03",
         "surf"
        ],
        [
         "17",
         "1004",
         "2018-12",
         "50",
         "403.53000000000003",
         "427.0",
         "31.0",
         "21389.29",
         "surf",
         "50",
         "15360",
         "500",
         "20.0",
         "10.0",
         "0.03",
         "0.03",
         "surf"
        ],
        [
         "18",
         "1005",
         "2018-12",
         "59",
         "470.22",
         "496.0",
         "11.0",
         "17140.17",
         "surf",
         "50",
         "15360",
         "500",
         "20.0",
         "10.0",
         "0.03",
         "0.03",
         "surf"
        ],
        [
         "19",
         "1006",
         "2018-11",
         "2",
         "9.32",
         "10.0",
         "15.0",
         "2068.37",
         "ultimate",
         "1000",
         "30720",
         "3000",
         "70.0",
         "7.0",
         "0.01",
         "0.01",
         "ultimate"
        ],
        [
         "20",
         "1006",
         "2018-12",
         "9",
         "54.79",
         "59.0",
         "139.0",
         "32118.82",
         "ultimate",
         "1000",
         "30720",
         "3000",
         "70.0",
         "7.0",
         "0.01",
         "0.01",
         "ultimate"
        ],
        [
         "21",
         "1007",
         "2018-08",
         "70",
         "427.95",
         "456.0",
         "51.0",
         "24439.88",
         "surf",
         "50",
         "15360",
         "500",
         "20.0",
         "10.0",
         "0.03",
         "0.03",
         "surf"
        ],
        [
         "22",
         "1007",
         "2018-09",
         "63",
         "375.83",
         "399.0",
         "47.0",
         "28123.95",
         "surf",
         "50",
         "15360",
         "500",
         "20.0",
         "10.0",
         "0.03",
         "0.03",
         "surf"
        ],
        [
         "23",
         "1007",
         "2018-10",
         "80",
         "610.65",
         "645.0",
         "59.0",
         "37885.63",
         "surf",
         "50",
         "15360",
         "500",
         "20.0",
         "10.0",
         "0.03",
         "0.03",
         "surf"
        ],
        [
         "24",
         "1007",
         "2018-11",
         "80",
         "490.29",
         "524.0",
         "48.0",
         "24334.0",
         "surf",
         "50",
         "15360",
         "500",
         "20.0",
         "10.0",
         "0.03",
         "0.03",
         "surf"
        ],
        [
         "25",
         "1007",
         "2018-12",
         "87",
         "579.43",
         "617.0",
         "50.0",
         "29069.28",
         "surf",
         "50",
         "15360",
         "500",
         "20.0",
         "10.0",
         "0.03",
         "0.03",
         "surf"
        ],
        [
         "26",
         "1008",
         "2018-10",
         "71",
         "450.21",
         "476.0",
         "21.0",
         "17106.989999999998",
         "ultimate",
         "1000",
         "30720",
         "3000",
         "70.0",
         "7.0",
         "0.01",
         "0.01",
         "ultimate"
        ],
        [
         "27",
         "1008",
         "2018-11",
         "63",
         "422.81",
         "446.0",
         "37.0",
         "23676.72",
         "ultimate",
         "1000",
         "30720",
         "3000",
         "70.0",
         "7.0",
         "0.01",
         "0.01",
         "ultimate"
        ],
        [
         "28",
         "1008",
         "2018-12",
         "85",
         "600.29",
         "634.0",
         "26.0",
         "14689.33",
         "ultimate",
         "1000",
         "30720",
         "3000",
         "70.0",
         "7.0",
         "0.01",
         "0.01",
         "ultimate"
        ],
        [
         "29",
         "1009",
         "2018-05",
         "71",
         "498.93",
         "534.0",
         "0.0",
         "20389.4",
         "surf",
         "50",
         "15360",
         "500",
         "20.0",
         "10.0",
         "0.03",
         "0.03",
         "surf"
        ],
        [
         "30",
         "1009",
         "2018-06",
         "110",
         "775.52",
         "823.0",
         "0.0",
         "18845.9",
         "surf",
         "50",
         "15360",
         "500",
         "20.0",
         "10.0",
         "0.03",
         "0.03",
         "surf"
        ],
        [
         "31",
         "1009",
         "2018-07",
         "124",
         "826.74",
         "880.0",
         "0.0",
         "30421.65",
         "surf",
         "50",
         "15360",
         "500",
         "20.0",
         "10.0",
         "0.03",
         "0.03",
         "surf"
        ],
        [
         "32",
         "1009",
         "2018-08",
         "109",
         "680.39",
         "731.0",
         "0.0",
         "24557.52",
         "surf",
         "50",
         "15360",
         "500",
         "20.0",
         "10.0",
         "0.03",
         "0.03",
         "surf"
        ],
        [
         "33",
         "1009",
         "2018-09",
         "116",
         "730.47",
         "776.0",
         "0.0",
         "20962.4",
         "surf",
         "50",
         "15360",
         "500",
         "20.0",
         "10.0",
         "0.03",
         "0.03",
         "surf"
        ],
        [
         "34",
         "1009",
         "2018-10",
         "114",
         "696.35",
         "740.0",
         "0.0",
         "22664.84",
         "surf",
         "50",
         "15360",
         "500",
         "20.0",
         "10.0",
         "0.03",
         "0.03",
         "surf"
        ],
        [
         "35",
         "1009",
         "2018-11",
         "105",
         "668.57",
         "714.0",
         "0.0",
         "25473.43",
         "surf",
         "50",
         "15360",
         "500",
         "20.0",
         "10.0",
         "0.03",
         "0.03",
         "surf"
        ],
        [
         "36",
         "1009",
         "2018-12",
         "107",
         "712.71",
         "756.0",
         "0.0",
         "23922.6",
         "surf",
         "50",
         "15360",
         "500",
         "20.0",
         "10.0",
         "0.03",
         "0.03",
         "surf"
        ],
        [
         "37",
         "1010",
         "2018-03",
         "63",
         "408.42",
         "429.0",
         "0.0",
         "10690.02",
         "surf",
         "50",
         "15360",
         "500",
         "20.0",
         "10.0",
         "0.03",
         "0.03",
         "surf"
        ],
        [
         "38",
         "1010",
         "2018-04",
         "90",
         "618.43",
         "656.0",
         "0.0",
         "19722.34",
         "surf",
         "50",
         "15360",
         "500",
         "20.0",
         "10.0",
         "0.03",
         "0.03",
         "surf"
        ],
        [
         "39",
         "1010",
         "2018-05",
         "81",
         "497.94",
         "532.0",
         "0.0",
         "15888.52",
         "surf",
         "50",
         "15360",
         "500",
         "20.0",
         "10.0",
         "0.03",
         "0.03",
         "surf"
        ],
        [
         "40",
         "1010",
         "2018-06",
         "77",
         "524.14",
         "553.0",
         "0.0",
         "16829.31",
         "surf",
         "50",
         "15360",
         "500",
         "20.0",
         "10.0",
         "0.03",
         "0.03",
         "surf"
        ],
        [
         "41",
         "1010",
         "2018-07",
         "101",
         "658.24",
         "698.0",
         "0.0",
         "12663.11",
         "surf",
         "50",
         "15360",
         "500",
         "20.0",
         "10.0",
         "0.03",
         "0.03",
         "surf"
        ],
        [
         "42",
         "1010",
         "2018-08",
         "93",
         "598.94",
         "637.0",
         "0.0",
         "19811.84",
         "surf",
         "50",
         "15360",
         "500",
         "20.0",
         "10.0",
         "0.03",
         "0.03",
         "surf"
        ],
        [
         "43",
         "1010",
         "2018-09",
         "83",
         "568.75",
         "601.0",
         "0.0",
         "16813.73",
         "surf",
         "50",
         "15360",
         "500",
         "20.0",
         "10.0",
         "0.03",
         "0.03",
         "surf"
        ],
        [
         "44",
         "1010",
         "2018-10",
         "95",
         "668.63",
         "711.0",
         "0.0",
         "16937.78",
         "surf",
         "50",
         "15360",
         "500",
         "20.0",
         "10.0",
         "0.03",
         "0.03",
         "surf"
        ],
        [
         "45",
         "1010",
         "2018-11",
         "30",
         "245.37",
         "258.0",
         "0.0",
         "7985.59",
         "surf",
         "50",
         "15360",
         "500",
         "20.0",
         "10.0",
         "0.03",
         "0.03",
         "surf"
        ],
        [
         "46",
         "1011",
         "2018-06",
         "19",
         "111.67999999999999",
         "118.0",
         "21.0",
         "6685.11",
         "ultimate",
         "1000",
         "30720",
         "3000",
         "70.0",
         "7.0",
         "0.01",
         "0.01",
         "ultimate"
        ],
        [
         "47",
         "1011",
         "2018-07",
         "63",
         "472.65999999999997",
         "499.0",
         "53.0",
         "21046.41",
         "ultimate",
         "1000",
         "30720",
         "3000",
         "70.0",
         "7.0",
         "0.01",
         "0.01",
         "ultimate"
        ],
        [
         "48",
         "1011",
         "2018-08",
         "61",
         "460.12",
         "486.0",
         "54.0",
         "21099.37",
         "ultimate",
         "1000",
         "30720",
         "3000",
         "70.0",
         "7.0",
         "0.01",
         "0.01",
         "ultimate"
        ],
        [
         "49",
         "1011",
         "2018-09",
         "73",
         "455.22",
         "484.0",
         "60.0",
         "16638.46",
         "ultimate",
         "1000",
         "30720",
         "3000",
         "70.0",
         "7.0",
         "0.01",
         "0.01",
         "ultimate"
        ]
       ],
       "shape": {
        "columns": 16,
        "rows": 2258
       }
      },
      "text/html": [
       "<div>\n",
       "<style scoped>\n",
       "    .dataframe tbody tr th:only-of-type {\n",
       "        vertical-align: middle;\n",
       "    }\n",
       "\n",
       "    .dataframe tbody tr th {\n",
       "        vertical-align: top;\n",
       "    }\n",
       "\n",
       "    .dataframe thead th {\n",
       "        text-align: right;\n",
       "    }\n",
       "</style>\n",
       "<table border=\"1\" class=\"dataframe\">\n",
       "  <thead>\n",
       "    <tr style=\"text-align: right;\">\n",
       "      <th></th>\n",
       "      <th>user_id</th>\n",
       "      <th>month</th>\n",
       "      <th>num_calls</th>\n",
       "      <th>original_total_minutes</th>\n",
       "      <th>charged_minutes</th>\n",
       "      <th>numb_messages</th>\n",
       "      <th>mb_used_per_month</th>\n",
       "      <th>plan</th>\n",
       "      <th>messages_included</th>\n",
       "      <th>mb_per_month_included</th>\n",
       "      <th>minutes_included</th>\n",
       "      <th>usd_monthly_pay</th>\n",
       "      <th>usd_per_gb</th>\n",
       "      <th>usd_per_message</th>\n",
       "      <th>usd_per_minute</th>\n",
       "      <th>plan_name</th>\n",
       "    </tr>\n",
       "  </thead>\n",
       "  <tbody>\n",
       "    <tr>\n",
       "      <th>0</th>\n",
       "      <td>1000</td>\n",
       "      <td>2018-12</td>\n",
       "      <td>16</td>\n",
       "      <td>116.83</td>\n",
       "      <td>124.0</td>\n",
       "      <td>11.0</td>\n",
       "      <td>1901.47</td>\n",
       "      <td>ultimate</td>\n",
       "      <td>1000</td>\n",
       "      <td>30720</td>\n",
       "      <td>3000</td>\n",
       "      <td>70.0</td>\n",
       "      <td>7.0</td>\n",
       "      <td>0.01</td>\n",
       "      <td>0.01</td>\n",
       "      <td>ultimate</td>\n",
       "    </tr>\n",
       "    <tr>\n",
       "      <th>1</th>\n",
       "      <td>1001</td>\n",
       "      <td>2018-08</td>\n",
       "      <td>27</td>\n",
       "      <td>171.14</td>\n",
       "      <td>182.0</td>\n",
       "      <td>30.0</td>\n",
       "      <td>6919.15</td>\n",
       "      <td>surf</td>\n",
       "      <td>50</td>\n",
       "      <td>15360</td>\n",
       "      <td>500</td>\n",
       "      <td>20.0</td>\n",
       "      <td>10.0</td>\n",
       "      <td>0.03</td>\n",
       "      <td>0.03</td>\n",
       "      <td>surf</td>\n",
       "    </tr>\n",
       "    <tr>\n",
       "      <th>2</th>\n",
       "      <td>1001</td>\n",
       "      <td>2018-09</td>\n",
       "      <td>49</td>\n",
       "      <td>297.69</td>\n",
       "      <td>315.0</td>\n",
       "      <td>44.0</td>\n",
       "      <td>13314.82</td>\n",
       "      <td>surf</td>\n",
       "      <td>50</td>\n",
       "      <td>15360</td>\n",
       "      <td>500</td>\n",
       "      <td>20.0</td>\n",
       "      <td>10.0</td>\n",
       "      <td>0.03</td>\n",
       "      <td>0.03</td>\n",
       "      <td>surf</td>\n",
       "    </tr>\n",
       "    <tr>\n",
       "      <th>3</th>\n",
       "      <td>1001</td>\n",
       "      <td>2018-10</td>\n",
       "      <td>65</td>\n",
       "      <td>374.11</td>\n",
       "      <td>393.0</td>\n",
       "      <td>53.0</td>\n",
       "      <td>22330.49</td>\n",
       "      <td>surf</td>\n",
       "      <td>50</td>\n",
       "      <td>15360</td>\n",
       "      <td>500</td>\n",
       "      <td>20.0</td>\n",
       "      <td>10.0</td>\n",
       "      <td>0.03</td>\n",
       "      <td>0.03</td>\n",
       "      <td>surf</td>\n",
       "    </tr>\n",
       "    <tr>\n",
       "      <th>4</th>\n",
       "      <td>1001</td>\n",
       "      <td>2018-11</td>\n",
       "      <td>64</td>\n",
       "      <td>404.59</td>\n",
       "      <td>426.0</td>\n",
       "      <td>36.0</td>\n",
       "      <td>18504.30</td>\n",
       "      <td>surf</td>\n",
       "      <td>50</td>\n",
       "      <td>15360</td>\n",
       "      <td>500</td>\n",
       "      <td>20.0</td>\n",
       "      <td>10.0</td>\n",
       "      <td>0.03</td>\n",
       "      <td>0.03</td>\n",
       "      <td>surf</td>\n",
       "    </tr>\n",
       "    <tr>\n",
       "      <th>...</th>\n",
       "      <td>...</td>\n",
       "      <td>...</td>\n",
       "      <td>...</td>\n",
       "      <td>...</td>\n",
       "      <td>...</td>\n",
       "      <td>...</td>\n",
       "      <td>...</td>\n",
       "      <td>...</td>\n",
       "      <td>...</td>\n",
       "      <td>...</td>\n",
       "      <td>...</td>\n",
       "      <td>...</td>\n",
       "      <td>...</td>\n",
       "      <td>...</td>\n",
       "      <td>...</td>\n",
       "      <td>...</td>\n",
       "    </tr>\n",
       "    <tr>\n",
       "      <th>2253</th>\n",
       "      <td>1498</td>\n",
       "      <td>2018-12</td>\n",
       "      <td>39</td>\n",
       "      <td>324.77</td>\n",
       "      <td>339.0</td>\n",
       "      <td>0.0</td>\n",
       "      <td>23137.69</td>\n",
       "      <td>surf</td>\n",
       "      <td>50</td>\n",
       "      <td>15360</td>\n",
       "      <td>500</td>\n",
       "      <td>20.0</td>\n",
       "      <td>10.0</td>\n",
       "      <td>0.03</td>\n",
       "      <td>0.03</td>\n",
       "      <td>surf</td>\n",
       "    </tr>\n",
       "    <tr>\n",
       "      <th>2254</th>\n",
       "      <td>1499</td>\n",
       "      <td>2018-09</td>\n",
       "      <td>41</td>\n",
       "      <td>330.37</td>\n",
       "      <td>346.0</td>\n",
       "      <td>0.0</td>\n",
       "      <td>12984.76</td>\n",
       "      <td>surf</td>\n",
       "      <td>50</td>\n",
       "      <td>15360</td>\n",
       "      <td>500</td>\n",
       "      <td>20.0</td>\n",
       "      <td>10.0</td>\n",
       "      <td>0.03</td>\n",
       "      <td>0.03</td>\n",
       "      <td>surf</td>\n",
       "    </tr>\n",
       "    <tr>\n",
       "      <th>2255</th>\n",
       "      <td>1499</td>\n",
       "      <td>2018-10</td>\n",
       "      <td>53</td>\n",
       "      <td>363.28</td>\n",
       "      <td>385.0</td>\n",
       "      <td>0.0</td>\n",
       "      <td>19492.43</td>\n",
       "      <td>surf</td>\n",
       "      <td>50</td>\n",
       "      <td>15360</td>\n",
       "      <td>500</td>\n",
       "      <td>20.0</td>\n",
       "      <td>10.0</td>\n",
       "      <td>0.03</td>\n",
       "      <td>0.03</td>\n",
       "      <td>surf</td>\n",
       "    </tr>\n",
       "    <tr>\n",
       "      <th>2256</th>\n",
       "      <td>1499</td>\n",
       "      <td>2018-11</td>\n",
       "      <td>45</td>\n",
       "      <td>288.56</td>\n",
       "      <td>308.0</td>\n",
       "      <td>0.0</td>\n",
       "      <td>16813.83</td>\n",
       "      <td>surf</td>\n",
       "      <td>50</td>\n",
       "      <td>15360</td>\n",
       "      <td>500</td>\n",
       "      <td>20.0</td>\n",
       "      <td>10.0</td>\n",
       "      <td>0.03</td>\n",
       "      <td>0.03</td>\n",
       "      <td>surf</td>\n",
       "    </tr>\n",
       "    <tr>\n",
       "      <th>2257</th>\n",
       "      <td>1499</td>\n",
       "      <td>2018-12</td>\n",
       "      <td>65</td>\n",
       "      <td>468.10</td>\n",
       "      <td>496.0</td>\n",
       "      <td>0.0</td>\n",
       "      <td>22059.21</td>\n",
       "      <td>surf</td>\n",
       "      <td>50</td>\n",
       "      <td>15360</td>\n",
       "      <td>500</td>\n",
       "      <td>20.0</td>\n",
       "      <td>10.0</td>\n",
       "      <td>0.03</td>\n",
       "      <td>0.03</td>\n",
       "      <td>surf</td>\n",
       "    </tr>\n",
       "  </tbody>\n",
       "</table>\n",
       "<p>2258 rows × 16 columns</p>\n",
       "</div>"
      ],
      "text/plain": [
       "      user_id    month  num_calls  original_total_minutes  charged_minutes  \\\n",
       "0        1000  2018-12         16                  116.83            124.0   \n",
       "1        1001  2018-08         27                  171.14            182.0   \n",
       "2        1001  2018-09         49                  297.69            315.0   \n",
       "3        1001  2018-10         65                  374.11            393.0   \n",
       "4        1001  2018-11         64                  404.59            426.0   \n",
       "...       ...      ...        ...                     ...              ...   \n",
       "2253     1498  2018-12         39                  324.77            339.0   \n",
       "2254     1499  2018-09         41                  330.37            346.0   \n",
       "2255     1499  2018-10         53                  363.28            385.0   \n",
       "2256     1499  2018-11         45                  288.56            308.0   \n",
       "2257     1499  2018-12         65                  468.10            496.0   \n",
       "\n",
       "      numb_messages  mb_used_per_month      plan  messages_included  \\\n",
       "0              11.0            1901.47  ultimate               1000   \n",
       "1              30.0            6919.15      surf                 50   \n",
       "2              44.0           13314.82      surf                 50   \n",
       "3              53.0           22330.49      surf                 50   \n",
       "4              36.0           18504.30      surf                 50   \n",
       "...             ...                ...       ...                ...   \n",
       "2253            0.0           23137.69      surf                 50   \n",
       "2254            0.0           12984.76      surf                 50   \n",
       "2255            0.0           19492.43      surf                 50   \n",
       "2256            0.0           16813.83      surf                 50   \n",
       "2257            0.0           22059.21      surf                 50   \n",
       "\n",
       "      mb_per_month_included  minutes_included  usd_monthly_pay  usd_per_gb  \\\n",
       "0                     30720              3000             70.0         7.0   \n",
       "1                     15360               500             20.0        10.0   \n",
       "2                     15360               500             20.0        10.0   \n",
       "3                     15360               500             20.0        10.0   \n",
       "4                     15360               500             20.0        10.0   \n",
       "...                     ...               ...              ...         ...   \n",
       "2253                  15360               500             20.0        10.0   \n",
       "2254                  15360               500             20.0        10.0   \n",
       "2255                  15360               500             20.0        10.0   \n",
       "2256                  15360               500             20.0        10.0   \n",
       "2257                  15360               500             20.0        10.0   \n",
       "\n",
       "      usd_per_message  usd_per_minute plan_name  \n",
       "0                0.01            0.01  ultimate  \n",
       "1                0.03            0.03      surf  \n",
       "2                0.03            0.03      surf  \n",
       "3                0.03            0.03      surf  \n",
       "4                0.03            0.03      surf  \n",
       "...               ...             ...       ...  \n",
       "2253             0.03            0.03      surf  \n",
       "2254             0.03            0.03      surf  \n",
       "2255             0.03            0.03      surf  \n",
       "2256             0.03            0.03      surf  \n",
       "2257             0.03            0.03      surf  \n",
       "\n",
       "[2258 rows x 16 columns]"
      ]
     },
     "execution_count": 26,
     "metadata": {},
     "output_type": "execute_result"
    }
   ],
   "source": [
    "# para facilitar el código haré df como el dataframe al cual añadiré los datos necesarios para los cálculos\n",
    "# Le incluiré la información completa de los planes \n",
    "df = data_per_user_month_general.merge(plans,\n",
    "              left_on='plan',\n",
    "              right_on='plan_name',\n",
    "              how='left'\n",
    "              )\n",
    "\n",
    "df\n"
   ]
  },
  {
   "cell_type": "markdown",
   "metadata": {},
   "source": [
    "ESTA SECCIÓN LA USARÉ PARA COMBINAR UN DF PREVIO PARA LA ULTIMA PRUEBA DE HIPOTESIS"
   ]
  },
  {
   "cell_type": "code",
   "execution_count": 48,
   "metadata": {},
   "outputs": [],
   "source": [
    "# Unir dataframes de data_ny_nj y data_other para que contengan su información de ingresos\n",
    "# Unir los dos dataframes haciendo coincidir el user_id pero manteniendo solo la información de los usuarios de NY-NJ\n",
    "data_ny_nj = df[df['user_id'].isin(data_ny_nj['user_id'])].copy()\n",
    "# Unir los dos dataframes haciendo coincidir el user_id pero manteniendo solo la información de los usuarios que no son de NY-NJ\n",
    "data_other = df[~df['user_id'].isin(data_ny_nj['user_id'])].copy()\n"
   ]
  },
  {
   "cell_type": "code",
   "execution_count": 28,
   "metadata": {
    "id": "5FGCf_c60q1I"
   },
   "outputs": [
    {
     "name": "stdout",
     "output_type": "stream",
     "text": [
      "   user_id    month      plan  monthly_revenue\n",
      "0     1000  2018-12  ultimate        70.000000\n",
      "1     1001  2018-08      surf        20.000000\n",
      "2     1001  2018-09      surf        20.000000\n",
      "3     1001  2018-10      surf        88.161191\n",
      "4     1001  2018-11      surf        50.706055\n",
      "5     1001  2018-12      surf        59.152148\n",
      "6     1002  2018-10      surf        20.000000\n",
      "7     1002  2018-11      surf        58.916797\n",
      "8     1002  2018-12      surf        20.000000\n",
      "9     1003  2018-12      surf       152.222930\n"
     ]
    }
   ],
   "source": [
    "# Calcula el ingreso mensual para cada usuario\n",
    "\n",
    "# Calcular excesos\n",
    "df['excess_calls'] = (df['charged_minutes'] - df['minutes_included']).clip(lower=0) # clip(lower=0) asegura que no haya valores negativos\n",
    "df['excess_messages'] = (df['numb_messages'] - df['messages_included']).clip(lower=0)\n",
    "df['excess_mb'] = (df['mb_used_per_month'] - df['mb_per_month_included']).clip(lower=0)\n",
    "df['excess_gb'] = df['excess_mb'] / 1024\n",
    "\n",
    "# Calcular costo por excedentes\n",
    "df['cost_calls'] = df['excess_calls'] * df['usd_per_minute']\n",
    "df['cost_messages'] = df['excess_messages'] * df['usd_per_message']\n",
    "df['cost_data'] = df['excess_gb'] * df['usd_per_gb']\n",
    "\n",
    "# Sumar tarifa mensual y costos extra para obtener el ingreso total\n",
    "df['monthly_revenue'] = (\n",
    "    df['usd_monthly_pay']\n",
    "    + df['cost_calls']\n",
    "    + df['cost_messages']\n",
    "    + df['cost_data']\n",
    ")\n",
    "\n",
    "# Imprime las primeras filas\n",
    "print(df[['user_id','month','plan','monthly_revenue']].head(10))\n"
   ]
  },
  {
   "cell_type": "markdown",
   "metadata": {
    "id": "-jtyHzJb0q1I"
   },
   "source": [
    "## Estudia el comportamiento de usuario"
   ]
  },
  {
   "cell_type": "markdown",
   "metadata": {
    "id": "AxU3Y0N70q1J"
   },
   "source": [
    "[Calcula algunas estadísticas descriptivas para los datos agregados y fusionados que nos sean útiles y que muestren un panorama general captado por los datos. Dibuja gráficos útiles para facilitar la comprensión. Dado que la tarea principal es comparar las tarifas y decidir cuál es más rentable, las estadísticas y gráficas deben calcularse por tarifa.]\n",
    "\n",
    "[En los comentarios hallarás pistas relevantes para las llamadas, pero no las hay para los mensajes e Internet. Sin embargo, el principio del estudio estadístico que se aplica para ellos es el mismo que para las llamadas.]"
   ]
  },
  {
   "cell_type": "markdown",
   "metadata": {
    "id": "vtW4CJEe0q1J"
   },
   "source": [
    "### Llamadas"
   ]
  },
  {
   "cell_type": "code",
   "execution_count": 29,
   "metadata": {
    "id": "Jf5v5--k0q1J"
   },
   "outputs": [
    {
     "data": {
      "image/png": "[encoded data removed]",
      "text/plain": [
       "<Figure size 1000x600 with 1 Axes>"
      ]
     },
     "metadata": {},
     "output_type": "display_data"
    }
   ],
   "source": [
    "import matplotlib.pyplot as plt\n",
    "\n",
    "# Compara la duración promedio de llamadas por cada plan y por cada mes. Traza un gráfico de barras para visualizarla.\n",
    "data_plan_month_mean = df.groupby(['plan', 'month'])[['original_total_minutes']].mean().reset_index()\n",
    "\n",
    "# Filtramos los datos para separar el plan surf y el plan ultimate\n",
    "data_surf = data_plan_month_mean[data_plan_month_mean['plan'] == 'surf']\n",
    "data_ultimate = data_plan_month_mean[data_plan_month_mean['plan'] == 'ultimate']\n",
    "\n",
    "# Crear figura y ejes\n",
    "fig, ax = plt.subplots(figsize=(10, 6))\n",
    "\n",
    "# Gráfico de barras\n",
    "data_surf.plot(\n",
    "    x='month',\n",
    "    y='original_total_minutes',\n",
    "    kind='bar',\n",
    "    color='blue',\n",
    "    alpha=0.5,\n",
    "    label='Surf',\n",
    "    ax=ax\n",
    ")\n",
    "data_ultimate.plot(\n",
    "    x='month',\n",
    "    y='original_total_minutes',\n",
    "    kind='bar',\n",
    "    color='orange',\n",
    "    alpha=0.5,\n",
    "    label='Ultimate',\n",
    "    ax=ax\n",
    ")\n",
    "ax.set_xlabel('Mes')\n",
    "ax.set_ylabel('Minutos promedio')\n",
    "ax.legend(loc='upper center')\n",
    "ax.set_title('Duración promedio de llamadas por plan y mes')\n",
    "plt.xticks(rotation=45)\n",
    "plt.show()  # Muestra el gráfico"
   ]
  },
  {
   "cell_type": "code",
   "execution_count": 30,
   "metadata": {
    "id": "QoLqW1S_0q1J"
   },
   "outputs": [
    {
     "data": {
      "image/png": "[encoded data removed]",
      "text/plain": [
       "<Figure size 1000x600 with 1 Axes>"
      ]
     },
     "metadata": {},
     "output_type": "display_data"
    }
   ],
   "source": [
    "# Compara el número de minutos mensuales que necesitan los usuarios de cada plan. Traza un histograma.\n",
    "# Filtramos los datos para separar el plan surf y el plan ultimate\n",
    "data_surf = df[df['plan'] == 'surf']\n",
    "data_ultimate = df[df['plan'] == 'ultimate']\n",
    "\n",
    "# Crear figura y ejes\n",
    "fig, ax = plt.subplots(figsize=(10, 6))\n",
    "# Histograma para el plan surf\n",
    "data_surf['original_total_minutes'].hist(\n",
    "    bins=30,\n",
    "    alpha=0.5,\n",
    "    color='blue',\n",
    "    label='Surf',\n",
    "    ax=ax\n",
    ")\n",
    "# Histograma para el plan ultimate\n",
    "data_ultimate['original_total_minutes'].hist(\n",
    "    bins=30,\n",
    "    alpha=0.5,\n",
    "    color='orange',\n",
    "    label='Ultimate',\n",
    "    ax=ax\n",
    ")\n",
    "ax.set_xlabel('Minutos mensuales')\n",
    "ax.set_ylabel('Frecuencia')\n",
    "ax.legend(loc='upper right')\n",
    "plt.title('Distribución de minutos mensuales por plan')\n",
    "plt.xticks(rotation=45)\n",
    "plt.show()\n",
    "\n"
   ]
  },
  {
   "cell_type": "markdown",
   "metadata": {
    "id": "bLS9T8OH0q1K"
   },
   "source": [
    "[Calcula la media y la variable de la duración de las llamadas para averiguar si los usuarios de los distintos planes se comportan de forma diferente al realizar sus llamadas.]"
   ]
  },
  {
   "cell_type": "code",
   "execution_count": 31,
   "metadata": {
    "id": "oSndbAnt0q1K"
   },
   "outputs": [
    {
     "data": {
      "application/vnd.microsoft.datawrangler.viewer.v0+json": {
       "columns": [
        {
         "name": "index",
         "rawType": "int64",
         "type": "integer"
        },
        {
         "name": "plan",
         "rawType": "object",
         "type": "string"
        },
        {
         "name": "month",
         "rawType": "period[M]",
         "type": "unknown"
        },
        {
         "name": "mean_duration",
         "rawType": "float64",
         "type": "float"
        },
        {
         "name": "var_duration",
         "rawType": "float64",
         "type": "float"
        }
       ],
       "conversionMethod": "pd.DataFrame",
       "ref": "490ecd2b-25aa-46d8-abde-e96a6faf9ce3",
       "rows": [
        [
         "0",
         "surf",
         "2018-01",
         "192.84",
         "14795.440200000001"
        ],
        [
         "1",
         "surf",
         "2018-02",
         "280.8511111111111",
         "46959.21996111111"
        ],
        [
         "2",
         "surf",
         "2018-03",
         "310.97",
         "31821.317990909083"
        ],
        [
         "3",
         "surf",
         "2018-04",
         "332.38",
         "45615.66679591838"
        ],
        [
         "4",
         "surf",
         "2018-05",
         "387.108",
         "50778.12745945945"
        ],
        [
         "5",
         "surf",
         "2018-06",
         "411.450625",
         "39424.05402276316"
        ],
        [
         "6",
         "surf",
         "2018-07",
         "428.0609166666666",
         "53364.540231925785"
        ],
        [
         "7",
         "surf",
         "2018-08",
         "394.4747169811321",
         "46639.24087317889"
        ],
        [
         "8",
         "surf",
         "2018-09",
         "397.1332984293194",
         "39785.30297379995"
        ],
        [
         "9",
         "surf",
         "2018-10",
         "414.4357327586207",
         "44103.681802923944"
        ],
        [
         "10",
         "surf",
         "2018-11",
         "408.2554151624549",
         "43560.87492781612"
        ],
        [
         "11",
         "surf",
         "2018-12",
         "457.54707395498394",
         "53646.78189753967"
        ],
        [
         "12",
         "ultimate",
         "2018-01",
         "183.1625",
         "14991.369958333336"
        ],
        [
         "13",
         "ultimate",
         "2018-02",
         "443.1716666666666",
         "48579.58153666668"
        ],
        [
         "14",
         "ultimate",
         "2018-03",
         "285.70166666666665",
         "54273.91725151516"
        ],
        [
         "15",
         "ultimate",
         "2018-04",
         "316.5080952380952",
         "31057.727496190473"
        ],
        [
         "16",
         "ultimate",
         "2018-05",
         "383.6648275862069",
         "39290.61094014777"
        ],
        [
         "17",
         "ultimate",
         "2018-06",
         "365.3582222222222",
         "33837.7701558586"
        ],
        [
         "18",
         "ultimate",
         "2018-07",
         "403.7672881355932",
         "64844.42695803624"
        ],
        [
         "19",
         "ultimate",
         "2018-08",
         "397.27478873239437",
         "47680.18942531188"
        ],
        [
         "20",
         "ultimate",
         "2018-09",
         "413.28732558139535",
         "50994.50551393983"
        ],
        [
         "21",
         "ultimate",
         "2018-10",
         "429.2172380952381",
         "47081.62385095238"
        ],
        [
         "22",
         "ultimate",
         "2018-11",
         "423.81468253968256",
         "53273.63731949841"
        ],
        [
         "23",
         "ultimate",
         "2018-12",
         "438.82483221476514",
         "53967.73160892434"
        ]
       ],
       "shape": {
        "columns": 4,
        "rows": 24
       }
      },
      "text/html": [
       "<div>\n",
       "<style scoped>\n",
       "    .dataframe tbody tr th:only-of-type {\n",
       "        vertical-align: middle;\n",
       "    }\n",
       "\n",
       "    .dataframe tbody tr th {\n",
       "        vertical-align: top;\n",
       "    }\n",
       "\n",
       "    .dataframe thead th {\n",
       "        text-align: right;\n",
       "    }\n",
       "</style>\n",
       "<table border=\"1\" class=\"dataframe\">\n",
       "  <thead>\n",
       "    <tr style=\"text-align: right;\">\n",
       "      <th></th>\n",
       "      <th>plan</th>\n",
       "      <th>month</th>\n",
       "      <th>mean_duration</th>\n",
       "      <th>var_duration</th>\n",
       "    </tr>\n",
       "  </thead>\n",
       "  <tbody>\n",
       "    <tr>\n",
       "      <th>0</th>\n",
       "      <td>surf</td>\n",
       "      <td>2018-01</td>\n",
       "      <td>192.840000</td>\n",
       "      <td>14795.440200</td>\n",
       "    </tr>\n",
       "    <tr>\n",
       "      <th>1</th>\n",
       "      <td>surf</td>\n",
       "      <td>2018-02</td>\n",
       "      <td>280.851111</td>\n",
       "      <td>46959.219961</td>\n",
       "    </tr>\n",
       "    <tr>\n",
       "      <th>2</th>\n",
       "      <td>surf</td>\n",
       "      <td>2018-03</td>\n",
       "      <td>310.970000</td>\n",
       "      <td>31821.317991</td>\n",
       "    </tr>\n",
       "    <tr>\n",
       "      <th>3</th>\n",
       "      <td>surf</td>\n",
       "      <td>2018-04</td>\n",
       "      <td>332.380000</td>\n",
       "      <td>45615.666796</td>\n",
       "    </tr>\n",
       "    <tr>\n",
       "      <th>4</th>\n",
       "      <td>surf</td>\n",
       "      <td>2018-05</td>\n",
       "      <td>387.108000</td>\n",
       "      <td>50778.127459</td>\n",
       "    </tr>\n",
       "    <tr>\n",
       "      <th>5</th>\n",
       "      <td>surf</td>\n",
       "      <td>2018-06</td>\n",
       "      <td>411.450625</td>\n",
       "      <td>39424.054023</td>\n",
       "    </tr>\n",
       "    <tr>\n",
       "      <th>6</th>\n",
       "      <td>surf</td>\n",
       "      <td>2018-07</td>\n",
       "      <td>428.060917</td>\n",
       "      <td>53364.540232</td>\n",
       "    </tr>\n",
       "    <tr>\n",
       "      <th>7</th>\n",
       "      <td>surf</td>\n",
       "      <td>2018-08</td>\n",
       "      <td>394.474717</td>\n",
       "      <td>46639.240873</td>\n",
       "    </tr>\n",
       "    <tr>\n",
       "      <th>8</th>\n",
       "      <td>surf</td>\n",
       "      <td>2018-09</td>\n",
       "      <td>397.133298</td>\n",
       "      <td>39785.302974</td>\n",
       "    </tr>\n",
       "    <tr>\n",
       "      <th>9</th>\n",
       "      <td>surf</td>\n",
       "      <td>2018-10</td>\n",
       "      <td>414.435733</td>\n",
       "      <td>44103.681803</td>\n",
       "    </tr>\n",
       "    <tr>\n",
       "      <th>10</th>\n",
       "      <td>surf</td>\n",
       "      <td>2018-11</td>\n",
       "      <td>408.255415</td>\n",
       "      <td>43560.874928</td>\n",
       "    </tr>\n",
       "    <tr>\n",
       "      <th>11</th>\n",
       "      <td>surf</td>\n",
       "      <td>2018-12</td>\n",
       "      <td>457.547074</td>\n",
       "      <td>53646.781898</td>\n",
       "    </tr>\n",
       "    <tr>\n",
       "      <th>12</th>\n",
       "      <td>ultimate</td>\n",
       "      <td>2018-01</td>\n",
       "      <td>183.162500</td>\n",
       "      <td>14991.369958</td>\n",
       "    </tr>\n",
       "    <tr>\n",
       "      <th>13</th>\n",
       "      <td>ultimate</td>\n",
       "      <td>2018-02</td>\n",
       "      <td>443.171667</td>\n",
       "      <td>48579.581537</td>\n",
       "    </tr>\n",
       "    <tr>\n",
       "      <th>14</th>\n",
       "      <td>ultimate</td>\n",
       "      <td>2018-03</td>\n",
       "      <td>285.701667</td>\n",
       "      <td>54273.917252</td>\n",
       "    </tr>\n",
       "    <tr>\n",
       "      <th>15</th>\n",
       "      <td>ultimate</td>\n",
       "      <td>2018-04</td>\n",
       "      <td>316.508095</td>\n",
       "      <td>31057.727496</td>\n",
       "    </tr>\n",
       "    <tr>\n",
       "      <th>16</th>\n",
       "      <td>ultimate</td>\n",
       "      <td>2018-05</td>\n",
       "      <td>383.664828</td>\n",
       "      <td>39290.610940</td>\n",
       "    </tr>\n",
       "    <tr>\n",
       "      <th>17</th>\n",
       "      <td>ultimate</td>\n",
       "      <td>2018-06</td>\n",
       "      <td>365.358222</td>\n",
       "      <td>33837.770156</td>\n",
       "    </tr>\n",
       "    <tr>\n",
       "      <th>18</th>\n",
       "      <td>ultimate</td>\n",
       "      <td>2018-07</td>\n",
       "      <td>403.767288</td>\n",
       "      <td>64844.426958</td>\n",
       "    </tr>\n",
       "    <tr>\n",
       "      <th>19</th>\n",
       "      <td>ultimate</td>\n",
       "      <td>2018-08</td>\n",
       "      <td>397.274789</td>\n",
       "      <td>47680.189425</td>\n",
       "    </tr>\n",
       "    <tr>\n",
       "      <th>20</th>\n",
       "      <td>ultimate</td>\n",
       "      <td>2018-09</td>\n",
       "      <td>413.287326</td>\n",
       "      <td>50994.505514</td>\n",
       "    </tr>\n",
       "    <tr>\n",
       "      <th>21</th>\n",
       "      <td>ultimate</td>\n",
       "      <td>2018-10</td>\n",
       "      <td>429.217238</td>\n",
       "      <td>47081.623851</td>\n",
       "    </tr>\n",
       "    <tr>\n",
       "      <th>22</th>\n",
       "      <td>ultimate</td>\n",
       "      <td>2018-11</td>\n",
       "      <td>423.814683</td>\n",
       "      <td>53273.637319</td>\n",
       "    </tr>\n",
       "    <tr>\n",
       "      <th>23</th>\n",
       "      <td>ultimate</td>\n",
       "      <td>2018-12</td>\n",
       "      <td>438.824832</td>\n",
       "      <td>53967.731609</td>\n",
       "    </tr>\n",
       "  </tbody>\n",
       "</table>\n",
       "</div>"
      ],
      "text/plain": [
       "        plan    month  mean_duration  var_duration\n",
       "0       surf  2018-01     192.840000  14795.440200\n",
       "1       surf  2018-02     280.851111  46959.219961\n",
       "2       surf  2018-03     310.970000  31821.317991\n",
       "3       surf  2018-04     332.380000  45615.666796\n",
       "4       surf  2018-05     387.108000  50778.127459\n",
       "5       surf  2018-06     411.450625  39424.054023\n",
       "6       surf  2018-07     428.060917  53364.540232\n",
       "7       surf  2018-08     394.474717  46639.240873\n",
       "8       surf  2018-09     397.133298  39785.302974\n",
       "9       surf  2018-10     414.435733  44103.681803\n",
       "10      surf  2018-11     408.255415  43560.874928\n",
       "11      surf  2018-12     457.547074  53646.781898\n",
       "12  ultimate  2018-01     183.162500  14991.369958\n",
       "13  ultimate  2018-02     443.171667  48579.581537\n",
       "14  ultimate  2018-03     285.701667  54273.917252\n",
       "15  ultimate  2018-04     316.508095  31057.727496\n",
       "16  ultimate  2018-05     383.664828  39290.610940\n",
       "17  ultimate  2018-06     365.358222  33837.770156\n",
       "18  ultimate  2018-07     403.767288  64844.426958\n",
       "19  ultimate  2018-08     397.274789  47680.189425\n",
       "20  ultimate  2018-09     413.287326  50994.505514\n",
       "21  ultimate  2018-10     429.217238  47081.623851\n",
       "22  ultimate  2018-11     423.814683  53273.637319\n",
       "23  ultimate  2018-12     438.824832  53967.731609"
      ]
     },
     "execution_count": 31,
     "metadata": {},
     "output_type": "execute_result"
    }
   ],
   "source": [
    "# Calcula la media y la varianza de la duración mensual de llamadas.\n",
    "# Agrupar por plan y mes, y calcular la media y varianza de la duración de llamadas\n",
    "data_plan_month = df.groupby(['plan', 'month'])[['original_total_minutes']].agg(['mean', 'var']).reset_index()\n",
    "# Renombrar las columnas para mayor claridad\n",
    "data_plan_month.columns = ['plan', 'month', 'mean_duration', 'var_duration']\n",
    "# Imprimir el resultado\n",
    "data_plan_month\n",
    "\n"
   ]
  },
  {
   "cell_type": "code",
   "execution_count": 32,
   "metadata": {
    "id": "nZzoRUKc0q1K"
   },
   "outputs": [
    {
     "name": "stderr",
     "output_type": "stream",
     "text": [
      "C:\\Users\\pva10\\AppData\\Local\\Temp\\ipykernel_25524\\2832382197.py:3: SettingWithCopyWarning: \n",
      "A value is trying to be set on a copy of a slice from a DataFrame.\n",
      "Try using .loc[row_indexer,col_indexer] = value instead\n",
      "\n",
      "See the caveats in the documentation: https://pandas.pydata.org/pandas-docs/stable/user_guide/indexing.html#returning-a-view-versus-a-copy\n",
      "  data_surf['plan'] = 'Surf'\n",
      "C:\\Users\\pva10\\AppData\\Local\\Temp\\ipykernel_25524\\2832382197.py:4: SettingWithCopyWarning: \n",
      "A value is trying to be set on a copy of a slice from a DataFrame.\n",
      "Try using .loc[row_indexer,col_indexer] = value instead\n",
      "\n",
      "See the caveats in the documentation: https://pandas.pydata.org/pandas-docs/stable/user_guide/indexing.html#returning-a-view-versus-a-copy\n",
      "  data_ultimate['plan'] = 'Ultimate'\n",
      "C:\\Users\\pva10\\AppData\\Local\\Temp\\ipykernel_25524\\2832382197.py:9: FutureWarning: \n",
      "\n",
      "Passing `palette` without assigning `hue` is deprecated and will be removed in v0.14.0. Assign the `x` variable to `hue` and set `legend=False` for the same effect.\n",
      "\n",
      "  sns.boxplot(data=combined_data, x='plan', y='original_total_minutes', palette=['skyblue', 'orange'])\n"
     ]
    },
    {
     "data": {
      "image/png": "[encoded data removed]",
      "text/plain": [
       "<Figure size 800x600 with 1 Axes>"
      ]
     },
     "metadata": {},
     "output_type": "display_data"
    }
   ],
   "source": [
    "# Traza un diagrama de caja para visualizar la distribución de la duración mensual de llamadas\n",
    "# Unimos ambos dataframes en uno solo con una columna adicional que indique el plan\n",
    "data_surf['plan'] = 'Surf'\n",
    "data_ultimate['plan'] = 'Ultimate'\n",
    "combined_data = pd.concat([data_surf, data_ultimate])\n",
    "\n",
    "# Crear el boxplot\n",
    "plt.figure(figsize=(8, 6))\n",
    "sns.boxplot(data=combined_data, x='plan', y='original_total_minutes', palette=['skyblue', 'orange'])\n",
    "plt.title('Distribución de minutos mensuales por plan')\n",
    "plt.ylabel('Minutos mensuales')\n",
    "plt.xlabel('Plan')\n",
    "plt.grid(True)\n",
    "plt.show()"
   ]
  },
  {
   "cell_type": "markdown",
   "metadata": {
    "id": "r627zBO50q1K"
   },
   "source": [
    "[Elabora las conclusiones sobre el comportamiento de los usuarios con respecto a las llamadas. ¿Su comportamiento varía en función del plan?]\n",
    "\n",
    "* Por lor graficos generados se puede observar que existe una pequeña diferencia que muestra que los usuarios del plan ultimate tienden en promedio a realizar llamadas más largas. Mientras que para los ususarios del plan surf se puede observar que la distribución de los datos de los minutos, se encuentran mayormente distribuidos en valores menores a los del otro plan ya que su intervalo intercuartílico esta más hacia abajo. Sin embargo, se puede observar que para sus valores máximos superan en duración de llamadas a los del plan ultimate."
   ]
  },
  {
   "cell_type": "markdown",
   "metadata": {
    "id": "8idKy8Wh0q1L"
   },
   "source": [
    "### Mensajes"
   ]
  },
  {
   "cell_type": "code",
   "execution_count": 33,
   "metadata": {
    "id": "NXLxiTit0q1L"
   },
   "outputs": [
    {
     "data": {
      "image/png": "[encoded data removed]",
      "text/plain": [
       "<Figure size 1000x600 with 1 Axes>"
      ]
     },
     "metadata": {},
     "output_type": "display_data"
    }
   ],
   "source": [
    "# Compara el número de mensajes que tienden a enviar cada mes los usuarios de cada plan\n",
    "# Filtramos para separar por numero de mensajes y mes\n",
    "data_messsages_plan_month = df.groupby(['plan', 'month'])[['numb_messages']].mean().reset_index()\n",
    "# Filtramos los datos para separar el plan surf y el plan ultimate\n",
    "data_surf = data_messsages_plan_month[data_messsages_plan_month['plan'] == 'surf']\n",
    "data_ultimate = data_messsages_plan_month[data_messsages_plan_month['plan'] == 'ultimate']\n",
    "\n",
    "# Crear figura y ejes\n",
    "fig, ax = plt.subplots(figsize=(10, 6))\n",
    "# Gráfico de barras\n",
    "data_surf.plot(\n",
    "    x='month',\n",
    "    y='numb_messages',\n",
    "    kind='bar',\n",
    "    color='blue',\n",
    "    alpha=0.5,\n",
    "    label='Surf',\n",
    "    ax=ax\n",
    ")\n",
    "data_ultimate.plot(\n",
    "    x='month',\n",
    "    y='numb_messages',\n",
    "    kind='bar',\n",
    "    color='orange',\n",
    "    alpha=0.5,\n",
    "    label='Ultimate',\n",
    "    ax=ax\n",
    ")\n",
    "ax.set_xlabel('Mes')\n",
    "ax.set_ylabel('Mensajes promedio')\n",
    "plt.title('Mensajes promedio por mes y plan')\n",
    "ax.legend(loc='upper center')\n",
    "plt.xticks(rotation=45)\n",
    "plt.show()  "
   ]
  },
  {
   "cell_type": "markdown",
   "metadata": {
    "id": "390SSL480q1M"
   },
   "source": [
    "[Elabora las conclusiones sobre el comportamiento de los usuarios con respecto a los mensajes. ¿Su comportamiento varía en función del plan?]\n",
    "\n",
    "Se puede concluir del gráfico anterior una tendencia clara de que el plan ultimate utiliza más mensajes de texto mensualmente que los usuarios del plan surf, ya que no hay ningún mes en en que el plan surf haya superado el uso de mensajes de texto a los usuarios del plan ultimate. "
   ]
  },
  {
   "cell_type": "markdown",
   "metadata": {
    "id": "42YSypXz0q1M"
   },
   "source": [
    "### Internet"
   ]
  },
  {
   "cell_type": "code",
   "execution_count": 34,
   "metadata": {
    "id": "lSuKPtjh0q1M"
   },
   "outputs": [
    {
     "data": {
      "image/png": "[encoded data removed]",
      "text/plain": [
       "<Figure size 1000x600 with 1 Axes>"
      ]
     },
     "metadata": {},
     "output_type": "display_data"
    }
   ],
   "source": [
    "# Compara la cantidad de tráfico de Internet consumido por usuarios por plan\n",
    "# Filtramos para separar los datos por mes y plan\n",
    "data_internet_plan_month = df.groupby(['plan', 'month'])[['mb_used_per_month']].mean().reset_index()\n",
    "# Filtramos los datos para separar el plan surf y el plan ultimate\n",
    "data_internet_surf = data_internet_plan_month[data_internet_plan_month['plan'] == 'surf']\n",
    "data_internet_ultimate = data_internet_plan_month[data_internet_plan_month['plan'] == 'ultimate']\n",
    "\n",
    "# Crear figura y ejes\n",
    "fig, ax = plt.subplots(figsize=(10, 6))\n",
    "# Gráfico de barras\n",
    "data_internet_surf.plot(\n",
    "    x='month',\n",
    "    y='mb_used_per_month',\n",
    "    kind='bar',\n",
    "    color='blue',\n",
    "    alpha=0.5,\n",
    "    label='Surf',\n",
    "    ax=ax\n",
    ")\n",
    "data_internet_ultimate.plot(\n",
    "    x='month',\n",
    "    y='mb_used_per_month',\n",
    "    kind='bar',\n",
    "    color='orange',\n",
    "    alpha=0.5,\n",
    "    label='Ultimate',\n",
    "    ax=ax\n",
    ")\n",
    "ax.set_xlabel('Mes')\n",
    "ax.set_ylabel('MB promedio')\n",
    "plt.title('MB promedio por mes y plan')\n",
    "ax.legend(loc='upper center')\n",
    "plt.xticks(rotation=45)\n",
    "plt.show()"
   ]
  },
  {
   "cell_type": "code",
   "execution_count": 35,
   "metadata": {
    "id": "wnh8jYXi0q1N"
   },
   "outputs": [
    {
     "data": {
      "image/png": "[encoded data removed]",
      "text/plain": [
       "<Figure size 1000x600 with 1 Axes>"
      ]
     },
     "metadata": {},
     "output_type": "display_data"
    }
   ],
   "source": [
    "# Compara el trafico en mb mensuales que necesitan los usuarios de cada plan. Traza un histograma.\n",
    "# Filtramos los datos para separar el plan surf y el plan ultimate\n",
    "data_internet_surf = df[df['plan'] == 'surf']\n",
    "data_internet_ultimate = df[df['plan'] == 'ultimate']\n",
    "\n",
    "# Crear figura y ejes\n",
    "fig, ax = plt.subplots(figsize=(10, 6))\n",
    "# Histograma para el plan surf\n",
    "data_internet_surf['mb_used_per_month'].hist(\n",
    "    bins=30,\n",
    "    alpha=0.5,\n",
    "    color='blue',\n",
    "    label='Surf',\n",
    "    ax=ax\n",
    ")\n",
    "# Histograma para el plan ultimate  \n",
    "data_internet_ultimate['mb_used_per_month'].hist(\n",
    "    bins=30,\n",
    "    alpha=0.5,\n",
    "    color='orange',\n",
    "    label='Ultimate',\n",
    "    ax=ax\n",
    ")\n",
    "ax.set_xlabel('MB mensuales')\n",
    "ax.set_ylabel('Frecuencia')\n",
    "ax.legend(loc='upper right')\n",
    "plt.title('Distribución de MB mensuales por plan')\n",
    "plt.xticks(rotation=45)\n",
    "plt.show()"
   ]
  },
  {
   "cell_type": "code",
   "execution_count": 36,
   "metadata": {
    "id": "5VlyJ9ry0q1N"
   },
   "outputs": [
    {
     "data": {
      "application/vnd.microsoft.datawrangler.viewer.v0+json": {
       "columns": [
        {
         "name": "index",
         "rawType": "int64",
         "type": "integer"
        },
        {
         "name": "plan",
         "rawType": "object",
         "type": "string"
        },
        {
         "name": "month",
         "rawType": "period[M]",
         "type": "unknown"
        },
        {
         "name": "mean_traffic",
         "rawType": "float64",
         "type": "float"
        },
        {
         "name": "var_traffic",
         "rawType": "float64",
         "type": "float"
        }
       ],
       "conversionMethod": "pd.DataFrame",
       "ref": "cdb5b3e6-d6f2-4920-af76-cc8bc1d50011",
       "rows": [
        [
         "0",
         "surf",
         "2018-01",
         "4874.86",
         "18239954.4098"
        ],
        [
         "1",
         "surf",
         "2018-02",
         "12178.843333333332",
         "43672958.907424994"
        ],
        [
         "2",
         "surf",
         "2018-03",
         "13345.44",
         "68245557.53148183"
        ],
        [
         "3",
         "surf",
         "2018-04",
         "11984.203000000001",
         "59044940.65451532"
        ],
        [
         "4",
         "surf",
         "2018-05",
         "14201.487066666667",
         "60229678.63022643"
        ],
        [
         "5",
         "surf",
         "2018-06",
         "15308.4509375",
         "49645886.75653071"
        ],
        [
         "6",
         "surf",
         "2018-07",
         "16785.4305",
         "65229723.69610898"
        ],
        [
         "7",
         "surf",
         "2018-08",
         "16870.108364779873",
         "75052245.65463912"
        ],
        [
         "8",
         "surf",
         "2018-09",
         "16441.597801047123",
         "49424797.954980396"
        ],
        [
         "9",
         "surf",
         "2018-10",
         "17240.0749137931",
         "61679542.85066497"
        ],
        [
         "10",
         "surf",
         "2018-11",
         "16290.384043321299",
         "53301526.187697314"
        ],
        [
         "11",
         "surf",
         "2018-12",
         "17980.815305466236",
         "64881904.54172691"
        ],
        [
         "12",
         "ultimate",
         "2018-01",
         "6918.0925",
         "16394711.89429167"
        ],
        [
         "13",
         "ultimate",
         "2018-02",
         "17884.958333333332",
         "40376110.95273666"
        ],
        [
         "14",
         "ultimate",
         "2018-03",
         "18321.518333333333",
         "140339165.2970697"
        ],
        [
         "15",
         "ultimate",
         "2018-04",
         "16121.654761904761",
         "88428607.06515618"
        ],
        [
         "16",
         "ultimate",
         "2018-05",
         "16624.482413793103",
         "56790115.88759041"
        ],
        [
         "17",
         "ultimate",
         "2018-06",
         "15920.383333333333",
         "67109590.41077274"
        ],
        [
         "18",
         "ultimate",
         "2018-07",
         "16344.744406779662",
         "68419210.68208715"
        ],
        [
         "19",
         "ultimate",
         "2018-08",
         "17814.720140845067",
         "60447083.747815676"
        ],
        [
         "20",
         "ultimate",
         "2018-09",
         "16969.86953488372",
         "49339038.23848919"
        ],
        [
         "21",
         "ultimate",
         "2018-10",
         "17780.291999999998",
         "54532189.67193346"
        ],
        [
         "22",
         "ultimate",
         "2018-11",
         "16999.453095238096",
         "57900178.341002345"
        ],
        [
         "23",
         "ultimate",
         "2018-12",
         "18321.06543624161",
         "58217116.13885874"
        ]
       ],
       "shape": {
        "columns": 4,
        "rows": 24
       }
      },
      "text/html": [
       "<div>\n",
       "<style scoped>\n",
       "    .dataframe tbody tr th:only-of-type {\n",
       "        vertical-align: middle;\n",
       "    }\n",
       "\n",
       "    .dataframe tbody tr th {\n",
       "        vertical-align: top;\n",
       "    }\n",
       "\n",
       "    .dataframe thead th {\n",
       "        text-align: right;\n",
       "    }\n",
       "</style>\n",
       "<table border=\"1\" class=\"dataframe\">\n",
       "  <thead>\n",
       "    <tr style=\"text-align: right;\">\n",
       "      <th></th>\n",
       "      <th>plan</th>\n",
       "      <th>month</th>\n",
       "      <th>mean_traffic</th>\n",
       "      <th>var_traffic</th>\n",
       "    </tr>\n",
       "  </thead>\n",
       "  <tbody>\n",
       "    <tr>\n",
       "      <th>0</th>\n",
       "      <td>surf</td>\n",
       "      <td>2018-01</td>\n",
       "      <td>4874.860000</td>\n",
       "      <td>1.823995e+07</td>\n",
       "    </tr>\n",
       "    <tr>\n",
       "      <th>1</th>\n",
       "      <td>surf</td>\n",
       "      <td>2018-02</td>\n",
       "      <td>12178.843333</td>\n",
       "      <td>4.367296e+07</td>\n",
       "    </tr>\n",
       "    <tr>\n",
       "      <th>2</th>\n",
       "      <td>surf</td>\n",
       "      <td>2018-03</td>\n",
       "      <td>13345.440000</td>\n",
       "      <td>6.824556e+07</td>\n",
       "    </tr>\n",
       "    <tr>\n",
       "      <th>3</th>\n",
       "      <td>surf</td>\n",
       "      <td>2018-04</td>\n",
       "      <td>11984.203000</td>\n",
       "      <td>5.904494e+07</td>\n",
       "    </tr>\n",
       "    <tr>\n",
       "      <th>4</th>\n",
       "      <td>surf</td>\n",
       "      <td>2018-05</td>\n",
       "      <td>14201.487067</td>\n",
       "      <td>6.022968e+07</td>\n",
       "    </tr>\n",
       "    <tr>\n",
       "      <th>5</th>\n",
       "      <td>surf</td>\n",
       "      <td>2018-06</td>\n",
       "      <td>15308.450937</td>\n",
       "      <td>4.964589e+07</td>\n",
       "    </tr>\n",
       "    <tr>\n",
       "      <th>6</th>\n",
       "      <td>surf</td>\n",
       "      <td>2018-07</td>\n",
       "      <td>16785.430500</td>\n",
       "      <td>6.522972e+07</td>\n",
       "    </tr>\n",
       "    <tr>\n",
       "      <th>7</th>\n",
       "      <td>surf</td>\n",
       "      <td>2018-08</td>\n",
       "      <td>16870.108365</td>\n",
       "      <td>7.505225e+07</td>\n",
       "    </tr>\n",
       "    <tr>\n",
       "      <th>8</th>\n",
       "      <td>surf</td>\n",
       "      <td>2018-09</td>\n",
       "      <td>16441.597801</td>\n",
       "      <td>4.942480e+07</td>\n",
       "    </tr>\n",
       "    <tr>\n",
       "      <th>9</th>\n",
       "      <td>surf</td>\n",
       "      <td>2018-10</td>\n",
       "      <td>17240.074914</td>\n",
       "      <td>6.167954e+07</td>\n",
       "    </tr>\n",
       "    <tr>\n",
       "      <th>10</th>\n",
       "      <td>surf</td>\n",
       "      <td>2018-11</td>\n",
       "      <td>16290.384043</td>\n",
       "      <td>5.330153e+07</td>\n",
       "    </tr>\n",
       "    <tr>\n",
       "      <th>11</th>\n",
       "      <td>surf</td>\n",
       "      <td>2018-12</td>\n",
       "      <td>17980.815305</td>\n",
       "      <td>6.488190e+07</td>\n",
       "    </tr>\n",
       "    <tr>\n",
       "      <th>12</th>\n",
       "      <td>ultimate</td>\n",
       "      <td>2018-01</td>\n",
       "      <td>6918.092500</td>\n",
       "      <td>1.639471e+07</td>\n",
       "    </tr>\n",
       "    <tr>\n",
       "      <th>13</th>\n",
       "      <td>ultimate</td>\n",
       "      <td>2018-02</td>\n",
       "      <td>17884.958333</td>\n",
       "      <td>4.037611e+07</td>\n",
       "    </tr>\n",
       "    <tr>\n",
       "      <th>14</th>\n",
       "      <td>ultimate</td>\n",
       "      <td>2018-03</td>\n",
       "      <td>18321.518333</td>\n",
       "      <td>1.403392e+08</td>\n",
       "    </tr>\n",
       "    <tr>\n",
       "      <th>15</th>\n",
       "      <td>ultimate</td>\n",
       "      <td>2018-04</td>\n",
       "      <td>16121.654762</td>\n",
       "      <td>8.842861e+07</td>\n",
       "    </tr>\n",
       "    <tr>\n",
       "      <th>16</th>\n",
       "      <td>ultimate</td>\n",
       "      <td>2018-05</td>\n",
       "      <td>16624.482414</td>\n",
       "      <td>5.679012e+07</td>\n",
       "    </tr>\n",
       "    <tr>\n",
       "      <th>17</th>\n",
       "      <td>ultimate</td>\n",
       "      <td>2018-06</td>\n",
       "      <td>15920.383333</td>\n",
       "      <td>6.710959e+07</td>\n",
       "    </tr>\n",
       "    <tr>\n",
       "      <th>18</th>\n",
       "      <td>ultimate</td>\n",
       "      <td>2018-07</td>\n",
       "      <td>16344.744407</td>\n",
       "      <td>6.841921e+07</td>\n",
       "    </tr>\n",
       "    <tr>\n",
       "      <th>19</th>\n",
       "      <td>ultimate</td>\n",
       "      <td>2018-08</td>\n",
       "      <td>17814.720141</td>\n",
       "      <td>6.044708e+07</td>\n",
       "    </tr>\n",
       "    <tr>\n",
       "      <th>20</th>\n",
       "      <td>ultimate</td>\n",
       "      <td>2018-09</td>\n",
       "      <td>16969.869535</td>\n",
       "      <td>4.933904e+07</td>\n",
       "    </tr>\n",
       "    <tr>\n",
       "      <th>21</th>\n",
       "      <td>ultimate</td>\n",
       "      <td>2018-10</td>\n",
       "      <td>17780.292000</td>\n",
       "      <td>5.453219e+07</td>\n",
       "    </tr>\n",
       "    <tr>\n",
       "      <th>22</th>\n",
       "      <td>ultimate</td>\n",
       "      <td>2018-11</td>\n",
       "      <td>16999.453095</td>\n",
       "      <td>5.790018e+07</td>\n",
       "    </tr>\n",
       "    <tr>\n",
       "      <th>23</th>\n",
       "      <td>ultimate</td>\n",
       "      <td>2018-12</td>\n",
       "      <td>18321.065436</td>\n",
       "      <td>5.821712e+07</td>\n",
       "    </tr>\n",
       "  </tbody>\n",
       "</table>\n",
       "</div>"
      ],
      "text/plain": [
       "        plan    month  mean_traffic   var_traffic\n",
       "0       surf  2018-01   4874.860000  1.823995e+07\n",
       "1       surf  2018-02  12178.843333  4.367296e+07\n",
       "2       surf  2018-03  13345.440000  6.824556e+07\n",
       "3       surf  2018-04  11984.203000  5.904494e+07\n",
       "4       surf  2018-05  14201.487067  6.022968e+07\n",
       "5       surf  2018-06  15308.450937  4.964589e+07\n",
       "6       surf  2018-07  16785.430500  6.522972e+07\n",
       "7       surf  2018-08  16870.108365  7.505225e+07\n",
       "8       surf  2018-09  16441.597801  4.942480e+07\n",
       "9       surf  2018-10  17240.074914  6.167954e+07\n",
       "10      surf  2018-11  16290.384043  5.330153e+07\n",
       "11      surf  2018-12  17980.815305  6.488190e+07\n",
       "12  ultimate  2018-01   6918.092500  1.639471e+07\n",
       "13  ultimate  2018-02  17884.958333  4.037611e+07\n",
       "14  ultimate  2018-03  18321.518333  1.403392e+08\n",
       "15  ultimate  2018-04  16121.654762  8.842861e+07\n",
       "16  ultimate  2018-05  16624.482414  5.679012e+07\n",
       "17  ultimate  2018-06  15920.383333  6.710959e+07\n",
       "18  ultimate  2018-07  16344.744407  6.841921e+07\n",
       "19  ultimate  2018-08  17814.720141  6.044708e+07\n",
       "20  ultimate  2018-09  16969.869535  4.933904e+07\n",
       "21  ultimate  2018-10  17780.292000  5.453219e+07\n",
       "22  ultimate  2018-11  16999.453095  5.790018e+07\n",
       "23  ultimate  2018-12  18321.065436  5.821712e+07"
      ]
     },
     "execution_count": 36,
     "metadata": {},
     "output_type": "execute_result"
    }
   ],
   "source": [
    "# Calcula la media y la varianza del trafico mensual de internet.\n",
    "# Agrupar por plan y mes, y calcular la media y varianza de la duración de llamadas\n",
    "data_internet_month = df.groupby(['plan', 'month'])[['mb_used_per_month']].agg(['mean', 'var']).reset_index()\n",
    "# Renombrar las columnas para mayor claridad\n",
    "data_internet_month.columns = ['plan', 'month', 'mean_traffic', 'var_traffic']\n",
    "# Imprimir el resultado\n",
    "data_internet_month"
   ]
  },
  {
   "cell_type": "code",
   "execution_count": 37,
   "metadata": {},
   "outputs": [
    {
     "name": "stderr",
     "output_type": "stream",
     "text": [
      "C:\\Users\\pva10\\AppData\\Local\\Temp\\ipykernel_25524\\598523494.py:3: SettingWithCopyWarning: \n",
      "A value is trying to be set on a copy of a slice from a DataFrame.\n",
      "Try using .loc[row_indexer,col_indexer] = value instead\n",
      "\n",
      "See the caveats in the documentation: https://pandas.pydata.org/pandas-docs/stable/user_guide/indexing.html#returning-a-view-versus-a-copy\n",
      "  data_internet_surf['plan'] = 'Surf'\n",
      "C:\\Users\\pva10\\AppData\\Local\\Temp\\ipykernel_25524\\598523494.py:4: SettingWithCopyWarning: \n",
      "A value is trying to be set on a copy of a slice from a DataFrame.\n",
      "Try using .loc[row_indexer,col_indexer] = value instead\n",
      "\n",
      "See the caveats in the documentation: https://pandas.pydata.org/pandas-docs/stable/user_guide/indexing.html#returning-a-view-versus-a-copy\n",
      "  data_internet_ultimate['plan'] = 'Ultimate'\n",
      "C:\\Users\\pva10\\AppData\\Local\\Temp\\ipykernel_25524\\598523494.py:9: FutureWarning: \n",
      "\n",
      "Passing `palette` without assigning `hue` is deprecated and will be removed in v0.14.0. Assign the `x` variable to `hue` and set `legend=False` for the same effect.\n",
      "\n",
      "  sns.boxplot(data=combined_internet_data, x='plan', y='mb_used_per_month', palette=['skyblue', 'orange'])\n"
     ]
    },
    {
     "data": {
      "image/png": "[encoded data removed]",
      "text/plain": [
       "<Figure size 800x600 with 1 Axes>"
      ]
     },
     "metadata": {},
     "output_type": "display_data"
    }
   ],
   "source": [
    "# Traza un diagrama de caja para visualizar la distribución del tráfico mensual de internet\n",
    "# Unimos ambos dataframes en uno solo con una columna adicional que indique el plan\n",
    "data_internet_surf['plan'] = 'Surf'\n",
    "data_internet_ultimate['plan'] = 'Ultimate'\n",
    "combined_internet_data = pd.concat([data_internet_surf, data_internet_ultimate])\n",
    "\n",
    "# Crear el boxplot\n",
    "plt.figure(figsize=(8, 6))\n",
    "sns.boxplot(data=combined_internet_data, x='plan', y='mb_used_per_month', palette=['skyblue', 'orange'])\n",
    "plt.title('Distribución de MB mensuales por plan')\n",
    "plt.ylabel('MB mensuales')\n",
    "plt.xlabel('Plan')\n",
    "plt.grid(True)\n",
    "plt.show()"
   ]
  },
  {
   "cell_type": "markdown",
   "metadata": {
    "id": "UN9zwuMP0q1N"
   },
   "source": [
    "[Elabora las conclusiones sobre cómo los usuarios tienden a consumir el tráfico de Internet. ¿Su comportamiento varía en función del plan?] \n",
    "\n",
    "Si hay diferencia en el trafico de internet gastado entre ambos planes, en la gráfica de barras se puede observar que el plan ultimate tiene usuarios que en promedio usan más MB mensualmente, sin embargo es interesante ver que la diferencia entre el plan surf y plan ultimate no est tanta, podríamos deducir que los del plan surf tienden a pasarse más de sus MB contratados, se puede observar en el histograma como hay más usuarios del plan surf gastando bastantes MB por mes, al igual en el grafico de cajas, se puede observar más valores atipicos en el plan surf, sin embargo sus rangos intercuartilicos son bastante iguales. Esto se puede traducir en mayor ingreso a la empresa del plan surf ya que al pasarse estos usuarios de su plan contratado éstos estarían pagando más al mes por esos MB extras. Ya veremos más adelante cuando se analicen los ingresos en general."
   ]
  },
  {
   "cell_type": "markdown",
   "metadata": {
    "id": "tCijq3260q1N"
   },
   "source": [
    "## Ingreso"
   ]
  },
  {
   "cell_type": "markdown",
   "metadata": {
    "id": "9nq5IAcy0q1O"
   },
   "source": [
    "[Del mismo modo que has estudiado el comportamiento de los usuarios, describe estadísticamente los ingresos de los planes.]"
   ]
  },
  {
   "cell_type": "code",
   "execution_count": 38,
   "metadata": {
    "id": "tz-dq_V00q1O"
   },
   "outputs": [
    {
     "data": {
      "image/png": "[encoded data removed]",
      "text/plain": [
       "<Figure size 1000x600 with 1 Axes>"
      ]
     },
     "metadata": {},
     "output_type": "display_data"
    }
   ],
   "source": [
    "# Comparar el ingreso mensual medio de los usuarios de cada plan por mes\n",
    "# Agrupar por plan y mes, y calcular la media del ingreso mensual\n",
    "data_revenue_plan_month = df.groupby(['plan', 'month'])[['monthly_revenue']].mean().reset_index()\n",
    "# Filtramos los datos para separar el plan surf y el plan ultimate\n",
    "data_revenue_surf = data_revenue_plan_month[data_revenue_plan_month['plan'] == 'surf']\n",
    "data_revenue_ultimate = data_revenue_plan_month[data_revenue_plan_month['plan'] == 'ultimate']\n",
    "\n",
    "# Crear figura y ejes\n",
    "fig, ax = plt.subplots(figsize=(10, 6))\n",
    "# Gráfico de barras\n",
    "data_revenue_surf.plot(\n",
    "    x='month',\n",
    "    y='monthly_revenue',\n",
    "    kind='bar',\n",
    "    color='blue',\n",
    "    alpha=0.5,\n",
    "    label='Surf',\n",
    "    ax=ax\n",
    ")\n",
    "data_revenue_ultimate.plot(\n",
    "    x='month',\n",
    "    y='monthly_revenue',\n",
    "    kind='bar',\n",
    "    color='orange',\n",
    "    alpha=0.5,\n",
    "    label='Ultimate',\n",
    "    ax=ax\n",
    ")\n",
    "ax.set_xlabel('Mes')\n",
    "ax.set_ylabel('Ingreso promedio')\n",
    "plt.title('Ingreso promedio por mes y plan')\n",
    "ax.legend(loc='upper center')\n",
    "plt.xticks(rotation=45)\n",
    "plt.show()"
   ]
  },
  {
   "cell_type": "code",
   "execution_count": 39,
   "metadata": {},
   "outputs": [
    {
     "data": {
      "application/vnd.microsoft.datawrangler.viewer.v0+json": {
       "columns": [
        {
         "name": "index",
         "rawType": "int64",
         "type": "integer"
        },
        {
         "name": "plan",
         "rawType": "object",
         "type": "string"
        },
        {
         "name": "month",
         "rawType": "period[M]",
         "type": "unknown"
        },
        {
         "name": "mean_revenue",
         "rawType": "float64",
         "type": "float"
        },
        {
         "name": "var_revenue",
         "rawType": "float64",
         "type": "float"
        }
       ],
       "conversionMethod": "pd.DataFrame",
       "ref": "0939f7d8-021d-4424-94bc-92dd1af00b58",
       "rows": [
        [
         "0",
         "surf",
         "2018-01",
         "20.0",
         "0.0"
        ],
        [
         "1",
         "surf",
         "2018-02",
         "33.14388888888888",
         "372.5468071875995"
        ],
        [
         "2",
         "surf",
         "2018-03",
         "43.72983186141305",
         "1402.700671953609"
        ],
        [
         "3",
         "surf",
         "2018-04",
         "39.03338515625",
         "1092.9472353028193"
        ],
        [
         "4",
         "surf",
         "2018-05",
         "46.42588515625",
         "1848.1736324415165"
        ],
        [
         "5",
         "surf",
         "2018-06",
         "46.53981323242187",
         "1845.7971796356426"
        ],
        [
         "6",
         "surf",
         "2018-07",
         "59.85559195963541",
         "2819.6691147442784"
        ],
        [
         "7",
         "surf",
         "2018-08",
         "61.465582006682396",
         "3479.674284184949"
        ],
        [
         "8",
         "surf",
         "2018-09",
         "54.141866308082456",
         "1939.3834178006573"
        ],
        [
         "9",
         "surf",
         "2018-10",
         "61.36340315193966",
         "2946.123262974561"
        ],
        [
         "10",
         "surf",
         "2018-11",
         "54.39342241087545",
         "2103.2456274503456"
        ],
        [
         "11",
         "surf",
         "2018-12",
         "65.42252637660772",
         "3786.6351353944506"
        ],
        [
         "12",
         "ultimate",
         "2018-01",
         "70.0",
         "0.0"
        ],
        [
         "13",
         "ultimate",
         "2018-02",
         "70.0",
         "0.0"
        ],
        [
         "14",
         "ultimate",
         "2018-03",
         "73.39244791666667",
         "109.4701505234863"
        ],
        [
         "15",
         "ultimate",
         "2018-04",
         "72.771376953125",
         "112.85178378946291"
        ],
        [
         "16",
         "ultimate",
         "2018-05",
         "70.5157196255388",
         "7.71303523281031"
        ],
        [
         "17",
         "ultimate",
         "2018-06",
         "71.54262348090278",
         "61.78010602143531"
        ],
        [
         "18",
         "ultimate",
         "2018-07",
         "71.85041412870763",
         "99.29116019186846"
        ],
        [
         "19",
         "ultimate",
         "2018-08",
         "72.68010247029049",
         "136.94599296145003"
        ],
        [
         "20",
         "ultimate",
         "2018-09",
         "71.81230957031251",
         "61.17420978405845"
        ],
        [
         "21",
         "ultimate",
         "2018-10",
         "72.11161002604166",
         "153.0715274605495"
        ],
        [
         "22",
         "ultimate",
         "2018-11",
         "71.61391167534723",
         "86.53128988570174"
        ],
        [
         "23",
         "ultimate",
         "2018-12",
         "72.81086271759648",
         "188.23373165845587"
        ]
       ],
       "shape": {
        "columns": 4,
        "rows": 24
       }
      },
      "text/html": [
       "<div>\n",
       "<style scoped>\n",
       "    .dataframe tbody tr th:only-of-type {\n",
       "        vertical-align: middle;\n",
       "    }\n",
       "\n",
       "    .dataframe tbody tr th {\n",
       "        vertical-align: top;\n",
       "    }\n",
       "\n",
       "    .dataframe thead th {\n",
       "        text-align: right;\n",
       "    }\n",
       "</style>\n",
       "<table border=\"1\" class=\"dataframe\">\n",
       "  <thead>\n",
       "    <tr style=\"text-align: right;\">\n",
       "      <th></th>\n",
       "      <th>plan</th>\n",
       "      <th>month</th>\n",
       "      <th>mean_revenue</th>\n",
       "      <th>var_revenue</th>\n",
       "    </tr>\n",
       "  </thead>\n",
       "  <tbody>\n",
       "    <tr>\n",
       "      <th>0</th>\n",
       "      <td>surf</td>\n",
       "      <td>2018-01</td>\n",
       "      <td>20.000000</td>\n",
       "      <td>0.000000</td>\n",
       "    </tr>\n",
       "    <tr>\n",
       "      <th>1</th>\n",
       "      <td>surf</td>\n",
       "      <td>2018-02</td>\n",
       "      <td>33.143889</td>\n",
       "      <td>372.546807</td>\n",
       "    </tr>\n",
       "    <tr>\n",
       "      <th>2</th>\n",
       "      <td>surf</td>\n",
       "      <td>2018-03</td>\n",
       "      <td>43.729832</td>\n",
       "      <td>1402.700672</td>\n",
       "    </tr>\n",
       "    <tr>\n",
       "      <th>3</th>\n",
       "      <td>surf</td>\n",
       "      <td>2018-04</td>\n",
       "      <td>39.033385</td>\n",
       "      <td>1092.947235</td>\n",
       "    </tr>\n",
       "    <tr>\n",
       "      <th>4</th>\n",
       "      <td>surf</td>\n",
       "      <td>2018-05</td>\n",
       "      <td>46.425885</td>\n",
       "      <td>1848.173632</td>\n",
       "    </tr>\n",
       "    <tr>\n",
       "      <th>5</th>\n",
       "      <td>surf</td>\n",
       "      <td>2018-06</td>\n",
       "      <td>46.539813</td>\n",
       "      <td>1845.797180</td>\n",
       "    </tr>\n",
       "    <tr>\n",
       "      <th>6</th>\n",
       "      <td>surf</td>\n",
       "      <td>2018-07</td>\n",
       "      <td>59.855592</td>\n",
       "      <td>2819.669115</td>\n",
       "    </tr>\n",
       "    <tr>\n",
       "      <th>7</th>\n",
       "      <td>surf</td>\n",
       "      <td>2018-08</td>\n",
       "      <td>61.465582</td>\n",
       "      <td>3479.674284</td>\n",
       "    </tr>\n",
       "    <tr>\n",
       "      <th>8</th>\n",
       "      <td>surf</td>\n",
       "      <td>2018-09</td>\n",
       "      <td>54.141866</td>\n",
       "      <td>1939.383418</td>\n",
       "    </tr>\n",
       "    <tr>\n",
       "      <th>9</th>\n",
       "      <td>surf</td>\n",
       "      <td>2018-10</td>\n",
       "      <td>61.363403</td>\n",
       "      <td>2946.123263</td>\n",
       "    </tr>\n",
       "    <tr>\n",
       "      <th>10</th>\n",
       "      <td>surf</td>\n",
       "      <td>2018-11</td>\n",
       "      <td>54.393422</td>\n",
       "      <td>2103.245627</td>\n",
       "    </tr>\n",
       "    <tr>\n",
       "      <th>11</th>\n",
       "      <td>surf</td>\n",
       "      <td>2018-12</td>\n",
       "      <td>65.422526</td>\n",
       "      <td>3786.635135</td>\n",
       "    </tr>\n",
       "    <tr>\n",
       "      <th>12</th>\n",
       "      <td>ultimate</td>\n",
       "      <td>2018-01</td>\n",
       "      <td>70.000000</td>\n",
       "      <td>0.000000</td>\n",
       "    </tr>\n",
       "    <tr>\n",
       "      <th>13</th>\n",
       "      <td>ultimate</td>\n",
       "      <td>2018-02</td>\n",
       "      <td>70.000000</td>\n",
       "      <td>0.000000</td>\n",
       "    </tr>\n",
       "    <tr>\n",
       "      <th>14</th>\n",
       "      <td>ultimate</td>\n",
       "      <td>2018-03</td>\n",
       "      <td>73.392448</td>\n",
       "      <td>109.470151</td>\n",
       "    </tr>\n",
       "    <tr>\n",
       "      <th>15</th>\n",
       "      <td>ultimate</td>\n",
       "      <td>2018-04</td>\n",
       "      <td>72.771377</td>\n",
       "      <td>112.851784</td>\n",
       "    </tr>\n",
       "    <tr>\n",
       "      <th>16</th>\n",
       "      <td>ultimate</td>\n",
       "      <td>2018-05</td>\n",
       "      <td>70.515720</td>\n",
       "      <td>7.713035</td>\n",
       "    </tr>\n",
       "    <tr>\n",
       "      <th>17</th>\n",
       "      <td>ultimate</td>\n",
       "      <td>2018-06</td>\n",
       "      <td>71.542623</td>\n",
       "      <td>61.780106</td>\n",
       "    </tr>\n",
       "    <tr>\n",
       "      <th>18</th>\n",
       "      <td>ultimate</td>\n",
       "      <td>2018-07</td>\n",
       "      <td>71.850414</td>\n",
       "      <td>99.291160</td>\n",
       "    </tr>\n",
       "    <tr>\n",
       "      <th>19</th>\n",
       "      <td>ultimate</td>\n",
       "      <td>2018-08</td>\n",
       "      <td>72.680102</td>\n",
       "      <td>136.945993</td>\n",
       "    </tr>\n",
       "    <tr>\n",
       "      <th>20</th>\n",
       "      <td>ultimate</td>\n",
       "      <td>2018-09</td>\n",
       "      <td>71.812310</td>\n",
       "      <td>61.174210</td>\n",
       "    </tr>\n",
       "    <tr>\n",
       "      <th>21</th>\n",
       "      <td>ultimate</td>\n",
       "      <td>2018-10</td>\n",
       "      <td>72.111610</td>\n",
       "      <td>153.071527</td>\n",
       "    </tr>\n",
       "    <tr>\n",
       "      <th>22</th>\n",
       "      <td>ultimate</td>\n",
       "      <td>2018-11</td>\n",
       "      <td>71.613912</td>\n",
       "      <td>86.531290</td>\n",
       "    </tr>\n",
       "    <tr>\n",
       "      <th>23</th>\n",
       "      <td>ultimate</td>\n",
       "      <td>2018-12</td>\n",
       "      <td>72.810863</td>\n",
       "      <td>188.233732</td>\n",
       "    </tr>\n",
       "  </tbody>\n",
       "</table>\n",
       "</div>"
      ],
      "text/plain": [
       "        plan    month  mean_revenue  var_revenue\n",
       "0       surf  2018-01     20.000000     0.000000\n",
       "1       surf  2018-02     33.143889   372.546807\n",
       "2       surf  2018-03     43.729832  1402.700672\n",
       "3       surf  2018-04     39.033385  1092.947235\n",
       "4       surf  2018-05     46.425885  1848.173632\n",
       "5       surf  2018-06     46.539813  1845.797180\n",
       "6       surf  2018-07     59.855592  2819.669115\n",
       "7       surf  2018-08     61.465582  3479.674284\n",
       "8       surf  2018-09     54.141866  1939.383418\n",
       "9       surf  2018-10     61.363403  2946.123263\n",
       "10      surf  2018-11     54.393422  2103.245627\n",
       "11      surf  2018-12     65.422526  3786.635135\n",
       "12  ultimate  2018-01     70.000000     0.000000\n",
       "13  ultimate  2018-02     70.000000     0.000000\n",
       "14  ultimate  2018-03     73.392448   109.470151\n",
       "15  ultimate  2018-04     72.771377   112.851784\n",
       "16  ultimate  2018-05     70.515720     7.713035\n",
       "17  ultimate  2018-06     71.542623    61.780106\n",
       "18  ultimate  2018-07     71.850414    99.291160\n",
       "19  ultimate  2018-08     72.680102   136.945993\n",
       "20  ultimate  2018-09     71.812310    61.174210\n",
       "21  ultimate  2018-10     72.111610   153.071527\n",
       "22  ultimate  2018-11     71.613912    86.531290\n",
       "23  ultimate  2018-12     72.810863   188.233732"
      ]
     },
     "execution_count": 39,
     "metadata": {},
     "output_type": "execute_result"
    }
   ],
   "source": [
    "# Calcula la media y la varianza del del ingreso mensual por plan y mes\n",
    "# Agrupar por plan y mes, y calcular la media y varianza del ingreso mensual\n",
    "data_revenue_month = df.groupby(['plan', 'month'])[['monthly_revenue']].agg(['mean', 'var']).reset_index()\n",
    "# Renombrar las columnas para mayor claridad\n",
    "data_revenue_month.columns = ['plan', 'month', 'mean_revenue', 'var_revenue']\n",
    "# Imprimir el resultado\n",
    "data_revenue_month  "
   ]
  },
  {
   "cell_type": "code",
   "execution_count": 40,
   "metadata": {
    "id": "0Y1v8ZUz0q1P"
   },
   "outputs": [
    {
     "name": "stderr",
     "output_type": "stream",
     "text": [
      "C:\\Users\\pva10\\AppData\\Local\\Temp\\ipykernel_25524\\3577612767.py:3: SettingWithCopyWarning: \n",
      "A value is trying to be set on a copy of a slice from a DataFrame.\n",
      "Try using .loc[row_indexer,col_indexer] = value instead\n",
      "\n",
      "See the caveats in the documentation: https://pandas.pydata.org/pandas-docs/stable/user_guide/indexing.html#returning-a-view-versus-a-copy\n",
      "  data_revenue_surf['plan'] = 'Surf'\n",
      "C:\\Users\\pva10\\AppData\\Local\\Temp\\ipykernel_25524\\3577612767.py:4: SettingWithCopyWarning: \n",
      "A value is trying to be set on a copy of a slice from a DataFrame.\n",
      "Try using .loc[row_indexer,col_indexer] = value instead\n",
      "\n",
      "See the caveats in the documentation: https://pandas.pydata.org/pandas-docs/stable/user_guide/indexing.html#returning-a-view-versus-a-copy\n",
      "  data_revenue_ultimate['plan'] = 'Ultimate'\n",
      "C:\\Users\\pva10\\AppData\\Local\\Temp\\ipykernel_25524\\3577612767.py:9: FutureWarning: \n",
      "\n",
      "Passing `palette` without assigning `hue` is deprecated and will be removed in v0.14.0. Assign the `x` variable to `hue` and set `legend=False` for the same effect.\n",
      "\n",
      "  sns.boxplot(data=combined_revenue_data, x='plan', y='monthly_revenue', palette=['skyblue', 'orange'])\n"
     ]
    },
    {
     "data": {
      "image/png": "[encoded data removed]",
      "text/plain": [
       "<Figure size 800x600 with 1 Axes>"
      ]
     },
     "metadata": {},
     "output_type": "display_data"
    }
   ],
   "source": [
    "# Traza un diagrama de caja para visualizar la distribución de ingreso mensual\n",
    "# Unimos ambos dataframes en uno solo con una columna adicional que indique el plan\n",
    "data_revenue_surf['plan'] = 'Surf'\n",
    "data_revenue_ultimate['plan'] = 'Ultimate'\n",
    "combined_revenue_data = pd.concat([data_revenue_surf, data_revenue_ultimate])\n",
    "\n",
    "# Crear el boxplot\n",
    "plt.figure(figsize=(8, 6))\n",
    "sns.boxplot(data=combined_revenue_data, x='plan', y='monthly_revenue', palette=['skyblue', 'orange'])\n",
    "plt.title('Distribución de ingreso mensual por plan')\n",
    "plt.ylabel('Ingreso mensual')\n",
    "plt.xlabel('Plan')\n",
    "plt.grid(True)\n",
    "plt.show()"
   ]
  },
  {
   "cell_type": "code",
   "execution_count": 41,
   "metadata": {},
   "outputs": [
    {
     "name": "stdout",
     "output_type": "stream",
     "text": [
      "El ingreso total por el plan surf es: $88192.00\n",
      "El ingreso total por el plan ultimate es: $51392.49\n"
     ]
    },
    {
     "data": {
      "image/png": "[encoded data removed]",
      "text/plain": [
       "<Figure size 1000x600 with 1 Axes>"
      ]
     },
     "metadata": {},
     "output_type": "display_data"
    }
   ],
   "source": [
    "#Calcula el ingreso total de cada plan\n",
    "# Agrupar por plan y calcular la suma del ingreso mensual\n",
    "data_revenue_total = df.groupby(['plan'])[['monthly_revenue']].sum().reset_index()\n",
    "# Renombrar las columnas para mayor claridad\n",
    "data_revenue_total.columns = ['plan', 'total_revenue']\n",
    "# Imprimir el resultado \n",
    "print(f'El ingreso total por el plan surf es: ${data_revenue_total[data_revenue_total[\"plan\"] == \"surf\"][\"total_revenue\"].values[0]:.2f}')\n",
    "print(f'El ingreso total por el plan ultimate es: ${data_revenue_total[data_revenue_total[\"plan\"] == \"ultimate\"][\"total_revenue\"].values[0]:.2f}')\n",
    "# Traza un gráfico de barras para visualizar el ingreso total por plan\n",
    "# Crear figura y ejes\n",
    "fig, ax = plt.subplots(figsize=(10, 6))\n",
    "# Gráfico de barras\n",
    "data_revenue_total.plot(\n",
    "    x='plan',\n",
    "    y='total_revenue',\n",
    "    kind='bar',\n",
    "    color=['blue', 'orange'],\n",
    "    alpha=0.5,\n",
    "    ax=ax\n",
    ")\n",
    "ax.set_xlabel('Plan')\n",
    "ax.set_ylabel('Ingreso total')\n",
    "plt.title('Ingreso total por plan')\n",
    "plt.legend = False\n",
    "plt.xticks(rotation=45)\n",
    "plt.show() "
   ]
  },
  {
   "cell_type": "markdown",
   "metadata": {
    "id": "KAFidcXZ0q1P"
   },
   "source": [
    "[Elabora las conclusiones sobre cómo difiere el ingreso entre los planes.]\n",
    "\n",
    "Habiendo elaborado la gráficas anteriores se puede observar que el ingreso mensual promedio del plan ultimate tienen se puede observar en el gráfico de de cajas y en la grafica de barras unos valores bastante acotados en torno al costo normal del plan de 70 usd, por el contrario el plan surf es mucho más interesante para la empresa ya que a los usuarios no les es suficiente ese plan y tienden a pagar de más, por ejemplo lo podemos ver en el gráfico de caja y bigotes, su moda ronda los 50 usd siendo el precio usual del plan de 20 usd, claramente no les alcanza ese plan para sus necesidades y tiendesn a pasarse, pero tambien es conveniente decir que si bien su moda es de 50 usd no se acerca al valor del plan ultimate de 70 usd, por lo que a estos usuarios les sigue siendo favorable quedarse en el plan surf y seguir pagando sus excesos."
   ]
  },
  {
   "cell_type": "markdown",
   "metadata": {
    "id": "ajJ7VKeI0q1Q"
   },
   "source": [
    "## Prueba las hipótesis estadísticas"
   ]
  },
  {
   "cell_type": "markdown",
   "metadata": {
    "id": "AdXAZ-yL0q1Q"
   },
   "source": [
    "[Prueba la hipótesis de que son diferentes los ingresos promedio procedentes de los usuarios de los planes de llamada Ultimate y Surf.]"
   ]
  },
  {
   "cell_type": "markdown",
   "metadata": {
    "id": "IQwa_hsh0q1Q"
   },
   "source": [
    "[Elabora las hipótesis nula y alternativa, escoge la prueba estadística, determina el valor alfa.]\n"
   ]
  },
  {
   "cell_type": "code",
   "execution_count": 50,
   "metadata": {
    "id": "nFoPNlPq0q1R"
   },
   "outputs": [
    {
     "name": "stdout",
     "output_type": "stream",
     "text": [
      "Valor p: 0.0000\n",
      "Rechazamos la hipótesis nula: los ingresos mensuales promedio de los usuarios de los planes Surf y Ultimate son diferentes.\n"
     ]
    }
   ],
   "source": [
    "# Prueba las hipótesis\n",
    "# Hipótesis nula:c Los ingresos mensuales promedio de los usuarios de los planes Surf y Ultimate son iguales.\n",
    "# Hipótesis alternativa: Los ingresos mensuales promedio de los usuarios de los planes Surf y Ultimate son diferentes.\n",
    "# Usar la prueba t de Student para comparar las medias de dos grupos independientes\n",
    "# Filtramos los datos para separar el plan surf y el plan ultimate\n",
    "data_surf = df[df['plan'] == 'surf']\n",
    "data_ultimate = df[df['plan'] == 'ultimate']\n",
    "# Realizamos la prueba t de Student\n",
    "results= st.ttest_ind(data_surf['monthly_revenue'], data_ultimate['monthly_revenue'], equal_var=False)\n",
    "# Imprimir los resultados\n",
    "print(f'Valor p: {results.pvalue:.4f}')\n",
    "# Interpretar el resultado\n",
    "if results.pvalue < 0.05:\n",
    "    print(\"Rechazamos la hipótesis nula: los ingresos mensuales promedio de los usuarios de los planes Surf y Ultimate son diferentes.\")\n",
    "else:\n",
    "    print(\"No rechazamos la hipótesis nula: no hay evidencia suficiente para afirmar que los ingresos mensuales promedio de los usuarios de los planes Surf y Ultimate son diferentes.\")\n",
    "\n",
    "# La justificación de la prueba t de Student es que los datos son independientes y siguen una distribución normal.\n",
    "# En este caso, los datos son independientes porque cada usuario tiene un plan diferente y no hay relación entre ellos.\n"
   ]
  },
  {
   "cell_type": "markdown",
   "metadata": {
    "id": "tCcAruM60q1R"
   },
   "source": [
    "[Prueba la hipótesis de que el ingreso promedio de los usuarios del área NY-NJ es diferente al de los usuarios de otras regiones.]"
   ]
  },
  {
   "cell_type": "markdown",
   "metadata": {
    "id": "LsBgitqj0q1R"
   },
   "source": [
    "[Elabora las hipótesis nula y alternativa, escoge la prueba estadística, determina el valor alfa.]"
   ]
  },
  {
   "cell_type": "code",
   "execution_count": 51,
   "metadata": {
    "id": "Cqcj7wrZ0q1S"
   },
   "outputs": [
    {
     "name": "stdout",
     "output_type": "stream",
     "text": [
      "Valor p: 0.0072\n",
      "Rechazamos la hipótesis nula: los ingresos mensuales promedio de los usuarios de la región NY-NJ y el resto de los usuarios son diferentes.\n"
     ]
    }
   ],
   "source": [
    "# Prueba las hipótesis\n",
    "# Hipótesis nula: Los ingresos mensuales promedio de los usuarios de la región NY-NJ y el resto de los usuarios son iguales.\n",
    "# Hipótesis alternativa: Los ingresos mensuales promedio de los usuarios de la región NY-NJ y el resto de los usuarios son diferentes.\n",
    "# Usar la prueba t de Student para comparar las medias de dos grupos independientes\n",
    "results_2 = st.ttest_ind(data_ny_nj['monthly_revenue'], data_other['monthly_revenue'], equal_var=False)\n",
    "# imprimir los resultados\n",
    "print(f'Valor p: {results_2.pvalue:.4f}')\n",
    "# Interpretar el resultado\n",
    "if results_2.pvalue < 0.05:\n",
    "    print(\"Rechazamos la hipótesis nula: los ingresos mensuales promedio de los usuarios de la región NY-NJ y el resto de los usuarios son diferentes.\")\n",
    "else:\n",
    "    print(\"No rechazamos la hipótesis nula: no hay evidencia suficiente para afirmar que los ingresos mensuales promedio de los usuarios de la región NY-NJ y el resto de los usuarios son diferentes.\")\n",
    "\n",
    "# La justificación de la prueba t de Student es que los datos son independientes y siguen una distribución normal.\n",
    "# En este caso, los datos son independientes porque cada usuario tiene un plan diferente y no hay relación entre ellos.\n"
   ]
  },
  {
   "cell_type": "markdown",
   "metadata": {
    "id": "bbTR8UQO0q1T"
   },
   "source": [
    "## Conclusión general\n",
    "\n",
    "[En esta sección final, enumera tus conclusiones importantes. Asegúrate de que estas abarquen todas las decisiones (suposiciones) importantes que adoptaste y que determinaron la forma elegida para procesar y analizar los datos.]"
   ]
  },
  {
   "cell_type": "markdown",
   "metadata": {},
   "source": [
    "1. Primero resaltar la importancia de saber que preguntas quieres resolver es lo más importante, en este caso, los problemas ya planteados era para averiguar si existian o no diferencias entre los planes contratados e incluso ver si había diferencia entre ciudades. Lo cual hace que el tratamiento de los datos vaya encaminado a preparar los dataframes adecuados para simplificar el proceso, y cuando lleguemos a las hipotesis tener la certeza de que nuestros dataframes filtrados y mezclados ya están listos para el tratamiento estadístico."
   ]
  },
  {
   "cell_type": "markdown",
   "metadata": {},
   "source": [
    "2. La manera que elegí de procesar mis datos fue primero solo realizar lo mínimo necesario para cumplir con los diferentes problemas que se me venian planteando, no fue hasta las pruebas de hipótesis que descubrí que si que sería bueno haber realizado un enriquecimiento de los datos, particularmente para el dataframe de users y filtrar esos datos por la ciudad específica que me preguntaban. No tuve mayor problema en subir y realizar el enriquecimiento de datos necesario para cuando volviera a las pruebas de hipótesis ya solo bastara con citar correctamente los dataframes adecuados y específicos para resolver la problemática. "
   ]
  },
  {
   "cell_type": "markdown",
   "metadata": {},
   "source": [
    "### Conclusión general de las pruebas de hipótesis: "
   ]
  },
  {
   "cell_type": "markdown",
   "metadata": {},
   "source": [
    "3. En la primera prueba donde se ponía a prueba si la diferencia de los ingresos para los dos diferentes planes era significativa, y como resultado vimos que efectivamente los promedios de ingresos eran diferentes para cada plan, ya lo suponiamos por los resultados provistos por el estudio de ditribución y gráficas que habíamos empleado. Pero la prueba t de Student nos brinda seguridad para afirmar nuestras sospechas, ya que este análisis tiene una mayor complejidad y escrutinio estadístico, podemos afirmar con seguridad lo que ya veníamos sospechando de la clara diferencia entre los ingresos de estos dos planes."
   ]
  },
  {
   "cell_type": "markdown",
   "metadata": {},
   "source": [
    "4. La segunda prueba de hipótesis donde se ponía a prueba si había diferencia en el promedio de ingresos procedente de los ususarios de la regío NY-NJ contra el resto de regiones, a diferencia de la prueba pasada aquí venia un poco sin contexto, ya que no se habían hecho analisis previos de ingresos por región por lo que se vuelve un poco dificil predecirlo o sospecharlo antes de haber llegado a este punto, los resultados son claros, estadisticamente se demostró la clara diferencia entre los usuarios de la región NY-NJ y el resto de regiones. "
   ]
  }
 ],
 "metadata": {
  "ExecuteTimeLog": [
   {
    "duration": 828,
    "start_time": "2021-11-16T09:21:11.304Z"
   },
   {
    "duration": 893,
    "start_time": "2021-11-16T09:21:17.728Z"
   },
   {
    "duration": 1150,
    "start_time": "2021-11-16T09:21:29.568Z"
   },
   {
    "duration": 3,
    "start_time": "2021-11-16T09:24:14.495Z"
   },
   {
    "duration": 120,
    "start_time": "2021-11-16T09:24:46.630Z"
   },
   {
    "duration": 3,
    "start_time": "2021-11-16T09:28:27.882Z"
   },
   {
    "duration": 4,
    "start_time": "2021-11-16T09:29:54.281Z"
   },
   {
    "duration": 3,
    "start_time": "2021-11-16T09:30:45.936Z"
   },
   {
    "duration": 4,
    "start_time": "2021-11-16T09:31:06.300Z"
   },
   {
    "duration": 113,
    "start_time": "2021-11-16T09:31:37.208Z"
   },
   {
    "duration": 143,
    "start_time": "2021-11-16T09:31:48.656Z"
   },
   {
    "duration": 98,
    "start_time": "2021-11-16T09:31:55.678Z"
   },
   {
    "duration": 3,
    "start_time": "2021-11-16T09:32:08.535Z"
   },
   {
    "duration": 111,
    "start_time": "2021-11-16T09:32:10.120Z"
   },
   {
    "duration": 3,
    "start_time": "2021-11-16T09:32:15.732Z"
   },
   {
    "duration": 4,
    "start_time": "2021-11-16T09:32:29.423Z"
   },
   {
    "duration": 3,
    "start_time": "2021-11-16T10:03:03.074Z"
   },
   {
    "duration": 3,
    "start_time": "2021-11-16T10:10:01.288Z"
   },
   {
    "duration": 3,
    "start_time": "2021-11-16T10:10:46.923Z"
   },
   {
    "duration": 121,
    "start_time": "2021-11-16T10:37:46.494Z"
   },
   {
    "duration": 125,
    "start_time": "2021-11-16T10:38:20.632Z"
   },
   {
    "duration": 112,
    "start_time": "2021-11-16T10:46:53.001Z"
   },
   {
    "duration": 110,
    "start_time": "2021-11-16T10:48:25.775Z"
   },
   {
    "duration": 3,
    "start_time": "2021-11-16T10:50:18.720Z"
   },
   {
    "duration": 4,
    "start_time": "2021-11-16T10:50:37.649Z"
   },
   {
    "duration": 2,
    "start_time": "2021-11-16T10:50:51.884Z"
   },
   {
    "duration": 3,
    "start_time": "2021-11-16T10:51:56.237Z"
   },
   {
    "duration": 101,
    "start_time": "2021-11-16T10:53:13.791Z"
   },
   {
    "duration": 3,
    "start_time": "2021-11-16T10:55:59.186Z"
   },
   {
    "duration": 3,
    "start_time": "2021-11-16T10:56:10.751Z"
   },
   {
    "duration": 3,
    "start_time": "2021-11-16T10:56:49.038Z"
   },
   {
    "duration": 3,
    "start_time": "2021-11-16T10:56:49.174Z"
   },
   {
    "duration": 4,
    "start_time": "2021-11-16T10:56:49.414Z"
   },
   {
    "duration": 3,
    "start_time": "2021-11-16T10:56:49.680Z"
   },
   {
    "duration": 3,
    "start_time": "2021-11-16T10:56:50.370Z"
   },
   {
    "duration": 114,
    "start_time": "2021-11-16T10:59:34.518Z"
   },
   {
    "duration": 3,
    "start_time": "2021-11-16T11:01:41.201Z"
   },
   {
    "duration": 116,
    "start_time": "2021-11-16T11:01:48.754Z"
   },
   {
    "duration": 3,
    "start_time": "2021-11-16T11:02:16.685Z"
   },
   {
    "duration": 3,
    "start_time": "2021-11-16T11:02:19.479Z"
   },
   {
    "duration": 3,
    "start_time": "2021-11-16T11:02:47.067Z"
   },
   {
    "duration": 3,
    "start_time": "2021-11-16T11:02:49.353Z"
   },
   {
    "duration": 3,
    "start_time": "2021-11-16T11:03:07.835Z"
   },
   {
    "duration": 3,
    "start_time": "2021-11-16T11:03:07.953Z"
   },
   {
    "duration": 112,
    "start_time": "2021-11-16T11:07:52.072Z"
   },
   {
    "duration": 187,
    "start_time": "2021-11-16T11:09:23.468Z"
   },
   {
    "duration": 4,
    "start_time": "2021-11-16T11:10:01.455Z"
   },
   {
    "duration": 3,
    "start_time": "2021-11-16T11:10:05.069Z"
   },
   {
    "duration": 4,
    "start_time": "2021-11-16T11:10:13.376Z"
   },
   {
    "duration": 3,
    "start_time": "2021-11-16T11:10:14.434Z"
   },
   {
    "duration": 3,
    "start_time": "2021-11-16T11:10:22.853Z"
   },
   {
    "duration": 4,
    "start_time": "2021-11-16T11:27:29.279Z"
   },
   {
    "duration": 4,
    "start_time": "2021-11-16T11:29:08.919Z"
   },
   {
    "duration": 118,
    "start_time": "2021-11-16T11:29:46.703Z"
   },
   {
    "duration": 437,
    "start_time": "2021-11-16T11:36:02.181Z"
   },
   {
    "duration": 157,
    "start_time": "2021-11-16T11:36:14.388Z"
   },
   {
    "duration": 207,
    "start_time": "2021-11-16T11:47:15.898Z"
   },
   {
    "duration": 3,
    "start_time": "2021-11-16T11:53:52.092Z"
   },
   {
    "duration": 3,
    "start_time": "2021-11-16T11:53:52.236Z"
   },
   {
    "duration": 3,
    "start_time": "2021-11-16T11:59:12.005Z"
   },
   {
    "duration": 112,
    "start_time": "2021-11-16T12:00:33.446Z"
   },
   {
    "duration": 3,
    "start_time": "2021-11-16T12:02:14.453Z"
   },
   {
    "duration": 3,
    "start_time": "2021-11-16T12:02:39.512Z"
   },
   {
    "duration": 106,
    "start_time": "2021-11-16T12:03:03.460Z"
   },
   {
    "duration": 3,
    "start_time": "2021-11-17T20:37:21.139Z"
   },
   {
    "duration": 3,
    "start_time": "2021-11-17T20:37:22.229Z"
   },
   {
    "duration": 3,
    "start_time": "2021-11-17T20:38:38.806Z"
   },
   {
    "duration": 3,
    "start_time": "2021-11-17T20:38:41.958Z"
   },
   {
    "duration": 3,
    "start_time": "2021-11-17T20:43:46.551Z"
   },
   {
    "duration": 4,
    "start_time": "2021-11-17T20:58:21.835Z"
   },
   {
    "duration": 3,
    "start_time": "2021-11-17T20:59:21.872Z"
   },
   {
    "duration": 4,
    "start_time": "2021-11-17T20:59:45.352Z"
   },
   {
    "duration": 4,
    "start_time": "2021-11-17T20:59:49.646Z"
   },
   {
    "duration": 159,
    "start_time": "2021-11-17T21:02:26.949Z"
   },
   {
    "duration": 3,
    "start_time": "2021-11-17T21:03:53.461Z"
   },
   {
    "duration": 3,
    "start_time": "2021-11-17T21:03:53.694Z"
   },
   {
    "duration": 3,
    "start_time": "2021-11-17T21:05:28.145Z"
   },
   {
    "duration": 116,
    "start_time": "2021-11-17T21:05:57.787Z"
   },
   {
    "duration": 3,
    "start_time": "2021-11-17T21:06:37.993Z"
   },
   {
    "duration": 3,
    "start_time": "2021-11-17T21:06:38.261Z"
   },
   {
    "duration": 3,
    "start_time": "2021-11-17T21:11:54.358Z"
   },
   {
    "duration": 3,
    "start_time": "2021-11-17T21:12:43.846Z"
   },
   {
    "duration": 4,
    "start_time": "2021-11-17T21:13:08.773Z"
   },
   {
    "duration": 3,
    "start_time": "2021-11-17T21:14:44.441Z"
   },
   {
    "duration": 3,
    "start_time": "2021-11-17T21:15:42.059Z"
   },
   {
    "duration": 4,
    "start_time": "2021-11-17T21:15:51.995Z"
   },
   {
    "duration": 3,
    "start_time": "2021-11-17T21:15:53.923Z"
   },
   {
    "duration": 3,
    "start_time": "2021-11-17T21:15:55.282Z"
   },
   {
    "duration": 3,
    "start_time": "2021-11-17T21:16:28.492Z"
   },
   {
    "duration": 3,
    "start_time": "2021-11-17T21:16:32.603Z"
   },
   {
    "duration": 3,
    "start_time": "2021-11-17T21:17:06.941Z"
   },
   {
    "duration": 98,
    "start_time": "2021-11-17T21:18:05.733Z"
   },
   {
    "duration": 4,
    "start_time": "2021-11-17T21:21:35.255Z"
   },
   {
    "duration": 3,
    "start_time": "2021-11-17T21:21:37.804Z"
   },
   {
    "duration": 4,
    "start_time": "2021-11-17T21:23:06.071Z"
   },
   {
    "duration": 3,
    "start_time": "2021-11-17T21:23:24.799Z"
   },
   {
    "duration": 3,
    "start_time": "2021-11-17T21:23:32.591Z"
   },
   {
    "duration": 98,
    "start_time": "2021-11-17T21:28:31.559Z"
   },
   {
    "duration": 3,
    "start_time": "2021-11-17T21:28:45.448Z"
   },
   {
    "duration": 3,
    "start_time": "2021-11-17T21:29:17.303Z"
   },
   {
    "duration": 3,
    "start_time": "2021-11-17T21:29:29.617Z"
   },
   {
    "duration": 3,
    "start_time": "2021-11-17T21:29:32.681Z"
   },
   {
    "duration": 3,
    "start_time": "2021-11-17T21:36:11.474Z"
   },
   {
    "duration": 3,
    "start_time": "2021-11-17T21:36:14.791Z"
   },
   {
    "duration": 3,
    "start_time": "2021-11-17T21:36:53.943Z"
   },
   {
    "duration": 3,
    "start_time": "2021-11-17T21:36:56.165Z"
   },
   {
    "duration": 4,
    "start_time": "2021-11-17T21:37:16.590Z"
   },
   {
    "duration": 3,
    "start_time": "2021-11-17T21:37:22.702Z"
   },
   {
    "duration": 4,
    "start_time": "2021-11-17T21:38:03.479Z"
   },
   {
    "duration": 3,
    "start_time": "2021-11-17T21:38:08.601Z"
   },
   {
    "duration": 3,
    "start_time": "2021-11-17T21:38:12.928Z"
   },
   {
    "duration": 3,
    "start_time": "2021-11-17T21:38:48.896Z"
   },
   {
    "duration": 2,
    "start_time": "2021-11-17T21:38:49.171Z"
   },
   {
    "duration": 4,
    "start_time": "2021-11-17T21:39:57.889Z"
   },
   {
    "duration": 3,
    "start_time": "2021-11-17T21:39:58.057Z"
   },
   {
    "duration": 3,
    "start_time": "2021-11-17T21:41:20.108Z"
   },
   {
    "duration": 3,
    "start_time": "2021-11-17T21:41:20.629Z"
   },
   {
    "duration": 3,
    "start_time": "2021-11-17T21:42:49.136Z"
   },
   {
    "duration": 3,
    "start_time": "2021-11-17T21:43:15.137Z"
   },
   {
    "duration": 4,
    "start_time": "2021-11-17T21:43:16.766Z"
   },
   {
    "duration": 4,
    "start_time": "2021-11-17T21:43:31.711Z"
   },
   {
    "duration": 3,
    "start_time": "2021-11-17T21:43:36.312Z"
   },
   {
    "duration": 4,
    "start_time": "2021-11-17T21:45:08.825Z"
   },
   {
    "duration": 4,
    "start_time": "2021-11-17T21:45:10.119Z"
   },
   {
    "duration": 4,
    "start_time": "2021-11-17T21:45:13.748Z"
   },
   {
    "duration": 3,
    "start_time": "2021-11-17T21:45:22.219Z"
   },
   {
    "duration": 3,
    "start_time": "2021-11-17T21:45:33.412Z"
   },
   {
    "duration": 2,
    "start_time": "2021-11-17T21:46:01.885Z"
   },
   {
    "duration": 3,
    "start_time": "2021-11-17T21:46:03.628Z"
   },
   {
    "duration": 107,
    "start_time": "2021-11-17T21:47:32.512Z"
   },
   {
    "duration": 103,
    "start_time": "2021-11-17T21:50:36.243Z"
   },
   {
    "duration": 3,
    "start_time": "2021-11-18T06:28:31.440Z"
   },
   {
    "duration": 3,
    "start_time": "2021-11-18T06:29:00.168Z"
   },
   {
    "duration": 3,
    "start_time": "2021-11-18T06:31:27.008Z"
   },
   {
    "duration": 2,
    "start_time": "2021-11-18T06:35:34.288Z"
   },
   {
    "duration": 2,
    "start_time": "2021-11-18T06:38:04.527Z"
   }
  ],
  "colab": {
   "provenance": []
  },
  "kernelspec": {
   "display_name": "Python 3",
   "language": "python",
   "name": "python3"
  },
  "language_info": {
   "codemirror_mode": {
    "name": "ipython",
    "version": 3
   },
   "file_extension": ".py",
   "mimetype": "text/x-python",
   "name": "python",
   "nbconvert_exporter": "python",
   "pygments_lexer": "ipython3",
   "version": "3.13.1"
  },
  "toc": {
   "base_numbering": 1,
   "nav_menu": {},
   "number_sections": true,
   "sideBar": true,
   "skip_h1_title": false,
   "title_cell": "Table of Contents",
   "title_sidebar": "Contents",
   "toc_cell": false,
   "toc_position": {},
   "toc_section_display": true,
   "toc_window_display": true
  }
 },
 "nbformat": 4,
 "nbformat_minor": 1
}
